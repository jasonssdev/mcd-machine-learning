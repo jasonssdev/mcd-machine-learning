{
 "cells": [
  {
   "cell_type": "code",
   "execution_count": 1,
   "id": "86605e0f",
   "metadata": {},
   "outputs": [],
   "source": [
    "# import libraries\n",
    "\n",
    "import numpy as np\n",
    "import pandas as pd\n",
    "from sklearn.linear_model import LinearRegression\n",
    "from sklearn.linear_model import LogisticRegression\n",
    "from sklearn.model_selection import train_test_split\n",
    "from sklearn import metrics\n",
    "import statsmodels.api as sm\n",
    "from statsmodels.stats.outliers_influence import variance_inflation_factor\n",
    "import faraway.datasets.ozone as ozone\n",
    "import faraway.datasets.prostate as prostate "
   ]
  },
  {
   "cell_type": "code",
   "execution_count": 104,
   "id": "3d215f7d",
   "metadata": {},
   "outputs": [],
   "source": [
    "data = ozone.load()  # El objeto data contiene los datos para el problema 1"
   ]
  },
  {
   "cell_type": "code",
   "execution_count": 105,
   "id": "da9a1d82",
   "metadata": {},
   "outputs": [],
   "source": [
    "## Guardar la información en:\n",
    "# --> train: partición de entrenamiento    (incluyendo todas las variables)\n",
    "# --> test: partición para la validacíon   (incluyendo todas las variables)\n",
    "\n",
    "## Aquí va su código \n",
    "\n",
    "train, test = None, None    # Modifique estos objetos\n",
    "\n",
    "# your code here\n",
    "train, test = train_test_split(data, test_size=0.2, random_state=123)"
   ]
  },
  {
   "cell_type": "code",
   "execution_count": 106,
   "id": "ead39f3c",
   "metadata": {},
   "outputs": [
    {
     "data": {
      "application/vnd.microsoft.datawrangler.viewer.v0+json": {
       "columns": [
        {
         "name": "index",
         "rawType": "object",
         "type": "string"
        },
        {
         "name": "0",
         "rawType": "bool",
         "type": "boolean"
        }
       ],
       "ref": "e266f09f-28b7-4148-a498-e72b8d206d47",
       "rows": [
        [
         "const",
         "False"
        ],
        [
         "vh",
         "False"
        ],
        [
         "wind",
         "False"
        ],
        [
         "humidity",
         "True"
        ],
        [
         "temp",
         "True"
        ],
        [
         "ibh",
         "False"
        ],
        [
         "dpg",
         "False"
        ],
        [
         "ibt",
         "True"
        ],
        [
         "vis",
         "False"
        ],
        [
         "doy",
         "True"
        ]
       ],
       "shape": {
        "columns": 1,
        "rows": 10
       }
      },
      "text/plain": [
       "const       False\n",
       "vh          False\n",
       "wind        False\n",
       "humidity     True\n",
       "temp         True\n",
       "ibh         False\n",
       "dpg         False\n",
       "ibt          True\n",
       "vis         False\n",
       "doy          True\n",
       "dtype: bool"
      ]
     },
     "execution_count": 106,
     "metadata": {},
     "output_type": "execute_result"
    }
   ],
   "source": [
    "# Debe entregar un vector booleano (True/False) que indique si la variable es significativa (True) o no (False).\n",
    "# El orden de las variables en el vector debe ser: [const, vh, wind, humidity, temp, ibh, dpg, ibt, vis, doy]\n",
    "# const = intercepto. \n",
    "# El vector debe tener por nombre sigVars\n",
    "# Ejemplo: sigVars = [True, False, True, False, True, False, True, False, True, False]\n",
    "\n",
    "## Aquí va su código \n",
    "\n",
    "sigVars = None # Modifique este objeto \n",
    "\n",
    "# your code here\n",
    "X_train = train.drop(columns=[\"O3\"])\n",
    "X_train = sm.add_constant(X_train)\n",
    "y_train = train[\"O3\"]\n",
    "X_test = test.drop(columns=[\"O3\"])\n",
    "X_test = sm.add_constant(X_test)\n",
    "y_test = test[\"O3\"]\n",
    "model_lr_ols = sm.OLS(y_train, X_train).fit()\n",
    "sigVars = model_lr_ols.pvalues < 0.05\n",
    "sigVars"
   ]
  },
  {
   "cell_type": "code",
   "execution_count": 107,
   "id": "db6f5efe",
   "metadata": {},
   "outputs": [
    {
     "data": {
      "text/plain": [
       "np.float64(0.6938)"
      ]
     },
     "execution_count": 107,
     "metadata": {},
     "output_type": "execute_result"
    }
   ],
   "source": [
    "# Guarde el coeficiente de determinación ($R^2$) en un objeto númerico de nombre R2.\n",
    "# En caso de redondear, considerar al menos 4 decimales de precisión\n",
    "\n",
    "R2 = None # Modifique este objeto \n",
    "\n",
    "# your code here\n",
    "R2 = model_lr_ols.rsquared\n",
    "R2 = round(R2, 4)\n",
    "R2"
   ]
  },
  {
   "cell_type": "code",
   "execution_count": 108,
   "id": "c65f2f27",
   "metadata": {},
   "outputs": [
    {
     "data": {
      "text/plain": [
       "19.55081161581369"
      ]
     },
     "execution_count": 108,
     "metadata": {},
     "output_type": "execute_result"
    }
   ],
   "source": [
    "# Guardar el error cuadrático medio en un objeto númerico de nombre MSE\n",
    "MSE = None # Modifique este objeto \n",
    "\n",
    "# your code here\n",
    "y_pred = model_lr_ols.predict(X_train)\n",
    "MSE = metrics.mean_squared_error(y_train, y_pred)\n",
    "MSE"
   ]
  },
  {
   "cell_type": "code",
   "execution_count": 109,
   "id": "beb313fb",
   "metadata": {},
   "outputs": [
    {
     "name": "stdout",
     "output_type": "stream",
     "text": [
      "Modelo 1 has a lower AIC\n",
      "[np.float64(1554.0759808495568), np.float64(1597.0207391599592)]\n",
      "False\n"
     ]
    }
   ],
   "source": [
    "# your code here\n",
    "X2_train = train.drop(columns=[\"O3\"])\n",
    "y2_train = train[\"O3\"]\n",
    "X2_test = test.drop(columns=[\"O3\"])\n",
    "y2_test = test[\"O3\"]\n",
    "X2_train = X2_train[['humidity', 'temp', 'ibt', 'doy']]\n",
    "X2_test = X2_test[['humidity', 'temp', 'ibt', 'doy']]\n",
    "\n",
    "model_lr_ols2 = sm.OLS(y2_train, X2_train).fit()\n",
    "\n",
    "AIC = []\n",
    "AIC.append(model_lr_ols.aic)\n",
    "AIC.append(model_lr_ols2.aic)\n",
    "\n",
    "if AIC[0] < AIC[1]:\n",
    "    print(\"Modelo 1 has a lower AIC\")\n",
    "    preferible = False\n",
    "else:\n",
    "    print(\"Modelo 2 has a lower AIC\")\n",
    "    preferible = True\n",
    "\n",
    "print(AIC)\n",
    "print(preferible)"
   ]
  },
  {
   "cell_type": "code",
   "execution_count": 110,
   "id": "7c8f26f6",
   "metadata": {},
   "outputs": [
    {
     "name": "stdout",
     "output_type": "stream",
     "text": [
      "preferible_forward: True\n",
      "AIC_forward: 1547.6899975652686\n",
      "variables_seleccionadas: ['temp', 'ibt', 'doy', 'vh', 'humidity', 'vis']\n",
      "Test F -> F=410.7837, p-value=6.735e-129\n"
     ]
    }
   ],
   "source": [
    "AIC_forward = None                # Variable que debe modificar\n",
    "variables_seleccionadas = None    # Variable que debe modificar\n",
    "preferible_forward = None         # Variable que debe modificar\n",
    "\n",
    "all_columns = ['vh','wind','humidity','temp','ibh','dpg','ibt','vis','doy']\n",
    "selected_model2_columns = ['temp', 'ibt', 'doy']\n",
    "rest_columns = list(set(all_columns) - set(selected_model2_columns))\n",
    "\n",
    "X3_train = train[selected_model2_columns].copy()\n",
    "y3_train = train[\"O3\"].copy()\n",
    "X_full = train[all_columns].copy()\n",
    "\n",
    "model_lr_ols3 = sm.OLS(y3_train, X3_train).fit()\n",
    "aic_curr = model_lr_ols3.aic\n",
    "selected = selected_model2_columns.copy()\n",
    "\n",
    "improved = True\n",
    "while improved and len(rest_columns) > 0:\n",
    "    improved = False\n",
    "    best_var = None\n",
    "    best_aic = aic_curr\n",
    "    best_model = model_lr_ols3\n",
    "\n",
    "    for var in rest_columns:\n",
    "        cols_try = selected + [var]\n",
    "        model_try = sm.OLS(y3_train, X_full[cols_try]).fit()\n",
    "        if model_try.aic < best_aic:\n",
    "            best_aic = model_try.aic\n",
    "            best_var = var\n",
    "            best_model = model_try\n",
    "\n",
    "    if best_var is not None:\n",
    "        selected.append(best_var)\n",
    "        rest_columns.remove(best_var)\n",
    "        model_lr_ols3 = best_model\n",
    "        aic_curr = best_aic\n",
    "        improved = True\n",
    "\n",
    "AIC_forward = float(aic_curr)\n",
    "\n",
    "variables_seleccionadas = selected\n",
    "testF = [model_lr_ols3.fvalue, model_lr_ols3.f_pvalue]\n",
    "preferible_forward = True\n",
    "print(\"preferible_forward:\", preferible_forward)\n",
    "print(\"AIC_forward:\", AIC_forward)\n",
    "print(\"variables_seleccionadas:\", variables_seleccionadas)\n",
    "print(f\"Test F -> F={testF[0]:.4f}, p-value={testF[1]:.4g}\")"
   ]
  },
  {
   "cell_type": "code",
   "execution_count": 111,
   "id": "e1d4acaa",
   "metadata": {},
   "outputs": [
    {
     "data": {
      "text/plain": [
       "17.658748987607325"
      ]
     },
     "execution_count": 111,
     "metadata": {},
     "output_type": "execute_result"
    }
   ],
   "source": [
    "pred = None         # Variable que debe modificar\n",
    "MSEpred = None      # Variable que debe modificar\n",
    "\n",
    "# your code here\n",
    "X3_test = test[variables_seleccionadas].copy()\n",
    "y3_test = test[\"O3\"].copy()\n",
    "pred = model_lr_ols3.predict(X3_test)\n",
    "MSEpred = float(np.mean((y3_test - pred) ** 2))\n",
    "MSEpred"
   ]
  },
  {
   "cell_type": "code",
   "execution_count": 112,
   "id": "f264f3a7",
   "metadata": {},
   "outputs": [],
   "source": [
    "prostate_data = prostate.load()  # cargamos los datos del problema 2"
   ]
  },
  {
   "cell_type": "code",
   "execution_count": 113,
   "id": "199f3b1b",
   "metadata": {},
   "outputs": [],
   "source": [
    "## Guardar la información en:\n",
    "# --> train_prostate: partición de entrenamiento    (incluyendo todas las variables)\n",
    "# --> test_prostate: partición para la validacíon   (incluyendo todas las variables)\n",
    "\n",
    "## Aquí va su código \n",
    "\n",
    "train_prostate, test_prostate = None, None    # Modifique estos objetos\n",
    "\n",
    "# your code here\n",
    "train_prostate, test_prostate = train_test_split(prostate_data, test_size=0.2, random_state=123)"
   ]
  },
  {
   "cell_type": "code",
   "execution_count": 114,
   "id": "43ed0eae",
   "metadata": {},
   "outputs": [
    {
     "name": "stdout",
     "output_type": "stream",
     "text": [
      "Optimization terminated successfully.\n",
      "         Current function value: 0.162442\n",
      "         Iterations 9\n"
     ]
    },
    {
     "data": {
      "text/plain": [
       "0.7"
      ]
     },
     "execution_count": 114,
     "metadata": {},
     "output_type": "execute_result"
    }
   ],
   "source": [
    "# Aquí va su código\n",
    "\n",
    "porcentaje_clasificacion = None # Variable que debe modificar\n",
    "\n",
    "# your code here\n",
    "X_train = train_prostate.drop(columns=\"svi\", axis=1)\n",
    "y_train = train_prostate[\"svi\"]\n",
    "X_test = test_prostate.drop(columns=\"svi\", axis=1)\n",
    "y_test = test_prostate[\"svi\"]\n",
    "\n",
    "model_logit = sm.Logit(y_train, X_train).fit()\n",
    "\n",
    "y_pred_prob = model_logit.predict(X_test)\n",
    "y_pred_class = (y_pred_prob >= 0.5).astype(int)\n",
    "accuracy = metrics.accuracy_score(y_test, y_pred_class)\n",
    "porcentaje_clasificacion = accuracy\n",
    "porcentaje_clasificacion"
   ]
  },
  {
   "cell_type": "code",
   "execution_count": 115,
   "id": "3597312d",
   "metadata": {},
   "outputs": [
    {
     "data": {
      "text/plain": [
       "[6.749196983258511,\n",
       " 57.783939331393654,\n",
       " 82.40542217672011,\n",
       " 1.195335723452414,\n",
       " 2.531763153388447,\n",
       " 84.90034919124903,\n",
       " 3.809147884382757,\n",
       " 16.916887569167937]"
      ]
     },
     "execution_count": 115,
     "metadata": {},
     "output_type": "execute_result"
    }
   ],
   "source": [
    "# Aquí va su código\n",
    "\n",
    "VIF_vars = None # Variable que debe modificar\n",
    "\n",
    "# your code here\n",
    "vars_order = ['lcavol', 'lweight', 'age', 'lbph', 'lcp', 'gleason', 'pgg45', 'lpsa']\n",
    "\n",
    "X_vif = X_train[vars_order].copy()\n",
    "VIF_vars = [variance_inflation_factor(X_vif.values, i) for i in range(X_vif.shape[1])]\n",
    "\n",
    "VIF_vars = [float(v) for v in VIF_vars] \n",
    "VIF_vars"
   ]
  },
  {
   "cell_type": "code",
   "execution_count": 116,
   "id": "ac2ee83c",
   "metadata": {},
   "outputs": [
    {
     "data": {
      "text/plain": [
       "0.75"
      ]
     },
     "execution_count": 116,
     "metadata": {},
     "output_type": "execute_result"
    }
   ],
   "source": [
    "# Aquí va su código\n",
    "\n",
    "porcentaje_clasificacion_backward = None # Variable que debe modificar\n",
    "\n",
    "# your code here\n",
    "df_vif = pd.DataFrame({\n",
    "    \"Features\": vars_order,\n",
    "    \"VIF\": VIF_vars\n",
    "})\n",
    "\n",
    "df_vif_filtered = df_vif[df_vif[\"VIF\"] < 10]\n",
    "selected_feats = df_vif_filtered['Features'].tolist()\n",
    "\n",
    "while True:\n",
    "    Xb_train = sm.add_constant(train_prostate[selected_feats], has_constant=\"add\")\n",
    "    logit_fit = sm.Logit(y_train, Xb_train).fit(disp=0)\n",
    "\n",
    "    pvals = logit_fit.pvalues.drop(labels=[\"const\"], errors=\"ignore\")\n",
    "\n",
    "    if pvals.empty or (pvals.max() < 0.05):\n",
    "        break\n",
    "\n",
    "    worst_feat = pvals.idxmax()\n",
    "    selected_feats.remove(worst_feat)\n",
    "\n",
    "Xb_test = sm.add_constant(test_prostate[selected_feats], has_constant=\"add\")\n",
    "y_pred_prob_b = logit_fit.predict(Xb_test)\n",
    "y_pred_class_b = (y_pred_prob_b >= 0.5).astype(int)\n",
    "accuracy_b = metrics.accuracy_score(y_test, y_pred_class_b)\n",
    "porcentaje_clasificacion_backward = accuracy_b\n",
    "porcentaje_clasificacion_backward"
   ]
  },
  {
   "cell_type": "code",
   "execution_count": null,
   "id": "fb6d756b",
   "metadata": {},
   "outputs": [],
   "source": []
  }
 ],
 "metadata": {
  "kernelspec": {
   "display_name": "ml-py3.12",
   "language": "python",
   "name": "python3"
  },
  "language_info": {
   "codemirror_mode": {
    "name": "ipython",
    "version": 3
   },
   "file_extension": ".py",
   "mimetype": "text/x-python",
   "name": "python",
   "nbconvert_exporter": "python",
   "pygments_lexer": "ipython3",
   "version": "3.12.2"
  }
 },
 "nbformat": 4,
 "nbformat_minor": 5
}

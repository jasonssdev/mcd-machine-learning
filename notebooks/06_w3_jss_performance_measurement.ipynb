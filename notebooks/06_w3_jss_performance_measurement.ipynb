{
 "cells": [
  {
   "cell_type": "code",
   "execution_count": 1,
   "id": "d4751bc9",
   "metadata": {},
   "outputs": [],
   "source": [
    "from sklearn.metrics import precision_score, confusion_matrix, recall_score, f1_score, accuracy_score\n"
   ]
  },
  {
   "cell_type": "code",
   "execution_count": 2,
   "id": "168033ec",
   "metadata": {},
   "outputs": [],
   "source": [
    "y_true = [1, 0, 1, 1, 0, 1]\n",
    "y_pred = [1, 0, 1, 0, 0, 1]"
   ]
  },
  {
   "cell_type": "markdown",
   "id": "503fccb3",
   "metadata": {},
   "source": [
    "[[TN, FP],\n",
    " [FN, TP]]\n",
    "\n",
    "el orden por defecto es:\n",
    "\n",
    "    •\tTN: True Negatives → [0, 0]\n",
    "\t•\tFP: False Positives → [0, 1]\n",
    "\t•\tFN: False Negatives → [1, 0]\n",
    "\t•\tTP: True Positives → [1, 1]\n",
    "\n",
    "tn, fp, fn, tp = confusion_matrix(y_true, y_pred).ravel()\n",
    "\n",
    "\t•\tPrecisión: tp / (tp + fp)\n",
    "\t•\tSensibilidad (Recall): tp / (tp + fn)\n",
    "\t•\tEspecificidad (Specificity): tn / (tn + fp)\n",
    "\t•\tAccuracy: (tp + tn) / total\n",
    "\n",
    "\t•\tPrecision mide qué tan precisas son las predicciones positivas.\n",
    "\t•\tRecall o Sensitivity mide qué tanto del total de positivos reales el modelo logra identificar.\n",
    "\t•\tSpecificity mide qué tanto del total de negativos reales el modelo identifica correctamente.\n",
    "\t•\tAccuracy mide el porcentaje total de predicciones correctas (positivas y negativas) sobre el total de muestras.\n"
   ]
  },
  {
   "cell_type": "code",
   "execution_count": 3,
   "id": "28a338ce",
   "metadata": {},
   "outputs": [
    {
     "name": "stdout",
     "output_type": "stream",
     "text": [
      "[[2 0]\n",
      " [1 3]]\n"
     ]
    }
   ],
   "source": [
    "# confusion matrix\n",
    "# confusion matrix\n",
    "\n",
    "cm = confusion_matrix(y_true, y_pred)\n",
    "print(cm)"
   ]
  },
  {
   "cell_type": "code",
   "execution_count": 4,
   "id": "6ef25339",
   "metadata": {},
   "outputs": [
    {
     "name": "stdout",
     "output_type": "stream",
     "text": [
      "Verdadero negativo es igual a 2\n",
      "Falso positivo es igual a 0\n",
      "Falso negativo es igual a 1\n",
      "Verdadero positivo es igual a 3\n"
     ]
    }
   ],
   "source": [
    "tn, fp, fn, tp = cm.ravel()\n",
    "print(f\"Verdadero negativo es igual a {tn}\")\n",
    "print(f\"Falso positivo es igual a {fp}\")\n",
    "print (f\"Falso negativo es igual a {fn}\")\n",
    "print(f\"Verdadero positivo es igual a {tp}\")"
   ]
  },
  {
   "cell_type": "code",
   "execution_count": 5,
   "id": "79cb0ff6",
   "metadata": {},
   "outputs": [
    {
     "name": "stdout",
     "output_type": "stream",
     "text": [
      "La precisión es igual a 0.8333333333333333\n"
     ]
    }
   ],
   "source": [
    "# Precisión\n",
    "precision = precision_score(y_true, y_pred, average= 'macro')\n",
    "print(f\"La precisión es igual a {precision}\")"
   ]
  },
  {
   "cell_type": "code",
   "execution_count": 6,
   "id": "06d739d6",
   "metadata": {},
   "outputs": [
    {
     "name": "stdout",
     "output_type": "stream",
     "text": [
      "Precisión manual (clase 1): 1.0\n",
      "Precisión sklearn (binary): 1.0\n",
      "Precisión promedio (macro): 0.8333333333333333\n"
     ]
    }
   ],
   "source": [
    "# Precision calculation\n",
    "\n",
    "# Precision manual para clase positiva\n",
    "precision_manual = tp / (tp + fp)\n",
    "\n",
    "# Precision sklearn solo para clase 1\n",
    "precision_binary = precision_score(y_true, y_pred, average='binary')\n",
    "\n",
    "# Precision promedio (macro)\n",
    "precision_macro = precision_score(y_true, y_pred, average='macro')\n",
    "\n",
    "print(f\"Precisión manual (clase 1): {precision_manual}\")\n",
    "print(f\"Precisión sklearn (binary): {precision_binary}\")\n",
    "print(f\"Precisión promedio (macro): {precision_macro}\")"
   ]
  },
  {
   "cell_type": "markdown",
   "id": "8173be07",
   "metadata": {},
   "source": [
    "### Tipo de average\n",
    "##### ¿Qué hace?\n",
    "Cuándo usarlo\n",
    "\n",
    "binary\n",
    "* Solo considera la clase positiva (1).\n",
    "* Problemas binarios donde te importa la clase positiva.\n",
    "\n",
    "macro\n",
    "* Promedia todas las clases por igual.\n",
    "* Multiclase / detectar sesgos.\n",
    "\n",
    "micro\n",
    "* Agrega TP, FP, FN de todas las clases antes de calcular.\n",
    "* Buen resumen general, ignora el desbalance.\n",
    "\n",
    "weighted\n",
    "* Promedia según el número de verdaderos por clase.\n",
    "* Multiclase con clases desbalanceadas donde sí importa el volumen.\n"
   ]
  },
  {
   "cell_type": "code",
   "execution_count": 7,
   "id": "8faad106",
   "metadata": {},
   "outputs": [
    {
     "name": "stdout",
     "output_type": "stream",
     "text": [
      "El recall es igual a 0.75\n",
      "Recall sklearn (binary): 0.75\n",
      "Recall promedio (macro): 0.875\n"
     ]
    }
   ],
   "source": [
    "# recall calculation\n",
    "\n",
    "recall_manual = tp / (tp + fn)\n",
    "\n",
    "recall_binary = recall_score(y_true, y_pred, average='binary')\n",
    "recall_macro = recall_score(y_true, y_pred, average='macro')\n",
    "\n",
    "print(f\"El recall es igual a {recall_manual}\")\n",
    "print(f\"Recall sklearn (binary): {recall_binary}\")\n",
    "print(f\"Recall promedio (macro): {recall_macro}\")\n"
   ]
  },
  {
   "cell_type": "code",
   "execution_count": 8,
   "id": "6584eca1",
   "metadata": {},
   "outputs": [
    {
     "name": "stdout",
     "output_type": "stream",
     "text": [
      "Accuracy: 0.83\n",
      "Precision: 1.00\n",
      "Recall: 0.75\n",
      "F1 Score: 0.86\n",
      "Confusion Matrix:\n",
      "[[2 0]\n",
      " [1 3]]\n"
     ]
    }
   ],
   "source": [
    "# Accuracy\n",
    "accuracy = accuracy_score(y_true, y_pred)\n",
    "print(f\"Accuracy: {accuracy:.2f}\")\n",
    "\n",
    "# Precision\n",
    "precision = precision_score(y_true, y_pred)\n",
    "print(f\"Precision: {precision:.2f}\")\n",
    "\n",
    "# Recall\n",
    "recall = recall_score(y_true, y_pred)\n",
    "print(f\"Recall: {recall:.2f}\")\n",
    "\n",
    "# F1 Score\n",
    "f1 = f1_score(y_true, y_pred)\n",
    "print(f\"F1 Score: {f1:.2f}\")\n",
    "\n",
    "# Confusion Matrix\n",
    "conf_matrix = confusion_matrix(y_true, y_pred)\n",
    "print(\"Confusion Matrix:\")\n",
    "print(conf_matrix)"
   ]
  },
  {
   "cell_type": "code",
   "execution_count": 11,
   "id": "8b3098c9",
   "metadata": {},
   "outputs": [
    {
     "name": "stdout",
     "output_type": "stream",
     "text": [
      "📊 Evaluación del Modelo\n",
      "Precision     (tp / (tp + fp)): 1.00\n",
      "Recall        (tp / (tp + fn)): 0.75\n",
      "Specificity   (tn / (tn + fp)): 1.00\n",
      "Accuracy      ((tp + tn) / total): 0.83\n",
      "F1 Score      (2 * P * R / (P + R)): 0.86\n"
     ]
    }
   ],
   "source": [
    "from sklearn.metrics import (\n",
    "    precision_score,\n",
    "    recall_score,\n",
    "    accuracy_score,\n",
    "    f1_score,\n",
    "    confusion_matrix\n",
    ")\n",
    "\n",
    "# Datos reales y predichos\n",
    "y_true = [1, 0, 1, 1, 0, 1]\n",
    "y_pred = [1, 0, 1, 0, 0, 1]\n",
    "\n",
    "# Matriz de confusión\n",
    "tn, fp, fn, tp = confusion_matrix(y_true, y_pred).ravel()\n",
    "\n",
    "# Métricas\n",
    "precision = precision_score(y_true, y_pred)\n",
    "recall = recall_score(y_true, y_pred)  # Sensibilidad\n",
    "accuracy = accuracy_score(y_true, y_pred)\n",
    "f1 = f1_score(y_true, y_pred)\n",
    "specificity = tn / (tn + fp)\n",
    "\n",
    "# Mostrar resultados\n",
    "print(\"📊 Evaluación del Modelo\")\n",
    "print(f\"Precision     (tp / (tp + fp)): {precision:.2f}\")\n",
    "print(f\"Recall        (tp / (tp + fn)): {recall:.2f}\")\n",
    "print(f\"Specificity   (tn / (tn + fp)): {specificity:.2f}\")\n",
    "print(f\"Accuracy      ((tp + tn) / total): {accuracy:.2f}\")\n",
    "print(f\"F1 Score      (2 * P * R / (P + R)): {f1:.2f}\")"
   ]
  },
  {
   "cell_type": "markdown",
   "id": "6fefc46d",
   "metadata": {},
   "source": [
    "📊 Interpretación de métricas\n",
    "\n",
    "\t•\tPrecisión (1.00): Cada vez que el modelo predijo un 1 (positivo), ¡acertó siempre! No hubo falsos positivos.\n",
    "\n",
    "\t•\tSensibilidad o Recall (0.75): El modelo detectó correctamente el 75% de los verdaderos positivos, pero se le escapó un 25% (falsos negativos).\n",
    "\n",
    "\t•\tEspecificidad (1.00): Detectó todos los ceros correctamente. No hubo falsos positivos (ningún 0 fue clasificado erróneamente como 1).\n",
    "\n",
    "\t•\tAccuracy (0.83): En total, el 83% de las predicciones fueron correctas.\n",
    "    \n",
    "\t•\tF1 Score (0.86): Es una combinación de precisión y sensibilidad. Es alto, lo que indica buen equilibrio entre ambos."
   ]
  },
  {
   "cell_type": "code",
   "execution_count": 12,
   "id": "cae6230c",
   "metadata": {},
   "outputs": [
    {
     "data": {
      "image/png": "[encoded data removed]",
      "text/plain": [
       "<Figure size 1000x600 with 1 Axes>"
      ]
     },
     "metadata": {},
     "output_type": "display_data"
    }
   ],
   "source": [
    "import matplotlib.pyplot as plt\n",
    "\n",
    "# Métricas calculadas\n",
    "metrics = {\n",
    "    'Precisión': 1.00,\n",
    "    'Sensibilidad (Recall)': 0.75,\n",
    "    'Especificidad': 1.00,\n",
    "    'Accuracy': 0.83,\n",
    "    'F1 Score': 0.86\n",
    "}\n",
    "\n",
    "# Preparar datos\n",
    "labels = list(metrics.keys())\n",
    "values = list(metrics.values())\n",
    "\n",
    "# Crear gráfico de barras\n",
    "plt.figure(figsize=(10, 6))\n",
    "bars = plt.bar(labels, values)\n",
    "\n",
    "# Agregar valores encima de cada barra\n",
    "for bar in bars:\n",
    "    yval = bar.get_height()\n",
    "    plt.text(bar.get_x() + bar.get_width()/2, yval + 0.02, f'{yval:.2f}', ha='center', va='bottom')\n",
    "\n",
    "# Estética del gráfico\n",
    "plt.ylim(0, 1.2)\n",
    "plt.title('Métricas de evaluación del modelo de clasificación')\n",
    "plt.ylabel('Valor')\n",
    "plt.grid(axis='y', linestyle='--', alpha=0.7)\n",
    "plt.tight_layout()\n",
    "plt.show()"
   ]
  },
  {
   "cell_type": "code",
   "execution_count": 9,
   "id": "eb8804ad",
   "metadata": {},
   "outputs": [],
   "source": [
    "from sklearn.metrics import mean_squared_error, mean_absolute_error\n"
   ]
  },
  {
   "cell_type": "code",
   "execution_count": 10,
   "id": "20496ee3",
   "metadata": {},
   "outputs": [
    {
     "name": "stdout",
     "output_type": "stream",
     "text": [
      "El MSE es igual a 0.375 y el MAE es igual a 0.5\n"
     ]
    }
   ],
   "source": [
    "y_true = [3, -0.5, 2, 7]\n",
    "y_pred = [2.5, 0.0, 2, 8]\n",
    "\n",
    "# MSE\n",
    "mse = mean_squared_error (y_true, y_pred)\n",
    "\n",
    "# MAE\n",
    "mae = mean_absolute_error (y_true, y_pred)\n",
    "\n",
    "print(f\"El MSE es igual a {mse} y el MAE es igual a {mae}\")"
   ]
  },
  {
   "cell_type": "markdown",
   "id": "ca18d525",
   "metadata": {},
   "source": [
    "Métrica\n",
    "Valor\n",
    "Interpretación\n",
    "\n",
    "#### MAE\n",
    "\n",
    "0.50\n",
    "\n",
    "En promedio, el modelo se equivoca por 0.5 unidades respecto al valor real. Es fácil de interpretar porque tiene la misma unidad que la variable objetivo.\n",
    "\n",
    "#### MSE\n",
    "\n",
    "0.375\n",
    "\n",
    "Penaliza más los errores grandes porque eleva al cuadrado las diferencias. Aunque su unidad es también al cuadrado (difícil de interpretar directamente), es más sensible a errores grandes que el MAE.\n"
   ]
  },
  {
   "cell_type": "code",
   "execution_count": 13,
   "id": "b909b5d3",
   "metadata": {},
   "outputs": [
    {
     "data": {
      "image/png": "[encoded data removed]",
      "text/plain": [
       "<Figure size 600x400 with 1 Axes>"
      ]
     },
     "metadata": {},
     "output_type": "display_data"
    }
   ],
   "source": [
    "# Datos para graficar\n",
    "metrics = ['MAE', 'MSE']\n",
    "values = [mae, mse]\n",
    "\n",
    "# Crear gráfico de barras\n",
    "plt.figure(figsize=(6, 4))\n",
    "bars = plt.bar(metrics, values)\n",
    "plt.title('Error Metrics: MAE vs MSE')\n",
    "plt.ylabel('Error')\n",
    "plt.ylim(0, max(values) + 0.5)\n",
    "\n",
    "# Agregar etiquetas numéricas\n",
    "for bar in bars:\n",
    "    yval = bar.get_height()\n",
    "    plt.text(bar.get_x() + bar.get_width()/2.0, yval + 0.05, f'{yval:.2f}', ha='center', va='bottom')\n",
    "\n",
    "plt.grid(axis='y', linestyle='--', alpha=0.6)\n",
    "plt.tight_layout()\n",
    "plt.show()"
   ]
  },
  {
   "cell_type": "code",
   "execution_count": null,
   "id": "04ef1c5e",
   "metadata": {},
   "outputs": [],
   "source": []
  }
 ],
 "metadata": {
  "kernelspec": {
   "display_name": "ml-py3.12",
   "language": "python",
   "name": "python3"
  },
  "language_info": {
   "codemirror_mode": {
    "name": "ipython",
    "version": 3
   },
   "file_extension": ".py",
   "mimetype": "text/x-python",
   "name": "python",
   "nbconvert_exporter": "python",
   "pygments_lexer": "ipython3",
   "version": "3.12.2"
  }
 },
 "nbformat": 4,
 "nbformat_minor": 5
}

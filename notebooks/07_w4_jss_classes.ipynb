{
 "cells": [
  {
   "cell_type": "code",
   "execution_count": 6,
   "id": "44897dd1",
   "metadata": {},
   "outputs": [],
   "source": [
    "import pandas as pd\n",
    "import math\n"
   ]
  },
  {
   "cell_type": "code",
   "execution_count": 3,
   "id": "f2341918",
   "metadata": {},
   "outputs": [
    {
     "data": {
      "application/vnd.microsoft.datawrangler.viewer.v0+json": {
       "columns": [
        {
         "name": "index",
         "rawType": "int64",
         "type": "integer"
        },
        {
         "name": "Índice",
         "rawType": "int64",
         "type": "integer"
        },
        {
         "name": "Variable 1",
         "rawType": "int64",
         "type": "integer"
        },
        {
         "name": "Variable 2",
         "rawType": "int64",
         "type": "integer"
        }
       ],
       "ref": "d881ab9e-eb42-4d17-bc94-30b9c6815fed",
       "rows": [
        [
         "0",
         "1",
         "9",
         "6"
        ],
        [
         "1",
         "2",
         "6",
         "2"
        ],
        [
         "2",
         "3",
         "1",
         "6"
        ],
        [
         "3",
         "4",
         "3",
         "9"
        ],
        [
         "4",
         "5",
         "3",
         "7"
        ],
        [
         "5",
         "6",
         "1",
         "9"
        ],
        [
         "6",
         "7",
         "9",
         "8"
        ],
        [
         "7",
         "8",
         "9",
         "2"
        ],
        [
         "8",
         "9",
         "4",
         "6"
        ],
        [
         "9",
         "10",
         "6",
         "4"
        ]
       ],
       "shape": {
        "columns": 3,
        "rows": 10
       }
      },
      "text/html": [
       "<div>\n",
       "<style scoped>\n",
       "    .dataframe tbody tr th:only-of-type {\n",
       "        vertical-align: middle;\n",
       "    }\n",
       "\n",
       "    .dataframe tbody tr th {\n",
       "        vertical-align: top;\n",
       "    }\n",
       "\n",
       "    .dataframe thead th {\n",
       "        text-align: right;\n",
       "    }\n",
       "</style>\n",
       "<table border=\"1\" class=\"dataframe\">\n",
       "  <thead>\n",
       "    <tr style=\"text-align: right;\">\n",
       "      <th></th>\n",
       "      <th>Índice</th>\n",
       "      <th>Variable 1</th>\n",
       "      <th>Variable 2</th>\n",
       "    </tr>\n",
       "  </thead>\n",
       "  <tbody>\n",
       "    <tr>\n",
       "      <th>0</th>\n",
       "      <td>1</td>\n",
       "      <td>9</td>\n",
       "      <td>6</td>\n",
       "    </tr>\n",
       "    <tr>\n",
       "      <th>1</th>\n",
       "      <td>2</td>\n",
       "      <td>6</td>\n",
       "      <td>2</td>\n",
       "    </tr>\n",
       "    <tr>\n",
       "      <th>2</th>\n",
       "      <td>3</td>\n",
       "      <td>1</td>\n",
       "      <td>6</td>\n",
       "    </tr>\n",
       "    <tr>\n",
       "      <th>3</th>\n",
       "      <td>4</td>\n",
       "      <td>3</td>\n",
       "      <td>9</td>\n",
       "    </tr>\n",
       "    <tr>\n",
       "      <th>4</th>\n",
       "      <td>5</td>\n",
       "      <td>3</td>\n",
       "      <td>7</td>\n",
       "    </tr>\n",
       "    <tr>\n",
       "      <th>5</th>\n",
       "      <td>6</td>\n",
       "      <td>1</td>\n",
       "      <td>9</td>\n",
       "    </tr>\n",
       "    <tr>\n",
       "      <th>6</th>\n",
       "      <td>7</td>\n",
       "      <td>9</td>\n",
       "      <td>8</td>\n",
       "    </tr>\n",
       "    <tr>\n",
       "      <th>7</th>\n",
       "      <td>8</td>\n",
       "      <td>9</td>\n",
       "      <td>2</td>\n",
       "    </tr>\n",
       "    <tr>\n",
       "      <th>8</th>\n",
       "      <td>9</td>\n",
       "      <td>4</td>\n",
       "      <td>6</td>\n",
       "    </tr>\n",
       "    <tr>\n",
       "      <th>9</th>\n",
       "      <td>10</td>\n",
       "      <td>6</td>\n",
       "      <td>4</td>\n",
       "    </tr>\n",
       "  </tbody>\n",
       "</table>\n",
       "</div>"
      ],
      "text/plain": [
       "   Índice  Variable 1  Variable 2\n",
       "0       1           9           6\n",
       "1       2           6           2\n",
       "2       3           1           6\n",
       "3       4           3           9\n",
       "4       5           3           7\n",
       "5       6           1           9\n",
       "6       7           9           8\n",
       "7       8           9           2\n",
       "8       9           4           6\n",
       "9      10           6           4"
      ]
     },
     "execution_count": 3,
     "metadata": {},
     "output_type": "execute_result"
    }
   ],
   "source": [
    "data = {\n",
    "    \"Índice\": list(range(1, 11)),\n",
    "    \"Variable 1\": [9, 6, 1, 3, 3, 1, 9, 9, 4, 6],\n",
    "    \"Variable 2\": [6, 2, 6, 9, 7, 9, 8, 2, 6, 4]\n",
    "}\n",
    "\n",
    "df = pd.DataFrame(data)\n",
    "df"
   ]
  },
  {
   "cell_type": "code",
   "execution_count": 4,
   "id": "5e286dbc",
   "metadata": {},
   "outputs": [
    {
     "name": "stdout",
     "output_type": "stream",
     "text": [
      "Puntos: [(9, 6), (6, 2), (1, 6), (3, 9), (3, 7), (1, 9), (9, 8), (9, 2), (4, 6), (6, 4)]\n"
     ]
    }
   ],
   "source": [
    "puntos = list(zip(df[\"Variable 1\"], df[\"Variable 2\"]))\n",
    "print(\"Puntos:\", puntos)"
   ]
  },
  {
   "cell_type": "code",
   "execution_count": 5,
   "id": "a69a5a9b",
   "metadata": {},
   "outputs": [],
   "source": [
    "x0 = (6, 4)"
   ]
  },
  {
   "cell_type": "code",
   "execution_count": 14,
   "id": "2ead5636",
   "metadata": {},
   "outputs": [
    {
     "name": "stdout",
     "output_type": "stream",
     "text": [
      "Distancias: [(np.int64(1), (np.int64(9), np.int64(6)), 3.605551275463989), (np.int64(2), (np.int64(6), np.int64(2)), 2.0), (np.int64(3), (np.int64(1), np.int64(6)), 5.385164807134504), (np.int64(4), (np.int64(3), np.int64(9)), 5.830951894845301), (np.int64(5), (np.int64(3), np.int64(7)), 4.242640687119285), (np.int64(6), (np.int64(1), np.int64(9)), 7.0710678118654755), (np.int64(7), (np.int64(9), np.int64(8)), 5.0), (np.int64(8), (np.int64(9), np.int64(2)), 3.605551275463989), (np.int64(9), (np.int64(4), np.int64(6)), 2.8284271247461903), (np.int64(10), (np.int64(6), np.int64(4)), 0.0)]\n"
     ]
    }
   ],
   "source": [
    "distancias = []\n",
    "for i, row in df.iterrows():\n",
    "    punto = (row[\"Variable 1\"], row[\"Variable 2\"])\n",
    "    distancia = math.sqrt((punto[0] - x0[0])**2 + (punto[1] - x0[1])**2)\n",
    "    distancias.append((row[\"Índice\"], punto, distancia))\n",
    "\n",
    "print(\"Distancias:\", distancias)"
   ]
  },
  {
   "cell_type": "code",
   "execution_count": 15,
   "id": "7b73fabe",
   "metadata": {},
   "outputs": [],
   "source": [
    "# Ordenar por distancia de menor a mayor\n",
    "distancias_ordenadas = sorted(distancias, key=lambda x: x[2])"
   ]
  },
  {
   "cell_type": "code",
   "execution_count": 16,
   "id": "4b2808ab",
   "metadata": {},
   "outputs": [
    {
     "name": "stdout",
     "output_type": "stream",
     "text": [
      "Distancias ordenadas desde el punto x0 = (6, 4):\n",
      "\n",
      "Índice: 10 | Punto: (np.int64(6), np.int64(4)) → Distancia: 0.0000\n",
      "Índice: 2 | Punto: (np.int64(6), np.int64(2)) → Distancia: 2.0000\n",
      "Índice: 9 | Punto: (np.int64(4), np.int64(6)) → Distancia: 2.8284\n",
      "Índice: 1 | Punto: (np.int64(9), np.int64(6)) → Distancia: 3.6056\n",
      "Índice: 8 | Punto: (np.int64(9), np.int64(2)) → Distancia: 3.6056\n",
      "Índice: 5 | Punto: (np.int64(3), np.int64(7)) → Distancia: 4.2426\n",
      "Índice: 7 | Punto: (np.int64(9), np.int64(8)) → Distancia: 5.0000\n",
      "Índice: 3 | Punto: (np.int64(1), np.int64(6)) → Distancia: 5.3852\n",
      "Índice: 4 | Punto: (np.int64(3), np.int64(9)) → Distancia: 5.8310\n",
      "Índice: 6 | Punto: (np.int64(1), np.int64(9)) → Distancia: 7.0711\n"
     ]
    }
   ],
   "source": [
    "# Imprimir resultados\n",
    "print(\"Distancias ordenadas desde el punto x0 = (6, 4):\\n\")\n",
    "for idx, punto, d in distancias_ordenadas:\n",
    "    print(f\"Índice: {idx} | Punto: {punto} → Distancia: {d:.4f}\")"
   ]
  },
  {
   "cell_type": "code",
   "execution_count": null,
   "id": "f9e654f8",
   "metadata": {},
   "outputs": [],
   "source": []
  }
 ],
 "metadata": {
  "kernelspec": {
   "display_name": "ml-py3.12",
   "language": "python",
   "name": "python3"
  },
  "language_info": {
   "codemirror_mode": {
    "name": "ipython",
    "version": 3
   },
   "file_extension": ".py",
   "mimetype": "text/x-python",
   "name": "python",
   "nbconvert_exporter": "python",
   "pygments_lexer": "ipython3",
   "version": "3.12.2"
  }
 },
 "nbformat": 4,
 "nbformat_minor": 5
}

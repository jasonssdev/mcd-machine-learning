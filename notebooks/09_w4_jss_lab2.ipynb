{
 "cells": [
  {
   "cell_type": "code",
   "execution_count": 1,
   "id": "72e38d96",
   "metadata": {},
   "outputs": [],
   "source": [
    "# Módulos básicos para análisis y manipulación de datos\n",
    "import numpy as np\n",
    "import pandas as pd\n",
    "\n",
    "# Modelos de regresión y clasificación\n",
    "import statsmodels.api as sm\n",
    "from sklearn.linear_model import LinearRegression\n",
    "from sklearn.linear_model import LogisticRegression\n",
    "from sklearn.neighbors import KNeighborsRegressor\n",
    "from sklearn.neighbors import KNeighborsClassifier\n",
    "from sklearn.tree import DecisionTreeRegressor\n",
    "from sklearn.tree import DecisionTreeClassifier\n",
    "\n",
    "# Preprocesamiento de datos\n",
    "from sklearn.preprocessing import MinMaxScaler\n",
    "\n",
    "# Módulos para evaluación de modelos\n",
    "from sklearn.model_selection import cross_val_score\n",
    "from sklearn.model_selection import train_test_split\n",
    "from sklearn import metrics\n",
    "\n",
    "# Bases de datos del Lab\n",
    "import faraway.datasets.ozone as ozone\n",
    "import faraway.datasets.prostate as prostate "
   ]
  },
  {
   "cell_type": "markdown",
   "id": "58e3d378",
   "metadata": {},
   "source": [
    "# Problem 1"
   ]
  },
  {
   "cell_type": "code",
   "execution_count": 2,
   "id": "5fd20c52",
   "metadata": {},
   "outputs": [],
   "source": [
    "ozone_data = ozone.load()"
   ]
  },
  {
   "cell_type": "markdown",
   "id": "1d7ec474",
   "metadata": {},
   "source": [
    " ### 1.1"
   ]
  },
  {
   "cell_type": "code",
   "execution_count": 4,
   "id": "6a8c52e4",
   "metadata": {},
   "outputs": [],
   "source": [
    "train = None\n",
    "test = None\n",
    "\n",
    "# split data test and train\n",
    "train, test = train_test_split(ozone_data, test_size=0.3, random_state=111)"
   ]
  },
  {
   "cell_type": "markdown",
   "id": "b5d80971",
   "metadata": {},
   "source": [
    "### 1.2"
   ]
  },
  {
   "cell_type": "code",
   "execution_count": 12,
   "id": "edd5645f",
   "metadata": {},
   "outputs": [
    {
     "name": "stdout",
     "output_type": "stream",
     "text": [
      "(231, 9) (231,) (99, 9) (99,)\n"
     ]
    }
   ],
   "source": [
    "# Variables predictoras y variable respuesta\n",
    "X_train = train.iloc[:, 1:]\n",
    "y_train = train.iloc[:, 0]\n",
    "\n",
    "X_test = test.iloc[:, 1:]\n",
    "y_test = test.iloc[:, 0]\n",
    "\n",
    "print(X_train.shape, y_train.shape, X_test.shape, y_test.shape)"
   ]
  },
  {
   "cell_type": "code",
   "execution_count": 13,
   "id": "ea7a0a07",
   "metadata": {},
   "outputs": [],
   "source": [
    "mse_train = np.zeros(3)\n",
    "mse_test = np.zeros(3)"
   ]
  },
  {
   "cell_type": "code",
   "execution_count": 14,
   "id": "a6d29597",
   "metadata": {},
   "outputs": [
    {
     "name": "stdout",
     "output_type": "stream",
     "text": [
      "MSE Train: [18.45860066  0.          0.        ]\n",
      "MSE Test: [21.26808197  0.          0.        ]\n"
     ]
    }
   ],
   "source": [
    "# Linear Regression\n",
    "model_lr = LinearRegression(fit_intercept=True)\n",
    "model_lr.fit(X_train, y_train)\n",
    "\n",
    "# predict on train data\n",
    "y_pred_train = model_lr.predict(X_train)\n",
    "\n",
    "# predict on test data\n",
    "y_pred_test = model_lr.predict(X_test)\n",
    "\n",
    "# calculate MSE for train and test\n",
    "mse_train[0] = metrics.mean_squared_error(y_train, y_pred_train)\n",
    "mse_test[0] = metrics.mean_squared_error(y_test, y_pred_test)\n",
    "\n",
    "print(\"MSE Train:\", mse_train)\n",
    "print(\"MSE Test:\", mse_test)"
   ]
  },
  {
   "cell_type": "code",
   "execution_count": 15,
   "id": "0661114d",
   "metadata": {},
   "outputs": [
    {
     "name": "stdout",
     "output_type": "stream",
     "text": [
      "MSE Train: [18.45860066 14.19372294  0.        ]\n",
      "MSE Test: [21.26808197 18.20272727  0.        ]\n"
     ]
    }
   ],
   "source": [
    "# scale data\n",
    "scaler = MinMaxScaler()\n",
    "X_train_scaled = scaler.fit_transform(X_train)\n",
    "X_test_scaled = scaler.transform(X_test)\n",
    "\n",
    "# KNN Regression\n",
    "model_knn = KNeighborsRegressor(n_neighbors=10, metric='euclidean')\n",
    "model_knn.fit(X_train_scaled, y_train)\n",
    "\n",
    "# predict on train data\n",
    "y_pred_train = model_knn.predict(X_train_scaled)\n",
    "\n",
    "# predict on test data\n",
    "y_pred_test = model_knn.predict(X_test_scaled)\n",
    "\n",
    "# calculate MSE for train and test\n",
    "mse_train[1] = metrics.mean_squared_error(y_train, y_pred_train)\n",
    "mse_test[1] = metrics.mean_squared_error(y_test, y_pred_test)\n",
    "\n",
    "print(\"MSE Train:\", mse_train)\n",
    "print(\"MSE Test:\", mse_test)"
   ]
  },
  {
   "cell_type": "code",
   "execution_count": 16,
   "id": "870a2d18",
   "metadata": {},
   "outputs": [
    {
     "name": "stdout",
     "output_type": "stream",
     "text": [
      "MSE Train: [18.45860066 14.19372294 11.91900354]\n",
      "MSE Test: [21.26808197 18.20272727 21.75492747]\n"
     ]
    }
   ],
   "source": [
    "# Decision Tree Regression\n",
    "model_dtr = DecisionTreeRegressor(max_depth=4, min_samples_split=20, random_state=123)\n",
    "model_dtr.fit(X_train, y_train)\n",
    "\n",
    "# predict on train data\n",
    "y_pred_train = model_dtr.predict(X_train)\n",
    "\n",
    "# predict on test data\n",
    "y_pred_test = model_dtr.predict(X_test)\n",
    "\n",
    "# calculate MSE for train and test\n",
    "mse_train[2] = metrics.mean_squared_error(y_train, y_pred_train)\n",
    "mse_test[2] = metrics.mean_squared_error(y_test, y_pred_test)\n",
    "\n",
    "print(\"MSE Train:\", mse_train)\n",
    "print(\"MSE Test:\", mse_test)"
   ]
  },
  {
   "cell_type": "markdown",
   "id": "a4ca9afd",
   "metadata": {},
   "source": [
    "### 1.3"
   ]
  },
  {
   "cell_type": "code",
   "execution_count": 17,
   "id": "075fe407",
   "metadata": {},
   "outputs": [],
   "source": [
    "best_model_train = None\n",
    "best_model_test = None\n",
    "Interpretacion = None\n",
    "\n",
    "best_model_train = 'DTree'\n",
    "best_model_test = 'k-NN'\n",
    "Interpretacion = \"Como los modelos difieren se prefiere utilizar el modelo escogido con la muestra de validación ya que tiene menos posibilidad de caer en un sobreajuste.\""
   ]
  },
  {
   "cell_type": "markdown",
   "id": "89e17b5f",
   "metadata": {},
   "source": [
    "## Cross Validation"
   ]
  },
  {
   "cell_type": "markdown",
   "id": "43aa3047",
   "metadata": {},
   "source": [
    "### 1.4"
   ]
  },
  {
   "cell_type": "code",
   "execution_count": 18,
   "id": "4d3e8f60",
   "metadata": {},
   "outputs": [],
   "source": [
    "# define vectors\n",
    "\n",
    "mse_cv_mean = np.zeros(3)\n",
    "mse_cv_std = np.zeros(3)"
   ]
  },
  {
   "cell_type": "code",
   "execution_count": 19,
   "id": "c40356c9",
   "metadata": {},
   "outputs": [
    {
     "name": "stdout",
     "output_type": "stream",
     "text": [
      "MSE CV Mean: [21.31410448  0.          0.        ]\n",
      "MSE CV Std: [3.64662541 0.         0.        ]\n"
     ]
    }
   ],
   "source": [
    "# Linear Regression\n",
    "\n",
    "model_cv_lr = LinearRegression(fit_intercept=True)\n",
    "\n",
    "# Score cross-validation\n",
    "\n",
    "scores = cross_val_score(model_cv_lr,\n",
    "                         X_train,\n",
    "                         y_train,\n",
    "                         cv=5,\n",
    "                         scoring=metrics.make_scorer(\n",
    "                             metrics.mean_squared_error))\n",
    "\n",
    "# calculate mean and standard deviation of cross-validation scores\n",
    "mse_cv_mean[0] = scores.mean()\n",
    "mse_cv_std[0] = scores.std()\n",
    "\n",
    "print(\"MSE CV Mean:\", mse_cv_mean)\n",
    "print(\"MSE CV Std:\", mse_cv_std)"
   ]
  },
  {
   "cell_type": "code",
   "execution_count": 20,
   "id": "8b711ba7",
   "metadata": {},
   "outputs": [
    {
     "name": "stdout",
     "output_type": "stream",
     "text": [
      "[25.90888067 21.05844126 19.21257067 18.15708256 17.16918779 17.2481293\n",
      " 17.34501123 17.12673884 17.55151609 17.07500925 17.23373216 17.60420457\n",
      " 18.12715653 17.83182003 18.02906404]\n",
      "Best k: 10\n",
      "MSE CV Mean: [21.31410448 17.07500925  0.        ]\n",
      "MSE CV Std: [3.64662541 2.32110945 0.        ]\n"
     ]
    }
   ],
   "source": [
    "# KNN Regression\n",
    "\n",
    "scaler = MinMaxScaler()\n",
    "X_train_scaled = scaler.fit_transform(X_train)\n",
    "X_test_scaled = scaler.transform(X_test)\n",
    "\n",
    "k_cv = None\n",
    "k_cv = np.zeros(15)\n",
    "\n",
    "# bucle to find best k for KNN\n",
    "for k in range(1, 16):\n",
    "    model_cv_knn = KNeighborsRegressor(n_neighbors=k)\n",
    "    scores = cross_val_score(model_cv_knn,\n",
    "                             X_train_scaled,\n",
    "                             y_train,\n",
    "                             cv=5,\n",
    "                             scoring=metrics.make_scorer(\n",
    "                                 metrics.mean_squared_error))\n",
    "    k_cv[k - 1] = scores.mean()\n",
    "\n",
    "K = k_cv.argmin(0) + 1\n",
    "\n",
    "print(k_cv)\n",
    "print(\"Best k:\", K)\n",
    "\n",
    "model_cv_knn = KNeighborsRegressor(n_neighbors=K, metric='euclidean')\n",
    "\n",
    "scores = cross_val_score(model_cv_knn,\n",
    "                         X_train_scaled,\n",
    "                         y_train,\n",
    "                         cv=5,\n",
    "                         scoring=metrics.make_scorer(\n",
    "                             metrics.mean_squared_error))\n",
    "\n",
    "mse_cv_mean[1] = scores.mean()\n",
    "mse_cv_std[1] = scores.std()\n",
    "\n",
    "print(f\"MSE CV Mean: {mse_cv_mean}\")\n",
    "print(f\"MSE CV Std: {mse_cv_std}\")"
   ]
  },
  {
   "cell_type": "code",
   "execution_count": 21,
   "id": "ffd8d5f0",
   "metadata": {},
   "outputs": [
    {
     "name": "stdout",
     "output_type": "stream",
     "text": [
      "MSE CV Mean: [21.31410448 17.07500925 25.14949524]\n",
      "MSE CV Std: [3.64662541 2.32110945 2.77881028]\n"
     ]
    }
   ],
   "source": [
    "# decision Tree\n",
    "\n",
    "model_dtr = DecisionTreeRegressor(max_depth=4,\n",
    "                                  min_samples_split=20,\n",
    "                                  random_state=123)\n",
    "\n",
    "scores = cross_val_score(model_dtr,\n",
    "                         X_train,\n",
    "                         y_train,\n",
    "                         cv=5,\n",
    "                         scoring=metrics.make_scorer(\n",
    "                             metrics.mean_squared_error))\n",
    "\n",
    "mse_cv_mean[2] = scores.mean()\n",
    "mse_cv_std[2] = scores.std()\n",
    "\n",
    "print(f\"MSE CV Mean: {mse_cv_mean}\")\n",
    "print(f\"MSE CV Std: {mse_cv_std}\")"
   ]
  },
  {
   "cell_type": "markdown",
   "id": "14584fe2",
   "metadata": {},
   "source": [
    "### 1.5"
   ]
  },
  {
   "cell_type": "code",
   "execution_count": 23,
   "id": "500240d8",
   "metadata": {},
   "outputs": [
    {
     "name": "stdout",
     "output_type": "stream",
     "text": [
      "Best Model: k-NN\n",
      "Best RMSE Test: 4.266465430860453\n",
      "Best RMSE Test 2: 4.132191821623701\n"
     ]
    }
   ],
   "source": [
    "best_model_cv = None\n",
    "best_rmse_test = None\n",
    "\n",
    "best_model_cv = 'k-NN'\n",
    "best_rmse_test = mse_test[1]**0.5\n",
    "best_rmse_test2 = np.sqrt(mse_cv_mean[1])\n",
    "\n",
    "print(f\"Best Model: {best_model_cv}\")\n",
    "print(f\"Best RMSE Test: {best_rmse_test}\")\n",
    "print(f\"Best RMSE Test 2: {best_rmse_test2}\")"
   ]
  },
  {
   "cell_type": "markdown",
   "id": "20c24335",
   "metadata": {},
   "source": [
    "### 1.6"
   ]
  },
  {
   "cell_type": "code",
   "execution_count": 25,
   "id": "08c559b5",
   "metadata": {},
   "outputs": [
    {
     "data": {
      "application/vnd.microsoft.datawrangler.viewer.v0+json": {
       "columns": [
        {
         "name": "index",
         "rawType": "object",
         "type": "string"
        },
        {
         "name": "0",
         "rawType": "float64",
         "type": "float"
        }
       ],
       "ref": "c31a5954-8a1f-4321-bb6c-2c1207f21625",
       "rows": [
        [
         "temp",
         "0.6864855294826762"
        ],
        [
         "ibt",
         "0.13331237681537458"
        ],
        [
         "ibh",
         "0.08919390120764586"
        ],
        [
         "dpg",
         "0.05747582226594802"
        ],
        [
         "vis",
         "0.01821726820189582"
        ]
       ],
       "shape": {
        "columns": 1,
        "rows": 5
       }
      },
      "text/plain": [
       "temp    0.686486\n",
       "ibt     0.133312\n",
       "ibh     0.089194\n",
       "dpg     0.057476\n",
       "vis     0.018217\n",
       "dtype: float64"
      ]
     },
     "execution_count": 25,
     "metadata": {},
     "output_type": "execute_result"
    }
   ],
   "source": [
    "# decision Tree Importance\n",
    "\n",
    "model_dtr = DecisionTreeRegressor(max_depth=4,\n",
    "                                  min_samples_split=20,\n",
    "                                  random_state=123)\n",
    "\n",
    "model_dtr.fit(X_train, y_train)\n",
    "\n",
    "model_dtr.feature_importances_\n",
    "\n",
    "X_train.columns\n",
    "\n",
    "feature_importances = pd.Series(model_dtr.feature_importances_, index=X_train.columns)\n",
    "top5 = feature_importances.sort_values(ascending=False).head(5)\n",
    "top5"
   ]
  },
  {
   "cell_type": "code",
   "execution_count": 37,
   "id": "09241baf",
   "metadata": {},
   "outputs": [],
   "source": [
    "list = ['temp', 'ibt', 'ibh', 'dpg', 'vis']"
   ]
  },
  {
   "cell_type": "code",
   "execution_count": 40,
   "id": "1ff5a390",
   "metadata": {},
   "outputs": [
    {
     "data": {
      "application/vnd.microsoft.datawrangler.viewer.v0+json": {
       "columns": [
        {
         "name": "index",
         "rawType": "object",
         "type": "string"
        },
        {
         "name": "0",
         "rawType": "bool",
         "type": "boolean"
        }
       ],
       "ref": "463327a8-592a-4f3e-a42f-887bedaa139a",
       "rows": [
        [
         "temp",
         "True"
        ],
        [
         "ibt",
         "False"
        ],
        [
         "ibh",
         "False"
        ],
        [
         "dpg",
         "False"
        ],
        [
         "vis",
         "False"
        ]
       ],
       "shape": {
        "columns": 1,
        "rows": 5
       }
      },
      "text/plain": [
       "temp     True\n",
       "ibt     False\n",
       "ibh     False\n",
       "dpg     False\n",
       "vis     False\n",
       "dtype: bool"
      ]
     },
     "execution_count": 40,
     "metadata": {},
     "output_type": "execute_result"
    }
   ],
   "source": [
    "# p-values linear regression\n",
    "X_train = sm.add_constant(X_train)\n",
    "X_test = sm.add_constant(X_test)\n",
    "\n",
    "model_lr_ols = sm.OLS(y_train, X_train).fit()\n",
    "sigVars = model_lr_ols.pvalues < 0.05\n",
    "top5_significance = sigVars[['temp', 'ibt', 'ibh', 'dpg', 'vis']]\n",
    "top5_significance"
   ]
  },
  {
   "cell_type": "markdown",
   "id": "4f60981e",
   "metadata": {},
   "source": [
    "# Problem 2"
   ]
  },
  {
   "cell_type": "code",
   "execution_count": 41,
   "id": "4a5869d1",
   "metadata": {},
   "outputs": [],
   "source": [
    "prostate_data = prostate.load()"
   ]
  },
  {
   "cell_type": "markdown",
   "id": "905361b0",
   "metadata": {},
   "source": [
    "### 2.1"
   ]
  },
  {
   "cell_type": "code",
   "execution_count": 45,
   "id": "e3fdb1fc",
   "metadata": {},
   "outputs": [
    {
     "data": {
      "application/vnd.microsoft.datawrangler.viewer.v0+json": {
       "columns": [
        {
         "name": "index",
         "rawType": "int64",
         "type": "integer"
        },
        {
         "name": "lcavol",
         "rawType": "float64",
         "type": "float"
        },
        {
         "name": "lweight",
         "rawType": "float64",
         "type": "float"
        },
        {
         "name": "age",
         "rawType": "int64",
         "type": "integer"
        },
        {
         "name": "lbph",
         "rawType": "float64",
         "type": "float"
        },
        {
         "name": "svi",
         "rawType": "int64",
         "type": "integer"
        },
        {
         "name": "lcp",
         "rawType": "float64",
         "type": "float"
        },
        {
         "name": "gleason",
         "rawType": "int64",
         "type": "integer"
        },
        {
         "name": "pgg45",
         "rawType": "int64",
         "type": "integer"
        },
        {
         "name": "lpsa",
         "rawType": "float64",
         "type": "float"
        }
       ],
       "ref": "71594fdd-ac69-4ac7-835f-819fab8f719f",
       "rows": [
        [
         "38",
         "2.6609586",
         "4.0851",
         "68",
         "1.373716",
         "1",
         "1.83258",
         "7",
         "35",
         "2.21375"
        ],
        [
         "46",
         "2.7278528",
         "3.9954",
         "79",
         "1.879465",
         "1",
         "2.65676",
         "9",
         "100",
         "2.56879"
        ],
        [
         "61",
         "1.9974177",
         "3.7197",
         "63",
         "1.619388",
         "1",
         "1.90954",
         "7",
         "40",
         "2.85359"
        ],
        [
         "63",
         "2.0347056",
         "3.917",
         "66",
         "2.008214",
         "1",
         "2.11021",
         "7",
         "60",
         "2.882"
        ],
        [
         "70",
         "1.8640801",
         "3.5932",
         "60",
         "-1.386294",
         "1",
         "1.32176",
         "7",
         "60",
         "3.01308"
        ],
        [
         "72",
         "1.2149127",
         "3.8254",
         "69",
         "-1.386294",
         "1",
         "0.22314",
         "7",
         "20",
         "3.05636"
        ],
        [
         "73",
         "1.8389611",
         "3.2367",
         "60",
         "0.438255",
         "1",
         "1.17865",
         "9",
         "90",
         "3.07501"
        ],
        [
         "74",
         "2.9992262",
         "3.8491",
         "69",
         "-1.386294",
         "1",
         "1.90954",
         "7",
         "20",
         "3.27526"
        ],
        [
         "75",
         "3.1411305",
         "3.2638",
         "68",
         "-0.051293",
         "1",
         "2.42037",
         "7",
         "50",
         "3.33755"
        ],
        [
         "78",
         "2.6483002",
         "3.5821",
         "69",
         "-1.386294",
         "1",
         "2.584",
         "7",
         "70",
         "3.45789"
        ],
        [
         "82",
         "2.6130067",
         "3.8888",
         "77",
         "-0.527633",
         "1",
         "0.55962",
         "7",
         "30",
         "3.5653"
        ],
        [
         "85",
         "3.3028493",
         "3.519",
         "64",
         "-1.386294",
         "1",
         "2.32728",
         "7",
         "60",
         "3.63099"
        ],
        [
         "87",
         "1.7316555",
         "3.369",
         "62",
         "-1.386294",
         "1",
         "0.3001",
         "7",
         "30",
         "3.71235"
        ],
        [
         "88",
         "2.8075938",
         "4.7181",
         "65",
         "-1.386294",
         "1",
         "2.46385",
         "7",
         "60",
         "3.98434"
        ],
        [
         "89",
         "1.5623463",
         "3.6951",
         "76",
         "0.936093",
         "1",
         "0.81093",
         "7",
         "75",
         "3.9936"
        ],
        [
         "91",
         "2.5329028",
         "3.6776",
         "61",
         "1.348073",
         "1",
         "-1.38629",
         "7",
         "15",
         "4.12955"
        ],
        [
         "92",
         "2.8302678",
         "3.8764",
         "68",
         "-1.386294",
         "1",
         "1.32176",
         "7",
         "60",
         "4.38515"
        ],
        [
         "93",
         "3.8210036",
         "3.8969",
         "44",
         "-1.386294",
         "1",
         "2.16905",
         "7",
         "40",
         "4.68444"
        ],
        [
         "94",
         "2.9074474",
         "3.3962",
         "52",
         "-1.386294",
         "1",
         "2.46385",
         "7",
         "10",
         "5.14312"
        ],
        [
         "95",
         "2.8825636",
         "3.7739",
         "68",
         "1.558145",
         "1",
         "1.55814",
         "7",
         "80",
         "5.47751"
        ],
        [
         "96",
         "3.4719665",
         "3.975",
         "68",
         "0.438255",
         "1",
         "2.90417",
         "7",
         "20",
         "5.58293"
        ]
       ],
       "shape": {
        "columns": 9,
        "rows": 21
       }
      },
      "text/html": [
       "<div>\n",
       "<style scoped>\n",
       "    .dataframe tbody tr th:only-of-type {\n",
       "        vertical-align: middle;\n",
       "    }\n",
       "\n",
       "    .dataframe tbody tr th {\n",
       "        vertical-align: top;\n",
       "    }\n",
       "\n",
       "    .dataframe thead th {\n",
       "        text-align: right;\n",
       "    }\n",
       "</style>\n",
       "<table border=\"1\" class=\"dataframe\">\n",
       "  <thead>\n",
       "    <tr style=\"text-align: right;\">\n",
       "      <th></th>\n",
       "      <th>lcavol</th>\n",
       "      <th>lweight</th>\n",
       "      <th>age</th>\n",
       "      <th>lbph</th>\n",
       "      <th>svi</th>\n",
       "      <th>lcp</th>\n",
       "      <th>gleason</th>\n",
       "      <th>pgg45</th>\n",
       "      <th>lpsa</th>\n",
       "    </tr>\n",
       "  </thead>\n",
       "  <tbody>\n",
       "    <tr>\n",
       "      <th>38</th>\n",
       "      <td>2.660959</td>\n",
       "      <td>4.0851</td>\n",
       "      <td>68</td>\n",
       "      <td>1.373716</td>\n",
       "      <td>1</td>\n",
       "      <td>1.83258</td>\n",
       "      <td>7</td>\n",
       "      <td>35</td>\n",
       "      <td>2.21375</td>\n",
       "    </tr>\n",
       "    <tr>\n",
       "      <th>46</th>\n",
       "      <td>2.727853</td>\n",
       "      <td>3.9954</td>\n",
       "      <td>79</td>\n",
       "      <td>1.879465</td>\n",
       "      <td>1</td>\n",
       "      <td>2.65676</td>\n",
       "      <td>9</td>\n",
       "      <td>100</td>\n",
       "      <td>2.56879</td>\n",
       "    </tr>\n",
       "    <tr>\n",
       "      <th>61</th>\n",
       "      <td>1.997418</td>\n",
       "      <td>3.7197</td>\n",
       "      <td>63</td>\n",
       "      <td>1.619388</td>\n",
       "      <td>1</td>\n",
       "      <td>1.90954</td>\n",
       "      <td>7</td>\n",
       "      <td>40</td>\n",
       "      <td>2.85359</td>\n",
       "    </tr>\n",
       "    <tr>\n",
       "      <th>63</th>\n",
       "      <td>2.034706</td>\n",
       "      <td>3.9170</td>\n",
       "      <td>66</td>\n",
       "      <td>2.008214</td>\n",
       "      <td>1</td>\n",
       "      <td>2.11021</td>\n",
       "      <td>7</td>\n",
       "      <td>60</td>\n",
       "      <td>2.88200</td>\n",
       "    </tr>\n",
       "    <tr>\n",
       "      <th>70</th>\n",
       "      <td>1.864080</td>\n",
       "      <td>3.5932</td>\n",
       "      <td>60</td>\n",
       "      <td>-1.386294</td>\n",
       "      <td>1</td>\n",
       "      <td>1.32176</td>\n",
       "      <td>7</td>\n",
       "      <td>60</td>\n",
       "      <td>3.01308</td>\n",
       "    </tr>\n",
       "    <tr>\n",
       "      <th>72</th>\n",
       "      <td>1.214913</td>\n",
       "      <td>3.8254</td>\n",
       "      <td>69</td>\n",
       "      <td>-1.386294</td>\n",
       "      <td>1</td>\n",
       "      <td>0.22314</td>\n",
       "      <td>7</td>\n",
       "      <td>20</td>\n",
       "      <td>3.05636</td>\n",
       "    </tr>\n",
       "    <tr>\n",
       "      <th>73</th>\n",
       "      <td>1.838961</td>\n",
       "      <td>3.2367</td>\n",
       "      <td>60</td>\n",
       "      <td>0.438255</td>\n",
       "      <td>1</td>\n",
       "      <td>1.17865</td>\n",
       "      <td>9</td>\n",
       "      <td>90</td>\n",
       "      <td>3.07501</td>\n",
       "    </tr>\n",
       "    <tr>\n",
       "      <th>74</th>\n",
       "      <td>2.999226</td>\n",
       "      <td>3.8491</td>\n",
       "      <td>69</td>\n",
       "      <td>-1.386294</td>\n",
       "      <td>1</td>\n",
       "      <td>1.90954</td>\n",
       "      <td>7</td>\n",
       "      <td>20</td>\n",
       "      <td>3.27526</td>\n",
       "    </tr>\n",
       "    <tr>\n",
       "      <th>75</th>\n",
       "      <td>3.141131</td>\n",
       "      <td>3.2638</td>\n",
       "      <td>68</td>\n",
       "      <td>-0.051293</td>\n",
       "      <td>1</td>\n",
       "      <td>2.42037</td>\n",
       "      <td>7</td>\n",
       "      <td>50</td>\n",
       "      <td>3.33755</td>\n",
       "    </tr>\n",
       "    <tr>\n",
       "      <th>78</th>\n",
       "      <td>2.648300</td>\n",
       "      <td>3.5821</td>\n",
       "      <td>69</td>\n",
       "      <td>-1.386294</td>\n",
       "      <td>1</td>\n",
       "      <td>2.58400</td>\n",
       "      <td>7</td>\n",
       "      <td>70</td>\n",
       "      <td>3.45789</td>\n",
       "    </tr>\n",
       "    <tr>\n",
       "      <th>82</th>\n",
       "      <td>2.613007</td>\n",
       "      <td>3.8888</td>\n",
       "      <td>77</td>\n",
       "      <td>-0.527633</td>\n",
       "      <td>1</td>\n",
       "      <td>0.55962</td>\n",
       "      <td>7</td>\n",
       "      <td>30</td>\n",
       "      <td>3.56530</td>\n",
       "    </tr>\n",
       "    <tr>\n",
       "      <th>85</th>\n",
       "      <td>3.302849</td>\n",
       "      <td>3.5190</td>\n",
       "      <td>64</td>\n",
       "      <td>-1.386294</td>\n",
       "      <td>1</td>\n",
       "      <td>2.32728</td>\n",
       "      <td>7</td>\n",
       "      <td>60</td>\n",
       "      <td>3.63099</td>\n",
       "    </tr>\n",
       "    <tr>\n",
       "      <th>87</th>\n",
       "      <td>1.731656</td>\n",
       "      <td>3.3690</td>\n",
       "      <td>62</td>\n",
       "      <td>-1.386294</td>\n",
       "      <td>1</td>\n",
       "      <td>0.30010</td>\n",
       "      <td>7</td>\n",
       "      <td>30</td>\n",
       "      <td>3.71235</td>\n",
       "    </tr>\n",
       "    <tr>\n",
       "      <th>88</th>\n",
       "      <td>2.807594</td>\n",
       "      <td>4.7181</td>\n",
       "      <td>65</td>\n",
       "      <td>-1.386294</td>\n",
       "      <td>1</td>\n",
       "      <td>2.46385</td>\n",
       "      <td>7</td>\n",
       "      <td>60</td>\n",
       "      <td>3.98434</td>\n",
       "    </tr>\n",
       "    <tr>\n",
       "      <th>89</th>\n",
       "      <td>1.562346</td>\n",
       "      <td>3.6951</td>\n",
       "      <td>76</td>\n",
       "      <td>0.936093</td>\n",
       "      <td>1</td>\n",
       "      <td>0.81093</td>\n",
       "      <td>7</td>\n",
       "      <td>75</td>\n",
       "      <td>3.99360</td>\n",
       "    </tr>\n",
       "    <tr>\n",
       "      <th>91</th>\n",
       "      <td>2.532903</td>\n",
       "      <td>3.6776</td>\n",
       "      <td>61</td>\n",
       "      <td>1.348073</td>\n",
       "      <td>1</td>\n",
       "      <td>-1.38629</td>\n",
       "      <td>7</td>\n",
       "      <td>15</td>\n",
       "      <td>4.12955</td>\n",
       "    </tr>\n",
       "    <tr>\n",
       "      <th>92</th>\n",
       "      <td>2.830268</td>\n",
       "      <td>3.8764</td>\n",
       "      <td>68</td>\n",
       "      <td>-1.386294</td>\n",
       "      <td>1</td>\n",
       "      <td>1.32176</td>\n",
       "      <td>7</td>\n",
       "      <td>60</td>\n",
       "      <td>4.38515</td>\n",
       "    </tr>\n",
       "    <tr>\n",
       "      <th>93</th>\n",
       "      <td>3.821004</td>\n",
       "      <td>3.8969</td>\n",
       "      <td>44</td>\n",
       "      <td>-1.386294</td>\n",
       "      <td>1</td>\n",
       "      <td>2.16905</td>\n",
       "      <td>7</td>\n",
       "      <td>40</td>\n",
       "      <td>4.68444</td>\n",
       "    </tr>\n",
       "    <tr>\n",
       "      <th>94</th>\n",
       "      <td>2.907447</td>\n",
       "      <td>3.3962</td>\n",
       "      <td>52</td>\n",
       "      <td>-1.386294</td>\n",
       "      <td>1</td>\n",
       "      <td>2.46385</td>\n",
       "      <td>7</td>\n",
       "      <td>10</td>\n",
       "      <td>5.14312</td>\n",
       "    </tr>\n",
       "    <tr>\n",
       "      <th>95</th>\n",
       "      <td>2.882564</td>\n",
       "      <td>3.7739</td>\n",
       "      <td>68</td>\n",
       "      <td>1.558145</td>\n",
       "      <td>1</td>\n",
       "      <td>1.55814</td>\n",
       "      <td>7</td>\n",
       "      <td>80</td>\n",
       "      <td>5.47751</td>\n",
       "    </tr>\n",
       "    <tr>\n",
       "      <th>96</th>\n",
       "      <td>3.471967</td>\n",
       "      <td>3.9750</td>\n",
       "      <td>68</td>\n",
       "      <td>0.438255</td>\n",
       "      <td>1</td>\n",
       "      <td>2.90417</td>\n",
       "      <td>7</td>\n",
       "      <td>20</td>\n",
       "      <td>5.58293</td>\n",
       "    </tr>\n",
       "  </tbody>\n",
       "</table>\n",
       "</div>"
      ],
      "text/plain": [
       "      lcavol  lweight  age      lbph  svi      lcp  gleason  pgg45     lpsa\n",
       "38  2.660959   4.0851   68  1.373716    1  1.83258        7     35  2.21375\n",
       "46  2.727853   3.9954   79  1.879465    1  2.65676        9    100  2.56879\n",
       "61  1.997418   3.7197   63  1.619388    1  1.90954        7     40  2.85359\n",
       "63  2.034706   3.9170   66  2.008214    1  2.11021        7     60  2.88200\n",
       "70  1.864080   3.5932   60 -1.386294    1  1.32176        7     60  3.01308\n",
       "72  1.214913   3.8254   69 -1.386294    1  0.22314        7     20  3.05636\n",
       "73  1.838961   3.2367   60  0.438255    1  1.17865        9     90  3.07501\n",
       "74  2.999226   3.8491   69 -1.386294    1  1.90954        7     20  3.27526\n",
       "75  3.141131   3.2638   68 -0.051293    1  2.42037        7     50  3.33755\n",
       "78  2.648300   3.5821   69 -1.386294    1  2.58400        7     70  3.45789\n",
       "82  2.613007   3.8888   77 -0.527633    1  0.55962        7     30  3.56530\n",
       "85  3.302849   3.5190   64 -1.386294    1  2.32728        7     60  3.63099\n",
       "87  1.731656   3.3690   62 -1.386294    1  0.30010        7     30  3.71235\n",
       "88  2.807594   4.7181   65 -1.386294    1  2.46385        7     60  3.98434\n",
       "89  1.562346   3.6951   76  0.936093    1  0.81093        7     75  3.99360\n",
       "91  2.532903   3.6776   61  1.348073    1 -1.38629        7     15  4.12955\n",
       "92  2.830268   3.8764   68 -1.386294    1  1.32176        7     60  4.38515\n",
       "93  3.821004   3.8969   44 -1.386294    1  2.16905        7     40  4.68444\n",
       "94  2.907447   3.3962   52 -1.386294    1  2.46385        7     10  5.14312\n",
       "95  2.882564   3.7739   68  1.558145    1  1.55814        7     80  5.47751\n",
       "96  3.471967   3.9750   68  0.438255    1  2.90417        7     20  5.58293"
      ]
     },
     "execution_count": 45,
     "metadata": {},
     "output_type": "execute_result"
    }
   ],
   "source": [
    "prostate_data[prostate_data['svi'] == 1]"
   ]
  },
  {
   "cell_type": "code",
   "execution_count": 46,
   "id": "e21b555e",
   "metadata": {},
   "outputs": [],
   "source": [
    "train2 = None\n",
    "test2 = None\n",
    "\n",
    "# split data\n",
    "train2, test2 = train_test_split(prostate_data, test_size=0.3, random_state=12345, stratify=prostate_data['svi'])"
   ]
  },
  {
   "cell_type": "code",
   "execution_count": 47,
   "id": "1b9c94c2",
   "metadata": {},
   "outputs": [
    {
     "data": {
      "application/vnd.microsoft.datawrangler.viewer.v0+json": {
       "columns": [
        {
         "name": "index",
         "rawType": "int64",
         "type": "integer"
        },
        {
         "name": "lcavol",
         "rawType": "float64",
         "type": "float"
        },
        {
         "name": "lweight",
         "rawType": "float64",
         "type": "float"
        },
        {
         "name": "age",
         "rawType": "int64",
         "type": "integer"
        },
        {
         "name": "lbph",
         "rawType": "float64",
         "type": "float"
        },
        {
         "name": "svi",
         "rawType": "int64",
         "type": "integer"
        },
        {
         "name": "lcp",
         "rawType": "float64",
         "type": "float"
        },
        {
         "name": "gleason",
         "rawType": "int64",
         "type": "integer"
        },
        {
         "name": "pgg45",
         "rawType": "int64",
         "type": "integer"
        },
        {
         "name": "lpsa",
         "rawType": "float64",
         "type": "float"
        }
       ],
       "ref": "4db41445-5479-4b0b-84fd-32acede3be40",
       "rows": [
        [
         "5",
         "-1.0498221",
         "3.2288",
         "50",
         "-1.386294",
         "0",
         "-1.38629",
         "6",
         "0",
         "0.76547"
        ],
        [
         "81",
         "2.5136561",
         "3.4735",
         "57",
         "0.438255",
         "0",
         "2.32728",
         "7",
         "60",
         "3.53076"
        ],
        [
         "53",
         "2.1270405",
         "4.1215",
         "68",
         "1.766442",
         "0",
         "1.44692",
         "7",
         "40",
         "2.69124"
        ],
        [
         "8",
         "-0.7765288",
         "3.5395",
         "47",
         "-1.386294",
         "0",
         "-1.38629",
         "6",
         "0",
         "1.04732"
        ],
        [
         "60",
         "0.4574248",
         "4.5245",
         "73",
         "2.326302",
         "0",
         "-1.38629",
         "6",
         "0",
         "2.842"
        ],
        [
         "63",
         "2.0347056",
         "3.917",
         "66",
         "2.008214",
         "1",
         "2.11021",
         "7",
         "60",
         "2.882"
        ],
        [
         "6",
         "0.7371641",
         "3.4735",
         "64",
         "0.615186",
         "0",
         "-1.38629",
         "6",
         "0",
         "0.76547"
        ],
        [
         "28",
         "1.0402767",
         "3.129",
         "67",
         "0.223144",
         "0",
         "0.04879",
         "7",
         "80",
         "1.84845"
        ],
        [
         "95",
         "2.8825636",
         "3.7739",
         "68",
         "1.558145",
         "1",
         "1.55814",
         "7",
         "80",
         "5.47751"
        ],
        [
         "70",
         "1.8640801",
         "3.5932",
         "60",
         "-1.386294",
         "1",
         "1.32176",
         "7",
         "60",
         "3.01308"
        ],
        [
         "37",
         "0.4574248",
         "2.3749",
         "64",
         "-1.386294",
         "0",
         "-1.38629",
         "7",
         "15",
         "2.19165"
        ],
        [
         "89",
         "1.5623463",
         "3.6951",
         "76",
         "0.936093",
         "1",
         "0.81093",
         "7",
         "75",
         "3.9936"
        ],
        [
         "51",
         "1.660131",
         "4.2348",
         "64",
         "2.073172",
         "0",
         "-1.38629",
         "6",
         "0",
         "2.67759"
        ],
        [
         "25",
         "1.446919",
         "3.1246",
         "68",
         "0.300105",
         "0",
         "-1.38629",
         "6",
         "0",
         "1.76644"
        ],
        [
         "0",
         "-0.5798185",
         "2.7695",
         "50",
         "-1.386294",
         "0",
         "-1.38629",
         "6",
         "0",
         "-0.43078"
        ],
        [
         "18",
         "-0.5621189",
         "3.2677",
         "41",
         "-1.386294",
         "0",
         "-1.38629",
         "6",
         "0",
         "1.55814"
        ],
        [
         "55",
         "1.2669476",
         "4.2801",
         "66",
         "2.122262",
         "0",
         "-1.38629",
         "7",
         "15",
         "2.718"
        ],
        [
         "12",
         "1.6134299",
         "3.0229",
         "63",
         "-1.386294",
         "0",
         "-0.59784",
         "7",
         "30",
         "1.26695"
        ],
        [
         "16",
         "-0.4155154",
         "3.516",
         "70",
         "1.244155",
         "0",
         "-0.59784",
         "7",
         "30",
         "1.47018"
        ],
        [
         "24",
         "0.3852624",
         "3.6674",
         "69",
         "1.599388",
         "0",
         "-1.38629",
         "6",
         "0",
         "1.73166"
        ],
        [
         "43",
         "1.7715568",
         "3.8969",
         "61",
         "-1.386294",
         "0",
         "0.81093",
         "7",
         "6",
         "2.37491"
        ],
        [
         "19",
         "0.1823216",
         "3.8254",
         "70",
         "1.658228",
         "0",
         "-1.38629",
         "6",
         "0",
         "1.59939"
        ],
        [
         "61",
         "1.9974177",
         "3.7197",
         "63",
         "1.619388",
         "1",
         "1.90954",
         "7",
         "40",
         "2.85359"
        ],
        [
         "77",
         "2.5376572",
         "4.3548",
         "78",
         "2.326302",
         "0",
         "-1.38629",
         "7",
         "10",
         "3.4356"
        ],
        [
         "22",
         "-0.5447272",
         "3.3759",
         "59",
         "-0.798508",
         "0",
         "-1.38629",
         "6",
         "0",
         "1.69562"
        ],
        [
         "50",
         "1.0919233",
         "3.9936",
         "68",
         "-1.386294",
         "0",
         "-1.38629",
         "7",
         "50",
         "2.65676"
        ],
        [
         "45",
         "1.6639261",
         "3.3928",
         "61",
         "0.615186",
         "0",
         "-1.38629",
         "7",
         "15",
         "2.55334"
        ],
        [
         "67",
         "2.1983351",
         "4.0509",
         "72",
         "2.307573",
         "0",
         "-0.43078",
         "7",
         "10",
         "2.96269"
        ],
        [
         "82",
         "2.6130067",
         "3.8888",
         "77",
         "-0.527633",
         "1",
         "0.55962",
         "7",
         "30",
         "3.5653"
        ],
        [
         "52",
         "0.5128236",
         "3.6336",
         "64",
         "1.492904",
         "0",
         "0.04879",
         "7",
         "70",
         "2.68444"
        ],
        [
         "87",
         "1.7316555",
         "3.369",
         "62",
         "-1.386294",
         "1",
         "0.3001",
         "7",
         "30",
         "3.71235"
        ],
        [
         "94",
         "2.9074474",
         "3.3962",
         "52",
         "-1.386294",
         "1",
         "2.46385",
         "7",
         "10",
         "5.14312"
        ],
        [
         "21",
         "2.0592388",
         "3.501",
         "60",
         "1.474763",
         "0",
         "1.34807",
         "7",
         "20",
         "1.65823"
        ],
        [
         "73",
         "1.8389611",
         "3.2367",
         "60",
         "0.438255",
         "1",
         "1.17865",
         "9",
         "90",
         "3.07501"
        ],
        [
         "76",
         "2.010895",
         "4.4338",
         "72",
         "2.122262",
         "0",
         "0.50078",
         "7",
         "60",
         "3.39283"
        ],
        [
         "88",
         "2.8075938",
         "4.7181",
         "65",
         "-1.386294",
         "1",
         "2.46385",
         "7",
         "60",
         "3.98434"
        ],
        [
         "41",
         "1.442202",
         "3.6826",
         "68",
         "-1.386294",
         "0",
         "-1.38629",
         "7",
         "10",
         "2.30757"
        ],
        [
         "79",
         "2.7794402",
         "3.8232",
         "63",
         "-1.386294",
         "0",
         "0.37156",
         "7",
         "50",
         "3.51304"
        ],
        [
         "13",
         "1.4770487",
         "2.9982",
         "67",
         "-1.386294",
         "0",
         "-1.38629",
         "7",
         "5",
         "1.34807"
        ],
        [
         "48",
         "1.7457155",
         "3.498",
         "43",
         "-1.386294",
         "0",
         "-1.38629",
         "6",
         "0",
         "2.59152"
        ],
        [
         "47",
         "1.1631508",
         "4.0351",
         "68",
         "1.713798",
         "0",
         "-0.43078",
         "7",
         "40",
         "2.56879"
        ],
        [
         "3",
         "-1.2039728",
         "3.2828",
         "58",
         "-1.386294",
         "0",
         "-1.38629",
         "6",
         "0",
         "-0.16252"
        ],
        [
         "20",
         "1.1474025",
         "3.4194",
         "59",
         "-1.386294",
         "0",
         "-1.38629",
         "6",
         "0",
         "1.639"
        ],
        [
         "2",
         "-0.5108256",
         "2.6912",
         "74",
         "-1.386294",
         "0",
         "-1.38629",
         "7",
         "20",
         "-0.16252"
        ],
        [
         "9",
         "0.2231436",
         "3.2445",
         "63",
         "-1.386294",
         "0",
         "-1.38629",
         "6",
         "0",
         "1.04732"
        ],
        [
         "49",
         "1.2208299",
         "3.5681",
         "70",
         "1.373716",
         "0",
         "-0.79851",
         "6",
         "0",
         "2.59152"
        ],
        [
         "78",
         "2.6483002",
         "3.5821",
         "69",
         "-1.386294",
         "1",
         "2.584",
         "7",
         "70",
         "3.45789"
        ],
        [
         "56",
         "0.9745596",
         "2.8651",
         "47",
         "-1.386294",
         "0",
         "0.50078",
         "7",
         "4",
         "2.78809"
        ],
        [
         "69",
         "1.1939225",
         "4.7804",
         "72",
         "2.326302",
         "0",
         "-0.79851",
         "7",
         "5",
         "2.97298"
        ],
        [
         "26",
         "0.5128236",
         "3.7197",
         "65",
         "-1.386294",
         "0",
         "-0.79851",
         "7",
         "70",
         "1.80006"
        ]
       ],
       "shape": {
        "columns": 9,
        "rows": 67
       }
      },
      "text/html": [
       "<div>\n",
       "<style scoped>\n",
       "    .dataframe tbody tr th:only-of-type {\n",
       "        vertical-align: middle;\n",
       "    }\n",
       "\n",
       "    .dataframe tbody tr th {\n",
       "        vertical-align: top;\n",
       "    }\n",
       "\n",
       "    .dataframe thead th {\n",
       "        text-align: right;\n",
       "    }\n",
       "</style>\n",
       "<table border=\"1\" class=\"dataframe\">\n",
       "  <thead>\n",
       "    <tr style=\"text-align: right;\">\n",
       "      <th></th>\n",
       "      <th>lcavol</th>\n",
       "      <th>lweight</th>\n",
       "      <th>age</th>\n",
       "      <th>lbph</th>\n",
       "      <th>svi</th>\n",
       "      <th>lcp</th>\n",
       "      <th>gleason</th>\n",
       "      <th>pgg45</th>\n",
       "      <th>lpsa</th>\n",
       "    </tr>\n",
       "  </thead>\n",
       "  <tbody>\n",
       "    <tr>\n",
       "      <th>5</th>\n",
       "      <td>-1.049822</td>\n",
       "      <td>3.2288</td>\n",
       "      <td>50</td>\n",
       "      <td>-1.386294</td>\n",
       "      <td>0</td>\n",
       "      <td>-1.38629</td>\n",
       "      <td>6</td>\n",
       "      <td>0</td>\n",
       "      <td>0.76547</td>\n",
       "    </tr>\n",
       "    <tr>\n",
       "      <th>81</th>\n",
       "      <td>2.513656</td>\n",
       "      <td>3.4735</td>\n",
       "      <td>57</td>\n",
       "      <td>0.438255</td>\n",
       "      <td>0</td>\n",
       "      <td>2.32728</td>\n",
       "      <td>7</td>\n",
       "      <td>60</td>\n",
       "      <td>3.53076</td>\n",
       "    </tr>\n",
       "    <tr>\n",
       "      <th>53</th>\n",
       "      <td>2.127041</td>\n",
       "      <td>4.1215</td>\n",
       "      <td>68</td>\n",
       "      <td>1.766442</td>\n",
       "      <td>0</td>\n",
       "      <td>1.44692</td>\n",
       "      <td>7</td>\n",
       "      <td>40</td>\n",
       "      <td>2.69124</td>\n",
       "    </tr>\n",
       "    <tr>\n",
       "      <th>8</th>\n",
       "      <td>-0.776529</td>\n",
       "      <td>3.5395</td>\n",
       "      <td>47</td>\n",
       "      <td>-1.386294</td>\n",
       "      <td>0</td>\n",
       "      <td>-1.38629</td>\n",
       "      <td>6</td>\n",
       "      <td>0</td>\n",
       "      <td>1.04732</td>\n",
       "    </tr>\n",
       "    <tr>\n",
       "      <th>60</th>\n",
       "      <td>0.457425</td>\n",
       "      <td>4.5245</td>\n",
       "      <td>73</td>\n",
       "      <td>2.326302</td>\n",
       "      <td>0</td>\n",
       "      <td>-1.38629</td>\n",
       "      <td>6</td>\n",
       "      <td>0</td>\n",
       "      <td>2.84200</td>\n",
       "    </tr>\n",
       "    <tr>\n",
       "      <th>...</th>\n",
       "      <td>...</td>\n",
       "      <td>...</td>\n",
       "      <td>...</td>\n",
       "      <td>...</td>\n",
       "      <td>...</td>\n",
       "      <td>...</td>\n",
       "      <td>...</td>\n",
       "      <td>...</td>\n",
       "      <td>...</td>\n",
       "    </tr>\n",
       "    <tr>\n",
       "      <th>74</th>\n",
       "      <td>2.999226</td>\n",
       "      <td>3.8491</td>\n",
       "      <td>69</td>\n",
       "      <td>-1.386294</td>\n",
       "      <td>1</td>\n",
       "      <td>1.90954</td>\n",
       "      <td>7</td>\n",
       "      <td>20</td>\n",
       "      <td>3.27526</td>\n",
       "    </tr>\n",
       "    <tr>\n",
       "      <th>17</th>\n",
       "      <td>2.288486</td>\n",
       "      <td>3.6494</td>\n",
       "      <td>66</td>\n",
       "      <td>-1.386294</td>\n",
       "      <td>0</td>\n",
       "      <td>0.37156</td>\n",
       "      <td>6</td>\n",
       "      <td>0</td>\n",
       "      <td>1.49290</td>\n",
       "    </tr>\n",
       "    <tr>\n",
       "      <th>59</th>\n",
       "      <td>1.061257</td>\n",
       "      <td>3.8512</td>\n",
       "      <td>61</td>\n",
       "      <td>1.294727</td>\n",
       "      <td>0</td>\n",
       "      <td>-1.38629</td>\n",
       "      <td>7</td>\n",
       "      <td>40</td>\n",
       "      <td>2.81241</td>\n",
       "    </tr>\n",
       "    <tr>\n",
       "      <th>65</th>\n",
       "      <td>1.458615</td>\n",
       "      <td>3.8362</td>\n",
       "      <td>61</td>\n",
       "      <td>1.321756</td>\n",
       "      <td>0</td>\n",
       "      <td>-0.43078</td>\n",
       "      <td>7</td>\n",
       "      <td>20</td>\n",
       "      <td>2.88759</td>\n",
       "    </tr>\n",
       "    <tr>\n",
       "      <th>91</th>\n",
       "      <td>2.532903</td>\n",
       "      <td>3.6776</td>\n",
       "      <td>61</td>\n",
       "      <td>1.348073</td>\n",
       "      <td>1</td>\n",
       "      <td>-1.38629</td>\n",
       "      <td>7</td>\n",
       "      <td>15</td>\n",
       "      <td>4.12955</td>\n",
       "    </tr>\n",
       "  </tbody>\n",
       "</table>\n",
       "<p>67 rows × 9 columns</p>\n",
       "</div>"
      ],
      "text/plain": [
       "      lcavol  lweight  age      lbph  svi      lcp  gleason  pgg45     lpsa\n",
       "5  -1.049822   3.2288   50 -1.386294    0 -1.38629        6      0  0.76547\n",
       "81  2.513656   3.4735   57  0.438255    0  2.32728        7     60  3.53076\n",
       "53  2.127041   4.1215   68  1.766442    0  1.44692        7     40  2.69124\n",
       "8  -0.776529   3.5395   47 -1.386294    0 -1.38629        6      0  1.04732\n",
       "60  0.457425   4.5245   73  2.326302    0 -1.38629        6      0  2.84200\n",
       "..       ...      ...  ...       ...  ...      ...      ...    ...      ...\n",
       "74  2.999226   3.8491   69 -1.386294    1  1.90954        7     20  3.27526\n",
       "17  2.288486   3.6494   66 -1.386294    0  0.37156        6      0  1.49290\n",
       "59  1.061257   3.8512   61  1.294727    0 -1.38629        7     40  2.81241\n",
       "65  1.458615   3.8362   61  1.321756    0 -0.43078        7     20  2.88759\n",
       "91  2.532903   3.6776   61  1.348073    1 -1.38629        7     15  4.12955\n",
       "\n",
       "[67 rows x 9 columns]"
      ]
     },
     "execution_count": 47,
     "metadata": {},
     "output_type": "execute_result"
    }
   ],
   "source": [
    "train2"
   ]
  },
  {
   "cell_type": "code",
   "execution_count": 49,
   "id": "add2b765",
   "metadata": {},
   "outputs": [
    {
     "name": "stdout",
     "output_type": "stream",
     "text": [
      "Proporciones en todo el dataset:\n",
      "svi\n",
      "0    0.783505\n",
      "1    0.216495\n",
      "Name: proportion, dtype: float64\n",
      "\n",
      "Proporciones en train2:\n",
      "svi\n",
      "0    0.776119\n",
      "1    0.223881\n",
      "Name: proportion, dtype: float64\n",
      "\n",
      "Proporciones en test2:\n",
      "svi\n",
      "0    0.8\n",
      "1    0.2\n",
      "Name: proportion, dtype: float64\n"
     ]
    }
   ],
   "source": [
    "print(\"Proporciones en todo el dataset:\")\n",
    "print(prostate_data['svi'].value_counts(normalize=True))\n",
    "\n",
    "print(\"\\nProporciones en train2:\")\n",
    "print(train2['svi'].value_counts(normalize=True))\n",
    "\n",
    "print(\"\\nProporciones en test2:\")\n",
    "print(test2['svi'].value_counts(normalize=True))"
   ]
  },
  {
   "cell_type": "markdown",
   "id": "f7347e92",
   "metadata": {},
   "source": [
    "### 2.2"
   ]
  },
  {
   "cell_type": "code",
   "execution_count": 50,
   "id": "0f3f863a",
   "metadata": {},
   "outputs": [],
   "source": [
    "X_train2 = train2.drop(columns=['svi'])\n",
    "y_train2 = train2['svi']\n",
    "\n",
    "X_test2 = test2.drop(columns=['svi'])\n",
    "y_test2 = test2['svi']"
   ]
  },
  {
   "cell_type": "code",
   "execution_count": 52,
   "id": "c91d3036",
   "metadata": {},
   "outputs": [],
   "source": [
    "performance_metrics = pd.DataFrame(columns=['accuracy', 'recall', 'precision', 'f1_score'], index=['logit', 'knn', 'dtree'])\n"
   ]
  },
  {
   "cell_type": "code",
   "execution_count": 53,
   "id": "287073b5",
   "metadata": {},
   "outputs": [],
   "source": [
    "accuracy_train2 = np.zeros(3)\n",
    "accuracy_test2 = np.zeros(3)\n",
    "recall_train2 = np.zeros(3)\n",
    "recall_test2 = np.zeros(3)\n",
    "precision_train2 = np.zeros(3)\n",
    "precision_test2 = np.zeros(3)\n",
    "f1_train2 = np.zeros(3)\n",
    "f1_test2 = np.zeros(3)"
   ]
  },
  {
   "cell_type": "code",
   "execution_count": 58,
   "id": "8afa2136",
   "metadata": {},
   "outputs": [
    {
     "name": "stdout",
     "output_type": "stream",
     "text": [
      "======================================== TRAIN ========================================\n",
      "Accuracy Train: [0.89552239 0.         0.        ]\n",
      "Recall Train: [0.73333333 0.         0.        ]\n",
      "Precision Train: [0.78571429 0.         0.        ]\n",
      "F1 Train: [0.75862069 0.         0.        ]\n",
      "======================================== TEST ========================================\n",
      "Accuracy Test: [0.9 0.  0. ]\n",
      "Recall Test: [0.66666667 0.         0.        ]\n",
      "Precision Test: [0.8 0.  0. ]\n",
      "F1 Test: [0.72727273 0.         0.        ]\n"
     ]
    }
   ],
   "source": [
    "# Logistic Regression\n",
    "\n",
    "model_log_regression = LogisticRegression(solver='newton-cg',\n",
    "                                          fit_intercept=True)\n",
    "\n",
    "# Fit\n",
    "model_log_regression.fit(X_train2, y_train2)\n",
    "\n",
    "# Predict\n",
    "y_pred_train2 = model_log_regression.predict(X_train2)\n",
    "y_pred_test2 = model_log_regression.predict(X_test2)\n",
    "\n",
    "# Metrics\n",
    "# Accuracy\n",
    "accuracy_train2[0] = metrics.accuracy_score(y_train2, y_pred_train2)\n",
    "accuracy_test2[0] = metrics.accuracy_score(y_test2, y_pred_test2)\n",
    "# Recall\n",
    "recall_train2[0] = metrics.recall_score(y_train2, y_pred_train2)\n",
    "recall_test2[0] = metrics.recall_score(y_test2, y_pred_test2)\n",
    "# Precision\n",
    "precision_train2[0] = metrics.precision_score(y_train2, y_pred_train2)\n",
    "precision_test2[0] = metrics.precision_score(y_test2, y_pred_test2)\n",
    "# F1\n",
    "f1_train2[0] = metrics.f1_score(y_train2, y_pred_train2)\n",
    "f1_test2[0] = metrics.f1_score(y_test2, y_pred_test2)\n",
    "\n",
    "print('='*40, \"TRAIN\", '='*40)\n",
    "print(f\"Accuracy Train: {accuracy_train2}\")\n",
    "print(f\"Recall Train: {recall_train2}\")\n",
    "print(f\"Precision Train: {precision_train2}\")\n",
    "print(f\"F1 Train: {f1_train2}\")\n",
    "print('='*40, \"TEST\", '='*40)\n",
    "print(f\"Accuracy Test: {accuracy_test2}\")\n",
    "print(f\"Recall Test: {recall_test2}\")\n",
    "print(f\"Precision Test: {precision_test2}\")\n",
    "print(f\"F1 Test: {f1_test2}\")"
   ]
  },
  {
   "cell_type": "code",
   "execution_count": 59,
   "id": "f2d4021d",
   "metadata": {},
   "outputs": [
    {
     "name": "stdout",
     "output_type": "stream",
     "text": [
      "======================================== TRAIN ========================================\n",
      "Accuracy Train: [0.89552239 0.86567164 0.        ]\n",
      "Recall Train: [0.73333333 0.53333333 0.        ]\n",
      "Precision Train: [0.78571429 0.8        0.        ]\n",
      "F1 Train: [0.75862069 0.64       0.        ]\n",
      "======================================== TEST ========================================\n",
      "Accuracy Test: [0.9        0.83333333 0.        ]\n",
      "Recall Test: [0.66666667 0.5        0.        ]\n",
      "Precision Test: [0.8 0.6 0. ]\n",
      "F1 Test: [0.72727273 0.54545455 0.        ]\n"
     ]
    }
   ],
   "source": [
    "\n",
    "scaler = MinMaxScaler()\n",
    "X_train2_scaled = scaler.fit_transform(X_train2)\n",
    "X_test2_scaled = scaler.transform(X_test2)\n",
    "\n",
    "\n",
    "# KNN Regression K = 10\n",
    "model_knn_regression = KNeighborsClassifier(n_neighbors=10, metric='euclidean')\n",
    "\n",
    "# Fit\n",
    "model_knn_regression.fit(X_train2_scaled, y_train2)\n",
    "\n",
    "# Predict\n",
    "y_pred_train2 = model_knn_regression.predict(X_train2_scaled)\n",
    "y_pred_test2 = model_knn_regression.predict(X_test2_scaled)\n",
    "\n",
    "# Metrics\n",
    "# Accuracy\n",
    "accuracy_train2[1] = metrics.accuracy_score(y_train2, y_pred_train2)\n",
    "accuracy_test2[1] = metrics.accuracy_score(y_test2, y_pred_test2)\n",
    "# Recall\n",
    "recall_train2[1] = metrics.recall_score(y_train2, y_pred_train2)\n",
    "recall_test2[1] = metrics.recall_score(y_test2, y_pred_test2)\n",
    "# Precision\n",
    "precision_train2[1] = metrics.precision_score(y_train2, y_pred_train2)\n",
    "precision_test2[1] = metrics.precision_score(y_test2, y_pred_test2)\n",
    "# F1\n",
    "f1_train2[1] = metrics.f1_score(y_train2, y_pred_train2)\n",
    "f1_test2[1] = metrics.f1_score(y_test2, y_pred_test2)\n",
    "\n",
    "print('='*40, \"TRAIN\", '='*40)\n",
    "print(f\"Accuracy Train: {accuracy_train2}\")\n",
    "print(f\"Recall Train: {recall_train2}\")\n",
    "print(f\"Precision Train: {precision_train2}\")\n",
    "print(f\"F1 Train: {f1_train2}\")\n",
    "print('='*40, \"TEST\", '='*40)\n",
    "print(f\"Accuracy Test: {accuracy_test2}\")\n",
    "print(f\"Recall Test: {recall_test2}\")\n",
    "print(f\"Precision Test: {precision_test2}\")\n",
    "print(f\"F1 Test: {f1_test2}\")\n",
    "\n"
   ]
  },
  {
   "cell_type": "code",
   "execution_count": 60,
   "id": "72c649cc",
   "metadata": {},
   "outputs": [
    {
     "name": "stdout",
     "output_type": "stream",
     "text": [
      "======================================== TRAIN ========================================\n",
      "Accuracy Train: [0.89552239 0.86567164 0.95522388]\n",
      "Recall Train: [0.73333333 0.53333333 1.        ]\n",
      "Precision Train: [0.78571429 0.8        0.83333333]\n",
      "F1 Train: [0.75862069 0.64       0.90909091]\n",
      "======================================== TEST ========================================\n",
      "Accuracy Test: [0.9        0.83333333 0.76666667]\n",
      "Recall Test: [0.66666667 0.5        0.5       ]\n",
      "Precision Test: [0.8        0.6        0.42857143]\n",
      "F1 Test: [0.72727273 0.54545455 0.46153846]\n"
     ]
    }
   ],
   "source": [
    "# Decision Tree Classifier\n",
    "\n",
    "# model\n",
    "model_dtc = DecisionTreeClassifier(max_depth=4,\n",
    "                                   min_samples_split=10,\n",
    "                                   random_state=123)\n",
    "\n",
    "# Fit\n",
    "model_dtc.fit(X_train2, y_train2)\n",
    "\n",
    "# Predict\n",
    "y_pred_train2 = model_dtc.predict(X_train2)\n",
    "y_pred_test2 = model_dtc.predict(X_test2)\n",
    "\n",
    "# Metrics\n",
    "# Accuracy\n",
    "accuracy_train2[2] = metrics.accuracy_score(y_train2, y_pred_train2)\n",
    "accuracy_test2[2] = metrics.accuracy_score(y_test2, y_pred_test2)\n",
    "# Recall\n",
    "recall_train2[2] = metrics.recall_score(y_train2, y_pred_train2)\n",
    "recall_test2[2] = metrics.recall_score(y_test2, y_pred_test2)\n",
    "# Precision\n",
    "precision_train2[2] = metrics.precision_score(y_train2, y_pred_train2)\n",
    "precision_test2[2] = metrics.precision_score(y_test2, y_pred_test2)\n",
    "# F1\n",
    "f1_train2[2] = metrics.f1_score(y_train2, y_pred_train2)\n",
    "f1_test2[2] = metrics.f1_score(y_test2, y_pred_test2)\n",
    "\n",
    "print('='*40, \"TRAIN\", '='*40)\n",
    "print(f\"Accuracy Train: {accuracy_train2}\")\n",
    "print(f\"Recall Train: {recall_train2}\")\n",
    "print(f\"Precision Train: {precision_train2}\")\n",
    "print(f\"F1 Train: {f1_train2}\")\n",
    "print('='*40, \"TEST\", '='*40)\n",
    "print(f\"Accuracy Test: {accuracy_test2}\")\n",
    "print(f\"Recall Test: {recall_test2}\")\n",
    "print(f\"Precision Test: {precision_test2}\")\n",
    "print(f\"F1 Test: {f1_test2}\")"
   ]
  },
  {
   "cell_type": "code",
   "execution_count": 61,
   "id": "47c28efa",
   "metadata": {},
   "outputs": [
    {
     "data": {
      "application/vnd.microsoft.datawrangler.viewer.v0+json": {
       "columns": [
        {
         "name": "index",
         "rawType": "object",
         "type": "string"
        },
        {
         "name": "accuracy",
         "rawType": "object",
         "type": "unknown"
        },
        {
         "name": "recall",
         "rawType": "object",
         "type": "unknown"
        },
        {
         "name": "precision",
         "rawType": "object",
         "type": "unknown"
        },
        {
         "name": "f1_score",
         "rawType": "object",
         "type": "unknown"
        }
       ],
       "ref": "91d366ae-c5e7-478b-b4b3-092433ec016b",
       "rows": [
        [
         "logit",
         null,
         null,
         null,
         null
        ],
        [
         "knn",
         null,
         null,
         null,
         null
        ],
        [
         "dtree",
         null,
         null,
         null,
         null
        ]
       ],
       "shape": {
        "columns": 4,
        "rows": 3
       }
      },
      "text/html": [
       "<div>\n",
       "<style scoped>\n",
       "    .dataframe tbody tr th:only-of-type {\n",
       "        vertical-align: middle;\n",
       "    }\n",
       "\n",
       "    .dataframe tbody tr th {\n",
       "        vertical-align: top;\n",
       "    }\n",
       "\n",
       "    .dataframe thead th {\n",
       "        text-align: right;\n",
       "    }\n",
       "</style>\n",
       "<table border=\"1\" class=\"dataframe\">\n",
       "  <thead>\n",
       "    <tr style=\"text-align: right;\">\n",
       "      <th></th>\n",
       "      <th>accuracy</th>\n",
       "      <th>recall</th>\n",
       "      <th>precision</th>\n",
       "      <th>f1_score</th>\n",
       "    </tr>\n",
       "  </thead>\n",
       "  <tbody>\n",
       "    <tr>\n",
       "      <th>logit</th>\n",
       "      <td>NaN</td>\n",
       "      <td>NaN</td>\n",
       "      <td>NaN</td>\n",
       "      <td>NaN</td>\n",
       "    </tr>\n",
       "    <tr>\n",
       "      <th>knn</th>\n",
       "      <td>NaN</td>\n",
       "      <td>NaN</td>\n",
       "      <td>NaN</td>\n",
       "      <td>NaN</td>\n",
       "    </tr>\n",
       "    <tr>\n",
       "      <th>dtree</th>\n",
       "      <td>NaN</td>\n",
       "      <td>NaN</td>\n",
       "      <td>NaN</td>\n",
       "      <td>NaN</td>\n",
       "    </tr>\n",
       "  </tbody>\n",
       "</table>\n",
       "</div>"
      ],
      "text/plain": [
       "      accuracy recall precision f1_score\n",
       "logit      NaN    NaN       NaN      NaN\n",
       "knn        NaN    NaN       NaN      NaN\n",
       "dtree      NaN    NaN       NaN      NaN"
      ]
     },
     "execution_count": 61,
     "metadata": {},
     "output_type": "execute_result"
    }
   ],
   "source": [
    "performance_metrics"
   ]
  },
  {
   "cell_type": "code",
   "execution_count": 62,
   "id": "4c279152",
   "metadata": {},
   "outputs": [],
   "source": [
    "performance_metrics = pd.DataFrame(columns=['accuracy', 'recall', 'precision', 'f1_score'], index=['logit', 'knn', 'dtree'])"
   ]
  },
  {
   "cell_type": "code",
   "execution_count": 63,
   "id": "5070dcd7",
   "metadata": {},
   "outputs": [
    {
     "data": {
      "application/vnd.microsoft.datawrangler.viewer.v0+json": {
       "columns": [
        {
         "name": "index",
         "rawType": "object",
         "type": "string"
        },
        {
         "name": "accuracy",
         "rawType": "object",
         "type": "unknown"
        },
        {
         "name": "recall",
         "rawType": "object",
         "type": "unknown"
        },
        {
         "name": "precision",
         "rawType": "object",
         "type": "unknown"
        },
        {
         "name": "f1_score",
         "rawType": "object",
         "type": "unknown"
        }
       ],
       "ref": "85b9aa8c-2d26-4019-b7a7-b330376edca2",
       "rows": [
        [
         "logit",
         "0.9",
         "0.6666666666666666",
         "0.8",
         "0.7272727272727273"
        ],
        [
         "knn",
         "0.8333333333333334",
         "0.5",
         "0.6",
         "0.5454545454545454"
        ],
        [
         "dtree",
         "0.7666666666666667",
         "0.5",
         "0.42857142857142855",
         "0.46153846153846156"
        ]
       ],
       "shape": {
        "columns": 4,
        "rows": 3
       }
      },
      "text/html": [
       "<div>\n",
       "<style scoped>\n",
       "    .dataframe tbody tr th:only-of-type {\n",
       "        vertical-align: middle;\n",
       "    }\n",
       "\n",
       "    .dataframe tbody tr th {\n",
       "        vertical-align: top;\n",
       "    }\n",
       "\n",
       "    .dataframe thead th {\n",
       "        text-align: right;\n",
       "    }\n",
       "</style>\n",
       "<table border=\"1\" class=\"dataframe\">\n",
       "  <thead>\n",
       "    <tr style=\"text-align: right;\">\n",
       "      <th></th>\n",
       "      <th>accuracy</th>\n",
       "      <th>recall</th>\n",
       "      <th>precision</th>\n",
       "      <th>f1_score</th>\n",
       "    </tr>\n",
       "  </thead>\n",
       "  <tbody>\n",
       "    <tr>\n",
       "      <th>logit</th>\n",
       "      <td>0.9</td>\n",
       "      <td>0.666667</td>\n",
       "      <td>0.8</td>\n",
       "      <td>0.727273</td>\n",
       "    </tr>\n",
       "    <tr>\n",
       "      <th>knn</th>\n",
       "      <td>0.833333</td>\n",
       "      <td>0.5</td>\n",
       "      <td>0.6</td>\n",
       "      <td>0.545455</td>\n",
       "    </tr>\n",
       "    <tr>\n",
       "      <th>dtree</th>\n",
       "      <td>0.766667</td>\n",
       "      <td>0.5</td>\n",
       "      <td>0.428571</td>\n",
       "      <td>0.461538</td>\n",
       "    </tr>\n",
       "  </tbody>\n",
       "</table>\n",
       "</div>"
      ],
      "text/plain": [
       "       accuracy    recall precision  f1_score\n",
       "logit       0.9  0.666667       0.8  0.727273\n",
       "knn    0.833333       0.5       0.6  0.545455\n",
       "dtree  0.766667       0.5  0.428571  0.461538"
      ]
     },
     "execution_count": 63,
     "metadata": {},
     "output_type": "execute_result"
    }
   ],
   "source": [
    "performance_metrics.loc['logit'] = [\n",
    "    accuracy_test2[0],\n",
    "    recall_test2[0],\n",
    "    precision_test2[0],\n",
    "    f1_test2[0]\n",
    "]\n",
    "\n",
    "performance_metrics.loc['knn'] = [\n",
    "    accuracy_test2[1],\n",
    "    recall_test2[1],\n",
    "    precision_test2[1],\n",
    "    f1_test2[1]\n",
    "]\n",
    "\n",
    "performance_metrics.loc['dtree'] = [\n",
    "    accuracy_test2[2],\n",
    "    recall_test2[2],\n",
    "    precision_test2[2],\n",
    "    f1_test2[2]\n",
    "]\n",
    "\n",
    "performance_metrics"
   ]
  },
  {
   "cell_type": "code",
   "execution_count": 74,
   "id": "37573f7d",
   "metadata": {},
   "outputs": [
    {
     "data": {
      "text/plain": [
       "np.float64(0.9)"
      ]
     },
     "execution_count": 74,
     "metadata": {},
     "output_type": "execute_result"
    }
   ],
   "source": [
    "performance_metrics.iloc[0,0]"
   ]
  },
  {
   "cell_type": "markdown",
   "id": "c232ba45",
   "metadata": {},
   "source": [
    "### 2.3"
   ]
  },
  {
   "cell_type": "code",
   "execution_count": 64,
   "id": "40dd107d",
   "metadata": {},
   "outputs": [],
   "source": [
    "mse_cv_mean = np.zeros(3)\n",
    "mse_cv_std = np.zeros(3)"
   ]
  },
  {
   "cell_type": "code",
   "execution_count": 70,
   "id": "097f62d7",
   "metadata": {},
   "outputs": [
    {
     "name": "stdout",
     "output_type": "stream",
     "text": [
      "MSE CV Mean: [0.73377483 0.53399558 0.53355699]\n",
      "MSE CV Std: [0.13311533 0.33997907 0.33980901]\n"
     ]
    }
   ],
   "source": [
    "# Logistic Regression\n",
    "\n",
    "model_log_regression = LogisticRegression(solver='newton-cg',\n",
    "                                          fit_intercept=True)\n",
    "\n",
    "# Score Cross Validation\n",
    "\n",
    "scores_logit = cross_val_score(model_log_regression, X_train2, y_train2, cv=5, scoring=metrics.make_scorer(metrics.fbeta_score, beta=10, zero_division=0))\n",
    "\n",
    "mse_cv_mean[0] = scores_logit.mean()\n",
    "mse_cv_std[0] = scores_logit.std()\n",
    "\n",
    "print(\"MSE CV Mean:\", mse_cv_mean)\n",
    "print(\"MSE CV Std:\", mse_cv_std)"
   ]
  },
  {
   "cell_type": "code",
   "execution_count": 71,
   "id": "16fb3e2d",
   "metadata": {},
   "outputs": [
    {
     "name": "stdout",
     "output_type": "stream",
     "text": [
      "MSE CV Mean: [0.73377483 0.53399558 0.53355699]\n",
      "MSE CV Std: [0.13311533 0.33997907 0.33980901]\n"
     ]
    }
   ],
   "source": [
    "# Knn\n",
    "# scaler\n",
    "\n",
    "scaler = MinMaxScaler()\n",
    "X_train2_scaled = scaler.fit_transform(X_train2)\n",
    "X_test2_scaled = scaler.transform(X_test2)\n",
    "\n",
    "model_knn_classifier = KNeighborsClassifier(n_neighbors=10, metric='euclidean')\n",
    "\n",
    "scores_knn = cross_val_score(model_knn_classifier, X_train2_scaled, y_train2, cv=5, scoring=metrics.make_scorer(metrics.fbeta_score, beta=10, zero_division=0))\n",
    "\n",
    "mse_cv_mean[1] = scores_knn.mean()\n",
    "mse_cv_std[1] = scores_knn.std()\n",
    "\n",
    "print(\"MSE CV Mean:\", mse_cv_mean)\n",
    "print(\"MSE CV Std:\", mse_cv_std)"
   ]
  },
  {
   "cell_type": "code",
   "execution_count": 72,
   "id": "f9210a02",
   "metadata": {},
   "outputs": [
    {
     "name": "stdout",
     "output_type": "stream",
     "text": [
      "MSE CV Mean: [0.73377483 0.53399558 0.53355699]\n",
      "MSE CV Std: [0.13311533 0.33997907 0.33980901]\n"
     ]
    }
   ],
   "source": [
    "# Decision Tree Classifier\n",
    "\n",
    "model_decision_tree_classifier = DecisionTreeClassifier(max_depth=4, min_samples_split=10, random_state=123)\n",
    "\n",
    "scores_dtree = cross_val_score(model_decision_tree_classifier, X_train2, y_train2, cv=5, scoring=metrics.make_scorer(metrics.fbeta_score, beta=10, zero_division=0))\n",
    "\n",
    "mse_cv_mean[2] = scores_dtree.mean()\n",
    "mse_cv_std[2] = scores_dtree.std()\n",
    "\n",
    "print(\"MSE CV Mean:\", mse_cv_mean)\n",
    "print(\"MSE CV Std:\", mse_cv_std)\n"
   ]
  },
  {
   "cell_type": "code",
   "execution_count": 73,
   "id": "6e549b7f",
   "metadata": {},
   "outputs": [
    {
     "data": {
      "application/vnd.microsoft.datawrangler.viewer.v0+json": {
       "columns": [
        {
         "name": "index",
         "rawType": "object",
         "type": "string"
        },
        {
         "name": "logit",
         "rawType": "float64",
         "type": "float"
        },
        {
         "name": "knn",
         "rawType": "float64",
         "type": "float"
        },
        {
         "name": "dtree",
         "rawType": "float64",
         "type": "float"
        }
       ],
       "ref": "384220cd-da6f-40fa-b17f-bfb72409c95f",
       "rows": [
        [
         "f_score_mean",
         "0.733774834437086",
         "0.5339955849889624",
         "0.5335569884977345"
        ],
        [
         "f_score_std",
         "0.13311532840677118",
         "0.3399790709078588",
         "0.33980900515006485"
        ]
       ],
       "shape": {
        "columns": 3,
        "rows": 2
       }
      },
      "text/html": [
       "<div>\n",
       "<style scoped>\n",
       "    .dataframe tbody tr th:only-of-type {\n",
       "        vertical-align: middle;\n",
       "    }\n",
       "\n",
       "    .dataframe tbody tr th {\n",
       "        vertical-align: top;\n",
       "    }\n",
       "\n",
       "    .dataframe thead th {\n",
       "        text-align: right;\n",
       "    }\n",
       "</style>\n",
       "<table border=\"1\" class=\"dataframe\">\n",
       "  <thead>\n",
       "    <tr style=\"text-align: right;\">\n",
       "      <th></th>\n",
       "      <th>logit</th>\n",
       "      <th>knn</th>\n",
       "      <th>dtree</th>\n",
       "    </tr>\n",
       "  </thead>\n",
       "  <tbody>\n",
       "    <tr>\n",
       "      <th>f_score_mean</th>\n",
       "      <td>0.733775</td>\n",
       "      <td>0.533996</td>\n",
       "      <td>0.533557</td>\n",
       "    </tr>\n",
       "    <tr>\n",
       "      <th>f_score_std</th>\n",
       "      <td>0.133115</td>\n",
       "      <td>0.339979</td>\n",
       "      <td>0.339809</td>\n",
       "    </tr>\n",
       "  </tbody>\n",
       "</table>\n",
       "</div>"
      ],
      "text/plain": [
       "                 logit       knn     dtree\n",
       "f_score_mean  0.733775  0.533996  0.533557\n",
       "f_score_std   0.133115  0.339979  0.339809"
      ]
     },
     "execution_count": 73,
     "metadata": {},
     "output_type": "execute_result"
    }
   ],
   "source": [
    "f_score = pd.DataFrame(\n",
    "    {\n",
    "        'logit': [scores_logit.mean(), scores_logit.std()],\n",
    "        'knn': [scores_knn.mean(), scores_knn.std()],\n",
    "        'dtree': [scores_dtree.mean(), scores_dtree.std()]\n",
    "    },\n",
    "    index=['f_score_mean', 'f_score_std'])\n",
    "f_score"
   ]
  },
  {
   "cell_type": "code",
   "execution_count": 75,
   "id": "d598bcce",
   "metadata": {},
   "outputs": [
    {
     "name": "stdout",
     "output_type": "stream",
     "text": [
      "logit\n",
      "0.9\n"
     ]
    }
   ],
   "source": [
    "best_model = 'logit'\n",
    "best_accuracy = performance_metrics.iloc[0, 0]\n",
    "\n",
    "print(best_model)\n",
    "print(best_accuracy)"
   ]
  },
  {
   "cell_type": "code",
   "execution_count": null,
   "id": "ddb5482e",
   "metadata": {},
   "outputs": [],
   "source": []
  }
 ],
 "metadata": {
  "kernelspec": {
   "display_name": "ml-py3.12",
   "language": "python",
   "name": "python3"
  },
  "language_info": {
   "codemirror_mode": {
    "name": "ipython",
    "version": 3
   },
   "file_extension": ".py",
   "mimetype": "text/x-python",
   "name": "python",
   "nbconvert_exporter": "python",
   "pygments_lexer": "ipython3",
   "version": "3.12.2"
  }
 },
 "nbformat": 4,
 "nbformat_minor": 5
}

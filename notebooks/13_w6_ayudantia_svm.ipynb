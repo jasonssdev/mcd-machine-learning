{
 "cells": [
  {
   "cell_type": "code",
   "execution_count": 24,
   "id": "c839dc35",
   "metadata": {},
   "outputs": [],
   "source": [
    "import numpy as np\n",
    "import pandas as pd\n",
    "\n",
    "from sklearn.svm import SVC\n",
    "from sklearn.ensemble import RandomForestClassifier\n",
    "from sklearn.naive_bayes import GaussianNB\n",
    "\n",
    "from sklearn.model_selection import train_test_split, cross_val_score, StratifiedKFold\n",
    "from sklearn.metrics import accuracy_score, classification_report, confusion_matrix\n",
    "\n",
    "from sklearn import metrics\n",
    "\n",
    "from imblearn.under_sampling import RandomUnderSampler, NearMiss\n",
    "from imblearn.over_sampling import RandomOverSampler, ADASYN\n",
    "\n",
    "from pathlib import Path\n",
    "from utils.paths import DATA_RAW_DIR"
   ]
  },
  {
   "cell_type": "code",
   "execution_count": 4,
   "id": "759ec9ef",
   "metadata": {},
   "outputs": [
    {
     "name": "stdout",
     "output_type": "stream",
     "text": [
      "Reading data from /Users/jasonssdev/Dev/Learning/UC/mcd-machine-learning/data/raw/w6_post_pabellon.xlsx\n",
      "True\n"
     ]
    }
   ],
   "source": [
    "# path\n",
    "\n",
    "path_pabellon = DATA_RAW_DIR / \"w6_post_pabellon.xlsx\"\n",
    "\n",
    "print(f\"Reading data from {path_pabellon}\")\n",
    "print(Path(path_pabellon).exists())"
   ]
  },
  {
   "cell_type": "code",
   "execution_count": 5,
   "id": "2ee93e7a",
   "metadata": {},
   "outputs": [
    {
     "data": {
      "application/vnd.microsoft.datawrangler.viewer.v0+json": {
       "columns": [
        {
         "name": "index",
         "rawType": "int64",
         "type": "integer"
        },
        {
         "name": "EDAD",
         "rawType": "int64",
         "type": "integer"
        },
        {
         "name": "DIABETES",
         "rawType": "int64",
         "type": "integer"
        },
        {
         "name": "HOSPITALIZACIÓN ULTIMO MES",
         "rawType": "int64",
         "type": "integer"
        },
        {
         "name": "PSA",
         "rawType": "float64",
         "type": "float"
        },
        {
         "name": "BIOPSIAS PREVIAS",
         "rawType": "int64",
         "type": "integer"
        },
        {
         "name": "VOLUMEN PROSTATICO",
         "rawType": "int64",
         "type": "integer"
        },
        {
         "name": "ANTIBIOTICO UTILIAZADO EN LA PROFILAXIS",
         "rawType": "object",
         "type": "string"
        },
        {
         "name": "NUMERO DE MUESTRAS TOMADAS",
         "rawType": "int64",
         "type": "integer"
        },
        {
         "name": "CUP",
         "rawType": "int64",
         "type": "integer"
        },
        {
         "name": "ENF. CRONICA PULMONAR OBSTRUCTIVA",
         "rawType": "int64",
         "type": "integer"
        },
        {
         "name": "BIOPSIA",
         "rawType": "int64",
         "type": "integer"
        },
        {
         "name": "HOSPITALIZACION",
         "rawType": "int64",
         "type": "integer"
        }
       ],
       "ref": "11961cff-516b-4b24-863a-efc160567410",
       "rows": [
        [
         "0",
         "53",
         "0",
         "0",
         "4.0",
         "0",
         "1",
         "FLUOROQUINOLONA_AMINOGLICOSIDO",
         "12",
         "0",
         "0",
         "0",
         "1"
        ],
        [
         "1",
         "56",
         "0",
         "0",
         "7.7",
         "0",
         "1",
         "FLUOROQUINOLONA_AMINOGLICOSIDO",
         "12",
         "0",
         "0",
         "0",
         "1"
        ],
        [
         "2",
         "53",
         "0",
         "0",
         "7.0",
         "0",
         "1",
         "FLUOROQUINOLONA_AMINOGLICOSIDO",
         "12",
         "0",
         "0",
         "0",
         "1"
        ],
        [
         "3",
         "65",
         "0",
         "0",
         "4.3",
         "0",
         "0",
         "FLUOROQUINOLONA_AMINOGLICOSIDO",
         "12",
         "0",
         "0",
         "0",
         "1"
        ],
        [
         "4",
         "62",
         "0",
         "0",
         "7.0",
         "0",
         "1",
         "FLUOROQUINOLONA_AMINOGLICOSIDO",
         "12",
         "0",
         "0",
         "0",
         "1"
        ]
       ],
       "shape": {
        "columns": 12,
        "rows": 5
       }
      },
      "text/html": [
       "<div>\n",
       "<style scoped>\n",
       "    .dataframe tbody tr th:only-of-type {\n",
       "        vertical-align: middle;\n",
       "    }\n",
       "\n",
       "    .dataframe tbody tr th {\n",
       "        vertical-align: top;\n",
       "    }\n",
       "\n",
       "    .dataframe thead th {\n",
       "        text-align: right;\n",
       "    }\n",
       "</style>\n",
       "<table border=\"1\" class=\"dataframe\">\n",
       "  <thead>\n",
       "    <tr style=\"text-align: right;\">\n",
       "      <th></th>\n",
       "      <th>EDAD</th>\n",
       "      <th>DIABETES</th>\n",
       "      <th>HOSPITALIZACIÓN ULTIMO MES</th>\n",
       "      <th>PSA</th>\n",
       "      <th>BIOPSIAS PREVIAS</th>\n",
       "      <th>VOLUMEN PROSTATICO</th>\n",
       "      <th>ANTIBIOTICO UTILIAZADO EN LA PROFILAXIS</th>\n",
       "      <th>NUMERO DE MUESTRAS TOMADAS</th>\n",
       "      <th>CUP</th>\n",
       "      <th>ENF. CRONICA PULMONAR OBSTRUCTIVA</th>\n",
       "      <th>BIOPSIA</th>\n",
       "      <th>HOSPITALIZACION</th>\n",
       "    </tr>\n",
       "  </thead>\n",
       "  <tbody>\n",
       "    <tr>\n",
       "      <th>0</th>\n",
       "      <td>53</td>\n",
       "      <td>0</td>\n",
       "      <td>0</td>\n",
       "      <td>4.0</td>\n",
       "      <td>0</td>\n",
       "      <td>1</td>\n",
       "      <td>FLUOROQUINOLONA_AMINOGLICOSIDO</td>\n",
       "      <td>12</td>\n",
       "      <td>0</td>\n",
       "      <td>0</td>\n",
       "      <td>0</td>\n",
       "      <td>1</td>\n",
       "    </tr>\n",
       "    <tr>\n",
       "      <th>1</th>\n",
       "      <td>56</td>\n",
       "      <td>0</td>\n",
       "      <td>0</td>\n",
       "      <td>7.7</td>\n",
       "      <td>0</td>\n",
       "      <td>1</td>\n",
       "      <td>FLUOROQUINOLONA_AMINOGLICOSIDO</td>\n",
       "      <td>12</td>\n",
       "      <td>0</td>\n",
       "      <td>0</td>\n",
       "      <td>0</td>\n",
       "      <td>1</td>\n",
       "    </tr>\n",
       "    <tr>\n",
       "      <th>2</th>\n",
       "      <td>53</td>\n",
       "      <td>0</td>\n",
       "      <td>0</td>\n",
       "      <td>7.0</td>\n",
       "      <td>0</td>\n",
       "      <td>1</td>\n",
       "      <td>FLUOROQUINOLONA_AMINOGLICOSIDO</td>\n",
       "      <td>12</td>\n",
       "      <td>0</td>\n",
       "      <td>0</td>\n",
       "      <td>0</td>\n",
       "      <td>1</td>\n",
       "    </tr>\n",
       "    <tr>\n",
       "      <th>3</th>\n",
       "      <td>65</td>\n",
       "      <td>0</td>\n",
       "      <td>0</td>\n",
       "      <td>4.3</td>\n",
       "      <td>0</td>\n",
       "      <td>0</td>\n",
       "      <td>FLUOROQUINOLONA_AMINOGLICOSIDO</td>\n",
       "      <td>12</td>\n",
       "      <td>0</td>\n",
       "      <td>0</td>\n",
       "      <td>0</td>\n",
       "      <td>1</td>\n",
       "    </tr>\n",
       "    <tr>\n",
       "      <th>4</th>\n",
       "      <td>62</td>\n",
       "      <td>0</td>\n",
       "      <td>0</td>\n",
       "      <td>7.0</td>\n",
       "      <td>0</td>\n",
       "      <td>1</td>\n",
       "      <td>FLUOROQUINOLONA_AMINOGLICOSIDO</td>\n",
       "      <td>12</td>\n",
       "      <td>0</td>\n",
       "      <td>0</td>\n",
       "      <td>0</td>\n",
       "      <td>1</td>\n",
       "    </tr>\n",
       "  </tbody>\n",
       "</table>\n",
       "</div>"
      ],
      "text/plain": [
       "   EDAD  DIABETES  ...  BIOPSIA  HOSPITALIZACION\n",
       "0    53         0  ...        0                1\n",
       "1    56         0  ...        0                1\n",
       "2    53         0  ...        0                1\n",
       "3    65         0  ...        0                1\n",
       "4    62         0  ...        0                1\n",
       "\n",
       "[5 rows x 12 columns]"
      ]
     },
     "execution_count": 5,
     "metadata": {},
     "output_type": "execute_result"
    }
   ],
   "source": [
    "# load \n",
    "df_pabellon = pd.read_excel(path_pabellon, sheet_name=\"Datos\")\n",
    "df_pabellon.head()"
   ]
  },
  {
   "cell_type": "code",
   "execution_count": 6,
   "id": "dd6951b9",
   "metadata": {},
   "outputs": [
    {
     "data": {
      "text/plain": [
       "(568, 12)"
      ]
     },
     "execution_count": 6,
     "metadata": {},
     "output_type": "execute_result"
    }
   ],
   "source": [
    "df_pabellon.shape"
   ]
  },
  {
   "cell_type": "code",
   "execution_count": 7,
   "id": "40aa05cd",
   "metadata": {},
   "outputs": [],
   "source": [
    "# split data into X and y\n",
    "X = df_pabellon.drop(columns=[\"HOSPITALIZACION\"], axis=1)\n",
    "y = df_pabellon[\"HOSPITALIZACION\"]"
   ]
  },
  {
   "cell_type": "code",
   "execution_count": 8,
   "id": "470dc708",
   "metadata": {},
   "outputs": [
    {
     "data": {
      "application/vnd.microsoft.datawrangler.viewer.v0+json": {
       "columns": [
        {
         "name": "index",
         "rawType": "int64",
         "type": "integer"
        },
        {
         "name": "EDAD",
         "rawType": "int64",
         "type": "integer"
        },
        {
         "name": "DIABETES",
         "rawType": "int64",
         "type": "integer"
        },
        {
         "name": "HOSPITALIZACIÓN ULTIMO MES",
         "rawType": "int64",
         "type": "integer"
        },
        {
         "name": "PSA",
         "rawType": "float64",
         "type": "float"
        },
        {
         "name": "BIOPSIAS PREVIAS",
         "rawType": "int64",
         "type": "integer"
        },
        {
         "name": "VOLUMEN PROSTATICO",
         "rawType": "int64",
         "type": "integer"
        },
        {
         "name": "ANTIBIOTICO UTILIAZADO EN LA PROFILAXIS",
         "rawType": "object",
         "type": "string"
        },
        {
         "name": "NUMERO DE MUESTRAS TOMADAS",
         "rawType": "int64",
         "type": "integer"
        },
        {
         "name": "CUP",
         "rawType": "int64",
         "type": "integer"
        },
        {
         "name": "ENF. CRONICA PULMONAR OBSTRUCTIVA",
         "rawType": "int64",
         "type": "integer"
        },
        {
         "name": "BIOPSIA",
         "rawType": "int64",
         "type": "integer"
        }
       ],
       "ref": "0d71978b-e7fd-4431-968b-ac753bcca712",
       "rows": [
        [
         "0",
         "53",
         "0",
         "0",
         "4.0",
         "0",
         "1",
         "FLUOROQUINOLONA_AMINOGLICOSIDO",
         "12",
         "0",
         "0",
         "0"
        ],
        [
         "1",
         "56",
         "0",
         "0",
         "7.7",
         "0",
         "1",
         "FLUOROQUINOLONA_AMINOGLICOSIDO",
         "12",
         "0",
         "0",
         "0"
        ],
        [
         "2",
         "53",
         "0",
         "0",
         "7.0",
         "0",
         "1",
         "FLUOROQUINOLONA_AMINOGLICOSIDO",
         "12",
         "0",
         "0",
         "0"
        ],
        [
         "3",
         "65",
         "0",
         "0",
         "4.3",
         "0",
         "0",
         "FLUOROQUINOLONA_AMINOGLICOSIDO",
         "12",
         "0",
         "0",
         "0"
        ],
        [
         "4",
         "62",
         "0",
         "0",
         "7.0",
         "0",
         "1",
         "FLUOROQUINOLONA_AMINOGLICOSIDO",
         "12",
         "0",
         "0",
         "0"
        ],
        [
         "5",
         "57",
         "0",
         "0",
         "29.0",
         "1",
         "1",
         "FLUOROQUINOLONA_AMINOGLICOSIDO",
         "24",
         "0",
         "0",
         "0"
        ],
        [
         "6",
         "65",
         "1",
         "0",
         "5.19",
         "0",
         "1",
         "CEFALOSPORINA_AMINOGLUCOCIDO",
         "24",
         "0",
         "0",
         "0"
        ],
        [
         "7",
         "69",
         "1",
         "0",
         "14.0",
         "0",
         "1",
         "FLUOROQUINOLONA_AMINOGLICOSIDO",
         "18",
         "0",
         "0",
         "1"
        ],
        [
         "8",
         "67",
         "0",
         "0",
         "6.2",
         "0",
         "1",
         "FLUOROQUINOLONA_AMINOGLICOSIDO",
         "12",
         "0",
         "0",
         "0"
        ],
        [
         "9",
         "69",
         "0",
         "0",
         "6.0",
         "0",
         "0",
         "FLUOROQUINOLONA_AMINOGLICOSIDO",
         "12",
         "0",
         "0",
         "0"
        ],
        [
         "10",
         "44",
         "0",
         "0",
         "5.7",
         "0",
         "0",
         "FLUOROQUINOLONA_AMINOGLICOSIDO",
         "12",
         "0",
         "0",
         "0"
        ],
        [
         "11",
         "71",
         "0",
         "0",
         "4.5",
         "0",
         "1",
         "OROQUINOLONAS",
         "12",
         "0",
         "0",
         "1"
        ],
        [
         "12",
         "55",
         "1",
         "1",
         "4.0",
         "0",
         "1",
         "FLUOROQUINOLONA_AMINOGLICOSIDO",
         "12",
         "0",
         "0",
         "0"
        ],
        [
         "13",
         "56",
         "0",
         "0",
         "7.0",
         "0",
         "1",
         "FLUOROQUINOLONA_AMINOGLICOSIDO",
         "12",
         "0",
         "0",
         "0"
        ],
        [
         "14",
         "54",
         "0",
         "0",
         "7.7",
         "0",
         "1",
         "FLUOROQUINOLONA_AMINOGLICOSIDO",
         "12",
         "0",
         "0",
         "0"
        ],
        [
         "15",
         "65",
         "0",
         "0",
         "4.5",
         "0",
         "0",
         "FLUOROQUINOLONA_AMINOGLICOSIDO",
         "12",
         "0",
         "0",
         "0"
        ],
        [
         "16",
         "62",
         "1",
         "0",
         "7.0",
         "0",
         "1",
         "FLUOROQUINOLONA_AMINOGLICOSIDO",
         "12",
         "0",
         "0",
         "0"
        ],
        [
         "17",
         "55",
         "0",
         "0",
         "29.0",
         "1",
         "1",
         "FLUOROQUINOLONA_AMINOGLICOSIDO",
         "24",
         "0",
         "0",
         "0"
        ],
        [
         "18",
         "64",
         "1",
         "0",
         "5.7",
         "0",
         "1",
         "CEFALOSPORINA_AMINOGLUCOCIDO",
         "24",
         "0",
         "0",
         "0"
        ],
        [
         "19",
         "69",
         "0",
         "0",
         "14.0",
         "0",
         "1",
         "FLUOROQUINOLONA_AMINOGLICOSIDO",
         "18",
         "0",
         "0",
         "1"
        ],
        [
         "20",
         "68",
         "0",
         "0",
         "6.2",
         "0",
         "1",
         "FLUOROQUINOLONA_AMINOGLICOSIDO",
         "12",
         "0",
         "0",
         "0"
        ],
        [
         "21",
         "69",
         "0",
         "0",
         "5.7",
         "0",
         "0",
         "FLUOROQUINOLONA_AMINOGLICOSIDO",
         "12",
         "0",
         "0",
         "0"
        ],
        [
         "22",
         "43",
         "0",
         "0",
         "6.0",
         "0",
         "0",
         "FLUOROQUINOLONA_AMINOGLICOSIDO",
         "12",
         "0",
         "0",
         "0"
        ],
        [
         "23",
         "71",
         "0",
         "0",
         "4.3",
         "0",
         "1",
         "OROQUINOLONAS",
         "12",
         "0",
         "0",
         "1"
        ],
        [
         "24",
         "77",
         "0",
         "0",
         "10.0",
         "0",
         "1",
         "FLUOROQUINOLONA_AMINOGLICOSIDO",
         "12",
         "0",
         "0",
         "1"
        ],
        [
         "25",
         "64",
         "0",
         "0",
         "10.2",
         "0",
         "1",
         "FLUOROQUINOLONA_AMINOGLICOSIDO",
         "12",
         "0",
         "0",
         "1"
        ],
        [
         "26",
         "42",
         "0",
         "0",
         "8.5",
         "0",
         "0",
         "FLUOROQUINOLONA_AMINOGLICOSIDO",
         "12",
         "0",
         "0",
         "0"
        ],
        [
         "27",
         "53",
         "0",
         "0",
         "90.0",
         "0",
         "1",
         "CEFALOSPORINA_AMINOGLUCOCIDO",
         "12",
         "0",
         "1",
         "1"
        ],
        [
         "28",
         "42",
         "0",
         "0",
         "53.0",
         "0",
         "0",
         "FLUOROQUINOLONA_AMINOGLICOSIDO",
         "12",
         "0",
         "0",
         "1"
        ],
        [
         "29",
         "68",
         "0",
         "0",
         "6.0",
         "0",
         "1",
         "FLUOROQUINOLONA_AMINOGLICOSIDO",
         "12",
         "0",
         "0",
         "0"
        ],
        [
         "30",
         "61",
         "0",
         "0",
         "19.0",
         "0",
         "0",
         "CEFALOSPORINA_AMINOGLUCOCIDO",
         "12",
         "0",
         "0",
         "1"
        ],
        [
         "31",
         "47",
         "0",
         "0",
         "5.6",
         "0",
         "0",
         "OTROS",
         "12",
         "0",
         "0",
         "0"
        ],
        [
         "32",
         "47",
         "0",
         "0",
         "6.0",
         "0",
         "0",
         "FLUOROQUINOLONA_AMINOGLICOSIDO",
         "12",
         "0",
         "0",
         "1"
        ],
        [
         "33",
         "48",
         "0",
         "0",
         "3.5",
         "0",
         "1",
         "FLUOROQUINOLONA_AMINOGLICOSIDO",
         "12",
         "0",
         "0",
         "0"
        ],
        [
         "34",
         "49",
         "0",
         "0",
         "15.0",
         "0",
         "0",
         "FLUOROQUINOLONA_AMINOGLICOSIDO",
         "12",
         "0",
         "0",
         "0"
        ],
        [
         "35",
         "65",
         "0",
         "0",
         "5.2",
         "0",
         "1",
         "CEFALOSPORINA_AMINOGLUCOCIDO",
         "12",
         "0",
         "0",
         "0"
        ],
        [
         "36",
         "81",
         "0",
         "0",
         "17.7",
         "0",
         "0",
         "FLUOROQUINOLONA_AMINOGLICOSIDO",
         "12",
         "0",
         "0",
         "1"
        ],
        [
         "37",
         "52",
         "0",
         "0",
         "6.0",
         "1",
         "0",
         "FLUOROQUINOLONA_AMINOGLICOSIDO",
         "24",
         "0",
         "0",
         "0"
        ],
        [
         "38",
         "61",
         "0",
         "0",
         "4.0",
         "0",
         "1",
         "FLUOROQUINOLONA_AMINOGLICOSIDO",
         "18",
         "0",
         "0",
         "0"
        ],
        [
         "39",
         "52",
         "0",
         "0",
         "5.2",
         "0",
         "1",
         "FLUOROQUINOLONA_AMINOGLICOSIDO",
         "16",
         "0",
         "0",
         "0"
        ],
        [
         "40",
         "52",
         "0",
         "0",
         "15.0",
         "0",
         "1",
         "CEFALOSPORINA_AMINOGLUCOCIDO",
         "12",
         "0",
         "0",
         "1"
        ],
        [
         "41",
         "53",
         "0",
         "0",
         "21.0",
         "0",
         "0",
         "FLUOROQUINOLONA_AMINOGLICOSIDO",
         "12",
         "0",
         "0",
         "1"
        ],
        [
         "42",
         "68",
         "0",
         "0",
         "25.0",
         "0",
         "0",
         "FLUOROQUINOLONA_AMINOGLICOSIDO",
         "12",
         "0",
         "0",
         "1"
        ],
        [
         "43",
         "53",
         "0",
         "0",
         "4.6",
         "0",
         "1",
         "FLUOROQUINOLONA_AMINOGLICOSIDO",
         "12",
         "0",
         "0",
         "0"
        ],
        [
         "44",
         "63",
         "0",
         "0",
         "8.0",
         "0",
         "1",
         "CEFALOSPORINA_AMINOGLUCOCIDO",
         "12",
         "0",
         "0",
         "0"
        ],
        [
         "45",
         "69",
         "0",
         "0",
         "5.6",
         "0",
         "0",
         "FLUOROQUINOLONA_AMINOGLICOSIDO",
         "12",
         "0",
         "0",
         "0"
        ],
        [
         "46",
         "54",
         "0",
         "0",
         "8.7",
         "0",
         "1",
         "FLUOROQUINOLONA_AMINOGLICOSIDO",
         "24",
         "0",
         "0",
         "0"
        ],
        [
         "47",
         "74",
         "1",
         "0",
         "6.4",
         "0",
         "1",
         "OTROS",
         "12",
         "0",
         "0",
         "1"
        ],
        [
         "48",
         "57",
         "0",
         "0",
         "4.0",
         "0",
         "0",
         "FLUOROQUINOLONA_AMINOGLICOSIDO",
         "18",
         "0",
         "0",
         "1"
        ],
        [
         "49",
         "54",
         "0",
         "0",
         "98.0",
         "0",
         "1",
         "FLUOROQUINOLONA_AMINOGLICOSIDO",
         "6",
         "0",
         "0",
         "1"
        ]
       ],
       "shape": {
        "columns": 11,
        "rows": 568
       }
      },
      "text/html": [
       "<div>\n",
       "<style scoped>\n",
       "    .dataframe tbody tr th:only-of-type {\n",
       "        vertical-align: middle;\n",
       "    }\n",
       "\n",
       "    .dataframe tbody tr th {\n",
       "        vertical-align: top;\n",
       "    }\n",
       "\n",
       "    .dataframe thead th {\n",
       "        text-align: right;\n",
       "    }\n",
       "</style>\n",
       "<table border=\"1\" class=\"dataframe\">\n",
       "  <thead>\n",
       "    <tr style=\"text-align: right;\">\n",
       "      <th></th>\n",
       "      <th>EDAD</th>\n",
       "      <th>DIABETES</th>\n",
       "      <th>HOSPITALIZACIÓN ULTIMO MES</th>\n",
       "      <th>PSA</th>\n",
       "      <th>BIOPSIAS PREVIAS</th>\n",
       "      <th>VOLUMEN PROSTATICO</th>\n",
       "      <th>ANTIBIOTICO UTILIAZADO EN LA PROFILAXIS</th>\n",
       "      <th>NUMERO DE MUESTRAS TOMADAS</th>\n",
       "      <th>CUP</th>\n",
       "      <th>ENF. CRONICA PULMONAR OBSTRUCTIVA</th>\n",
       "      <th>BIOPSIA</th>\n",
       "    </tr>\n",
       "  </thead>\n",
       "  <tbody>\n",
       "    <tr>\n",
       "      <th>0</th>\n",
       "      <td>53</td>\n",
       "      <td>0</td>\n",
       "      <td>0</td>\n",
       "      <td>4.0</td>\n",
       "      <td>0</td>\n",
       "      <td>1</td>\n",
       "      <td>FLUOROQUINOLONA_AMINOGLICOSIDO</td>\n",
       "      <td>12</td>\n",
       "      <td>0</td>\n",
       "      <td>0</td>\n",
       "      <td>0</td>\n",
       "    </tr>\n",
       "    <tr>\n",
       "      <th>1</th>\n",
       "      <td>56</td>\n",
       "      <td>0</td>\n",
       "      <td>0</td>\n",
       "      <td>7.7</td>\n",
       "      <td>0</td>\n",
       "      <td>1</td>\n",
       "      <td>FLUOROQUINOLONA_AMINOGLICOSIDO</td>\n",
       "      <td>12</td>\n",
       "      <td>0</td>\n",
       "      <td>0</td>\n",
       "      <td>0</td>\n",
       "    </tr>\n",
       "    <tr>\n",
       "      <th>2</th>\n",
       "      <td>53</td>\n",
       "      <td>0</td>\n",
       "      <td>0</td>\n",
       "      <td>7.0</td>\n",
       "      <td>0</td>\n",
       "      <td>1</td>\n",
       "      <td>FLUOROQUINOLONA_AMINOGLICOSIDO</td>\n",
       "      <td>12</td>\n",
       "      <td>0</td>\n",
       "      <td>0</td>\n",
       "      <td>0</td>\n",
       "    </tr>\n",
       "    <tr>\n",
       "      <th>3</th>\n",
       "      <td>65</td>\n",
       "      <td>0</td>\n",
       "      <td>0</td>\n",
       "      <td>4.3</td>\n",
       "      <td>0</td>\n",
       "      <td>0</td>\n",
       "      <td>FLUOROQUINOLONA_AMINOGLICOSIDO</td>\n",
       "      <td>12</td>\n",
       "      <td>0</td>\n",
       "      <td>0</td>\n",
       "      <td>0</td>\n",
       "    </tr>\n",
       "    <tr>\n",
       "      <th>4</th>\n",
       "      <td>62</td>\n",
       "      <td>0</td>\n",
       "      <td>0</td>\n",
       "      <td>7.0</td>\n",
       "      <td>0</td>\n",
       "      <td>1</td>\n",
       "      <td>FLUOROQUINOLONA_AMINOGLICOSIDO</td>\n",
       "      <td>12</td>\n",
       "      <td>0</td>\n",
       "      <td>0</td>\n",
       "      <td>0</td>\n",
       "    </tr>\n",
       "    <tr>\n",
       "      <th>...</th>\n",
       "      <td>...</td>\n",
       "      <td>...</td>\n",
       "      <td>...</td>\n",
       "      <td>...</td>\n",
       "      <td>...</td>\n",
       "      <td>...</td>\n",
       "      <td>...</td>\n",
       "      <td>...</td>\n",
       "      <td>...</td>\n",
       "      <td>...</td>\n",
       "      <td>...</td>\n",
       "    </tr>\n",
       "    <tr>\n",
       "      <th>563</th>\n",
       "      <td>57</td>\n",
       "      <td>0</td>\n",
       "      <td>0</td>\n",
       "      <td>4.8</td>\n",
       "      <td>0</td>\n",
       "      <td>0</td>\n",
       "      <td>OTROS</td>\n",
       "      <td>12</td>\n",
       "      <td>0</td>\n",
       "      <td>0</td>\n",
       "      <td>0</td>\n",
       "    </tr>\n",
       "    <tr>\n",
       "      <th>564</th>\n",
       "      <td>75</td>\n",
       "      <td>0</td>\n",
       "      <td>0</td>\n",
       "      <td>75.0</td>\n",
       "      <td>0</td>\n",
       "      <td>1</td>\n",
       "      <td>FLUOROQUINOLONA_AMINOGLICOSIDO</td>\n",
       "      <td>12</td>\n",
       "      <td>0</td>\n",
       "      <td>0</td>\n",
       "      <td>1</td>\n",
       "    </tr>\n",
       "    <tr>\n",
       "      <th>565</th>\n",
       "      <td>78</td>\n",
       "      <td>0</td>\n",
       "      <td>0</td>\n",
       "      <td>9.3</td>\n",
       "      <td>0</td>\n",
       "      <td>1</td>\n",
       "      <td>CEFALOSPORINA_AMINOGLUCOCIDO</td>\n",
       "      <td>12</td>\n",
       "      <td>0</td>\n",
       "      <td>0</td>\n",
       "      <td>0</td>\n",
       "    </tr>\n",
       "    <tr>\n",
       "      <th>566</th>\n",
       "      <td>67</td>\n",
       "      <td>0</td>\n",
       "      <td>0</td>\n",
       "      <td>6.0</td>\n",
       "      <td>0</td>\n",
       "      <td>1</td>\n",
       "      <td>FLUOROQUINOLONA_AMINOGLICOSIDO</td>\n",
       "      <td>12</td>\n",
       "      <td>0</td>\n",
       "      <td>0</td>\n",
       "      <td>1</td>\n",
       "    </tr>\n",
       "    <tr>\n",
       "      <th>567</th>\n",
       "      <td>64</td>\n",
       "      <td>0</td>\n",
       "      <td>0</td>\n",
       "      <td>4.8</td>\n",
       "      <td>0</td>\n",
       "      <td>1</td>\n",
       "      <td>OTROS</td>\n",
       "      <td>12</td>\n",
       "      <td>0</td>\n",
       "      <td>0</td>\n",
       "      <td>1</td>\n",
       "    </tr>\n",
       "  </tbody>\n",
       "</table>\n",
       "<p>568 rows × 11 columns</p>\n",
       "</div>"
      ],
      "text/plain": [
       "     EDAD  DIABETES  ...  ENF. CRONICA PULMONAR OBSTRUCTIVA  BIOPSIA\n",
       "0      53         0  ...                                  0        0\n",
       "1      56         0  ...                                  0        0\n",
       "2      53         0  ...                                  0        0\n",
       "3      65         0  ...                                  0        0\n",
       "4      62         0  ...                                  0        0\n",
       "..    ...       ...  ...                                ...      ...\n",
       "563    57         0  ...                                  0        0\n",
       "564    75         0  ...                                  0        1\n",
       "565    78         0  ...                                  0        0\n",
       "566    67         0  ...                                  0        1\n",
       "567    64         0  ...                                  0        1\n",
       "\n",
       "[568 rows x 11 columns]"
      ]
     },
     "execution_count": 8,
     "metadata": {},
     "output_type": "execute_result"
    }
   ],
   "source": [
    "X"
   ]
  },
  {
   "cell_type": "code",
   "execution_count": 9,
   "id": "f1ba4eca",
   "metadata": {},
   "outputs": [
    {
     "name": "stdout",
     "output_type": "stream",
     "text": [
      "<class 'pandas.core.frame.DataFrame'>\n",
      "RangeIndex: 568 entries, 0 to 567\n",
      "Data columns (total 12 columns):\n",
      " #   Column                                   Non-Null Count  Dtype  \n",
      "---  ------                                   --------------  -----  \n",
      " 0   EDAD                                     568 non-null    int64  \n",
      " 1   DIABETES                                 568 non-null    int64  \n",
      " 2   HOSPITALIZACIÓN ULTIMO MES               568 non-null    int64  \n",
      " 3   PSA                                      568 non-null    float64\n",
      " 4   BIOPSIAS PREVIAS                         568 non-null    int64  \n",
      " 5   VOLUMEN PROSTATICO                       568 non-null    int64  \n",
      " 6   ANTIBIOTICO UTILIAZADO EN LA PROFILAXIS  568 non-null    object \n",
      " 7   NUMERO DE MUESTRAS TOMADAS               568 non-null    int64  \n",
      " 8   CUP                                      568 non-null    int64  \n",
      " 9   ENF. CRONICA PULMONAR OBSTRUCTIVA        568 non-null    int64  \n",
      " 10  BIOPSIA                                  568 non-null    int64  \n",
      " 11  HOSPITALIZACION                          568 non-null    int64  \n",
      "dtypes: float64(1), int64(10), object(1)\n",
      "memory usage: 53.4+ KB\n"
     ]
    }
   ],
   "source": [
    "df_pabellon.info()"
   ]
  },
  {
   "cell_type": "code",
   "execution_count": 10,
   "id": "8e8a2657",
   "metadata": {},
   "outputs": [
    {
     "data": {
      "text/plain": [
       "array(['FLUOROQUINOLONA_AMINOGLICOSIDO', 'CEFALOSPORINA_AMINOGLUCOCIDO',\n",
       "       'OROQUINOLONAS', 'OTROS'], dtype=object)"
      ]
     },
     "execution_count": 10,
     "metadata": {},
     "output_type": "execute_result"
    }
   ],
   "source": [
    "df_pabellon['ANTIBIOTICO UTILIAZADO EN LA PROFILAXIS'].unique()"
   ]
  },
  {
   "cell_type": "code",
   "execution_count": 16,
   "id": "7b4ede69",
   "metadata": {},
   "outputs": [
    {
     "data": {
      "text/plain": [
       "Index(['EDAD', 'DIABETES', 'HOSPITALIZACIÓN ULTIMO MES', 'PSA',\n",
       "       'BIOPSIAS PREVIAS', 'VOLUMEN PROSTATICO',\n",
       "       'ANTIBIOTICO UTILIAZADO EN LA PROFILAXIS', 'NUMERO DE MUESTRAS TOMADAS',\n",
       "       'CUP', 'ENF. CRONICA PULMONAR OBSTRUCTIVA', 'BIOPSIA',\n",
       "       'HOSPITALIZACION'],\n",
       "      dtype='object')"
      ]
     },
     "execution_count": 16,
     "metadata": {},
     "output_type": "execute_result"
    }
   ],
   "source": [
    "df_pabellon.columns"
   ]
  },
  {
   "cell_type": "code",
   "execution_count": 12,
   "id": "2eba7c94",
   "metadata": {},
   "outputs": [
    {
     "data": {
      "application/vnd.microsoft.datawrangler.viewer.v0+json": {
       "columns": [
        {
         "name": "index",
         "rawType": "int64",
         "type": "integer"
        },
        {
         "name": "EDAD",
         "rawType": "int64",
         "type": "integer"
        },
        {
         "name": "DIABETES",
         "rawType": "int64",
         "type": "integer"
        },
        {
         "name": "HOSPITALIZACIÓN ULTIMO MES",
         "rawType": "int64",
         "type": "integer"
        },
        {
         "name": "PSA",
         "rawType": "float64",
         "type": "float"
        },
        {
         "name": "BIOPSIAS PREVIAS",
         "rawType": "int64",
         "type": "integer"
        },
        {
         "name": "VOLUMEN PROSTATICO",
         "rawType": "int64",
         "type": "integer"
        },
        {
         "name": "NUMERO DE MUESTRAS TOMADAS",
         "rawType": "int64",
         "type": "integer"
        },
        {
         "name": "CUP",
         "rawType": "int64",
         "type": "integer"
        },
        {
         "name": "ENF. CRONICA PULMONAR OBSTRUCTIVA",
         "rawType": "int64",
         "type": "integer"
        },
        {
         "name": "BIOPSIA",
         "rawType": "int64",
         "type": "integer"
        },
        {
         "name": "ANTIBIOTICO UTILIAZADO EN LA PROFILAXIS_FLUOROQUINOLONA_AMINOGLICOSIDO",
         "rawType": "bool",
         "type": "boolean"
        },
        {
         "name": "ANTIBIOTICO UTILIAZADO EN LA PROFILAXIS_OROQUINOLONAS",
         "rawType": "bool",
         "type": "boolean"
        },
        {
         "name": "ANTIBIOTICO UTILIAZADO EN LA PROFILAXIS_OTROS",
         "rawType": "bool",
         "type": "boolean"
        }
       ],
       "ref": "4d6d59d9-a0c4-4173-8c2a-7cd2e6ab02dc",
       "rows": [
        [
         "0",
         "53",
         "0",
         "0",
         "4.0",
         "0",
         "1",
         "12",
         "0",
         "0",
         "0",
         "True",
         "False",
         "False"
        ],
        [
         "1",
         "56",
         "0",
         "0",
         "7.7",
         "0",
         "1",
         "12",
         "0",
         "0",
         "0",
         "True",
         "False",
         "False"
        ],
        [
         "2",
         "53",
         "0",
         "0",
         "7.0",
         "0",
         "1",
         "12",
         "0",
         "0",
         "0",
         "True",
         "False",
         "False"
        ],
        [
         "3",
         "65",
         "0",
         "0",
         "4.3",
         "0",
         "0",
         "12",
         "0",
         "0",
         "0",
         "True",
         "False",
         "False"
        ],
        [
         "4",
         "62",
         "0",
         "0",
         "7.0",
         "0",
         "1",
         "12",
         "0",
         "0",
         "0",
         "True",
         "False",
         "False"
        ]
       ],
       "shape": {
        "columns": 13,
        "rows": 5
       }
      },
      "text/html": [
       "<div>\n",
       "<style scoped>\n",
       "    .dataframe tbody tr th:only-of-type {\n",
       "        vertical-align: middle;\n",
       "    }\n",
       "\n",
       "    .dataframe tbody tr th {\n",
       "        vertical-align: top;\n",
       "    }\n",
       "\n",
       "    .dataframe thead th {\n",
       "        text-align: right;\n",
       "    }\n",
       "</style>\n",
       "<table border=\"1\" class=\"dataframe\">\n",
       "  <thead>\n",
       "    <tr style=\"text-align: right;\">\n",
       "      <th></th>\n",
       "      <th>EDAD</th>\n",
       "      <th>DIABETES</th>\n",
       "      <th>HOSPITALIZACIÓN ULTIMO MES</th>\n",
       "      <th>PSA</th>\n",
       "      <th>BIOPSIAS PREVIAS</th>\n",
       "      <th>VOLUMEN PROSTATICO</th>\n",
       "      <th>NUMERO DE MUESTRAS TOMADAS</th>\n",
       "      <th>CUP</th>\n",
       "      <th>ENF. CRONICA PULMONAR OBSTRUCTIVA</th>\n",
       "      <th>BIOPSIA</th>\n",
       "      <th>ANTIBIOTICO UTILIAZADO EN LA PROFILAXIS_FLUOROQUINOLONA_AMINOGLICOSIDO</th>\n",
       "      <th>ANTIBIOTICO UTILIAZADO EN LA PROFILAXIS_OROQUINOLONAS</th>\n",
       "      <th>ANTIBIOTICO UTILIAZADO EN LA PROFILAXIS_OTROS</th>\n",
       "    </tr>\n",
       "  </thead>\n",
       "  <tbody>\n",
       "    <tr>\n",
       "      <th>0</th>\n",
       "      <td>53</td>\n",
       "      <td>0</td>\n",
       "      <td>0</td>\n",
       "      <td>4.0</td>\n",
       "      <td>0</td>\n",
       "      <td>1</td>\n",
       "      <td>12</td>\n",
       "      <td>0</td>\n",
       "      <td>0</td>\n",
       "      <td>0</td>\n",
       "      <td>True</td>\n",
       "      <td>False</td>\n",
       "      <td>False</td>\n",
       "    </tr>\n",
       "    <tr>\n",
       "      <th>1</th>\n",
       "      <td>56</td>\n",
       "      <td>0</td>\n",
       "      <td>0</td>\n",
       "      <td>7.7</td>\n",
       "      <td>0</td>\n",
       "      <td>1</td>\n",
       "      <td>12</td>\n",
       "      <td>0</td>\n",
       "      <td>0</td>\n",
       "      <td>0</td>\n",
       "      <td>True</td>\n",
       "      <td>False</td>\n",
       "      <td>False</td>\n",
       "    </tr>\n",
       "    <tr>\n",
       "      <th>2</th>\n",
       "      <td>53</td>\n",
       "      <td>0</td>\n",
       "      <td>0</td>\n",
       "      <td>7.0</td>\n",
       "      <td>0</td>\n",
       "      <td>1</td>\n",
       "      <td>12</td>\n",
       "      <td>0</td>\n",
       "      <td>0</td>\n",
       "      <td>0</td>\n",
       "      <td>True</td>\n",
       "      <td>False</td>\n",
       "      <td>False</td>\n",
       "    </tr>\n",
       "    <tr>\n",
       "      <th>3</th>\n",
       "      <td>65</td>\n",
       "      <td>0</td>\n",
       "      <td>0</td>\n",
       "      <td>4.3</td>\n",
       "      <td>0</td>\n",
       "      <td>0</td>\n",
       "      <td>12</td>\n",
       "      <td>0</td>\n",
       "      <td>0</td>\n",
       "      <td>0</td>\n",
       "      <td>True</td>\n",
       "      <td>False</td>\n",
       "      <td>False</td>\n",
       "    </tr>\n",
       "    <tr>\n",
       "      <th>4</th>\n",
       "      <td>62</td>\n",
       "      <td>0</td>\n",
       "      <td>0</td>\n",
       "      <td>7.0</td>\n",
       "      <td>0</td>\n",
       "      <td>1</td>\n",
       "      <td>12</td>\n",
       "      <td>0</td>\n",
       "      <td>0</td>\n",
       "      <td>0</td>\n",
       "      <td>True</td>\n",
       "      <td>False</td>\n",
       "      <td>False</td>\n",
       "    </tr>\n",
       "  </tbody>\n",
       "</table>\n",
       "</div>"
      ],
      "text/plain": [
       "   EDAD  ...  ANTIBIOTICO UTILIAZADO EN LA PROFILAXIS_OTROS\n",
       "0    53  ...                                          False\n",
       "1    56  ...                                          False\n",
       "2    53  ...                                          False\n",
       "3    65  ...                                          False\n",
       "4    62  ...                                          False\n",
       "\n",
       "[5 rows x 13 columns]"
      ]
     },
     "execution_count": 12,
     "metadata": {},
     "output_type": "execute_result"
    }
   ],
   "source": [
    "# dummy and drop first\n",
    "X = pd.get_dummies(X, drop_first=True)\n",
    "X.head()"
   ]
  },
  {
   "cell_type": "code",
   "execution_count": 14,
   "id": "0bf21d5f",
   "metadata": {},
   "outputs": [
    {
     "data": {
      "text/plain": [
       "Index(['EDAD', 'DIABETES', 'HOSPITALIZACIÓN ULTIMO MES', 'PSA',\n",
       "       'BIOPSIAS PREVIAS', 'VOLUMEN PROSTATICO', 'NUMERO DE MUESTRAS TOMADAS',\n",
       "       'CUP', 'ENF. CRONICA PULMONAR OBSTRUCTIVA', 'BIOPSIA',\n",
       "       'ANTIBIOTICO UTILIAZADO EN LA PROFILAXIS_FLUOROQUINOLONA_AMINOGLICOSIDO',\n",
       "       'ANTIBIOTICO UTILIAZADO EN LA PROFILAXIS_OROQUINOLONAS',\n",
       "       'ANTIBIOTICO UTILIAZADO EN LA PROFILAXIS_OTROS'],\n",
       "      dtype='object')"
      ]
     },
     "execution_count": 14,
     "metadata": {},
     "output_type": "execute_result"
    }
   ],
   "source": [
    "X.columns"
   ]
  },
  {
   "cell_type": "code",
   "execution_count": 17,
   "id": "2959035f",
   "metadata": {},
   "outputs": [],
   "source": [
    "# split data into train and test\n",
    "X_train, X_test, y_train, y_test = train_test_split(X, y, test_size=0.3, random_state=123, stratify=y)"
   ]
  },
  {
   "cell_type": "code",
   "execution_count": 18,
   "id": "8530709e",
   "metadata": {},
   "outputs": [],
   "source": [
    "# stratified k fold\n",
    "skf = StratifiedKFold(n_splits=5, shuffle=True, random_state=123)"
   ]
  },
  {
   "cell_type": "code",
   "execution_count": 19,
   "id": "8c96500b",
   "metadata": {},
   "outputs": [],
   "source": [
    "# models instances\n",
    "model_svc = SVC(kernel='linear')\n",
    "model_rf = RandomForestClassifier(random_state=123,n_estimators=30, max_depth=5)\n",
    "model_gnb = GaussianNB()"
   ]
  },
  {
   "cell_type": "code",
   "execution_count": 30,
   "id": "83c0025d",
   "metadata": {},
   "outputs": [],
   "source": [
    "# function to cross validation\n",
    "\n",
    "\n",
    "\n",
    "\n",
    "def cv(X, y):\n",
    "    recall_svc = cross_val_score(model_svc, X, y, cv=skf, scoring='recall')\n",
    "    recall_rf = cross_val_score(model_rf, X, y, cv=skf, scoring='recall')\n",
    "    recall_gnb = cross_val_score(model_gnb, X, y, cv=skf, scoring='recall')\n",
    "\n",
    "    precision_svc = cross_val_score(model_svc, X, y, cv=skf, scoring=metrics.make_scorer(metrics.precision_score, zero_division=0))\n",
    "    precision_rf = cross_val_score(model_rf, X, y, cv=skf, scoring=metrics.make_scorer(metrics.precision_score, zero_division=0))\n",
    "    precision_gnb = cross_val_score(model_gnb, X, y, cv=skf, scoring=metrics.make_scorer(metrics.precision_score, zero_division=0))\n",
    "\n",
    "    accuracy_svc = cross_val_score(model_svc, X, y, cv=skf, scoring='accuracy')\n",
    "    accuracy_rf = cross_val_score(model_rf, X, y, cv=skf, scoring='accuracy')\n",
    "    accuracy_gnb = cross_val_score(model_gnb, X, y, cv=skf, scoring='accuracy')\n",
    "\n",
    "    f1_svc = cross_val_score(model_svc, X, y, cv=skf, scoring='f1')\n",
    "    f1_rf = cross_val_score(model_rf, X, y, cv=skf, scoring='f1')\n",
    "    f1_gnb = cross_val_score(model_gnb, X, y, cv=skf, scoring='f1')\n",
    "\n",
    "    results = pd.DataFrame({\n",
    "        'Model': ['SVC', 'Random Forest', 'GaussianNB'],\n",
    "        'Accuracy Mean': [accuracy_svc.mean(), accuracy_rf.mean(), accuracy_gnb.mean()],\n",
    "        'Accuracy Std': [accuracy_svc.std(), accuracy_rf.std(), accuracy_gnb.std()],\n",
    "        'Precision Mean': [precision_svc.mean(), precision_rf.mean(), precision_gnb.mean()],\n",
    "        'Precision Std': [precision_svc.std(), precision_rf.std(), precision_gnb.std()],\n",
    "        'Recall Mean': [recall_svc.mean(), recall_rf.mean(), recall_gnb.mean()],\n",
    "        'Recall Std': [recall_svc.std(), recall_rf.std(), recall_gnb.std()],\n",
    "        'F1 Mean': [f1_svc.mean(), f1_rf.mean(), f1_gnb.mean()],\n",
    "        'F1 Std': [f1_svc.std(), f1_rf.std(), f1_gnb.std()],\n",
    "    })\n",
    "\n",
    "    return results\n"
   ]
  },
  {
   "cell_type": "code",
   "execution_count": 31,
   "id": "49bb4b7a",
   "metadata": {},
   "outputs": [
    {
     "data": {
      "application/vnd.microsoft.datawrangler.viewer.v0+json": {
       "columns": [
        {
         "name": "index",
         "rawType": "int64",
         "type": "integer"
        },
        {
         "name": "Model",
         "rawType": "object",
         "type": "string"
        },
        {
         "name": "Accuracy Mean",
         "rawType": "float64",
         "type": "float"
        },
        {
         "name": "Accuracy Std",
         "rawType": "float64",
         "type": "float"
        },
        {
         "name": "Precision Mean",
         "rawType": "float64",
         "type": "float"
        },
        {
         "name": "Precision Std",
         "rawType": "float64",
         "type": "float"
        },
        {
         "name": "Recall Mean",
         "rawType": "float64",
         "type": "float"
        },
        {
         "name": "Recall Std",
         "rawType": "float64",
         "type": "float"
        },
        {
         "name": "F1 Mean",
         "rawType": "float64",
         "type": "float"
        },
        {
         "name": "F1 Std",
         "rawType": "float64",
         "type": "float"
        }
       ],
       "ref": "8239a06d-dbbb-4a18-973b-9d07c0ed5824",
       "rows": [
        [
         "0",
         "SVC",
         "0.9572151898734177",
         "0.005891177862389954",
         "0.0",
         "0.0",
         "0.0",
         "0.0",
         "0.0",
         "0.0"
        ],
        [
         "1",
         "Random Forest",
         "0.959746835443038",
         "0.009203149736351168",
         "0.2",
         "0.4000000000000001",
         "0.06666666666666667",
         "0.13333333333333333",
         "0.1",
         "0.20000000000000004"
        ],
        [
         "2",
         "GaussianNB",
         "0.21126582278481015",
         "0.053456327161858365",
         "0.04912553043239024",
         "0.008096134076191749",
         "0.95",
         "0.09999999999999999",
         "0.0932403042163316",
         "0.014557068603289989"
        ]
       ],
       "shape": {
        "columns": 9,
        "rows": 3
       }
      },
      "text/html": [
       "<div>\n",
       "<style scoped>\n",
       "    .dataframe tbody tr th:only-of-type {\n",
       "        vertical-align: middle;\n",
       "    }\n",
       "\n",
       "    .dataframe tbody tr th {\n",
       "        vertical-align: top;\n",
       "    }\n",
       "\n",
       "    .dataframe thead th {\n",
       "        text-align: right;\n",
       "    }\n",
       "</style>\n",
       "<table border=\"1\" class=\"dataframe\">\n",
       "  <thead>\n",
       "    <tr style=\"text-align: right;\">\n",
       "      <th></th>\n",
       "      <th>Model</th>\n",
       "      <th>Accuracy Mean</th>\n",
       "      <th>Accuracy Std</th>\n",
       "      <th>Precision Mean</th>\n",
       "      <th>Precision Std</th>\n",
       "      <th>Recall Mean</th>\n",
       "      <th>Recall Std</th>\n",
       "      <th>F1 Mean</th>\n",
       "      <th>F1 Std</th>\n",
       "    </tr>\n",
       "  </thead>\n",
       "  <tbody>\n",
       "    <tr>\n",
       "      <th>0</th>\n",
       "      <td>SVC</td>\n",
       "      <td>0.957215</td>\n",
       "      <td>0.005891</td>\n",
       "      <td>0.000000</td>\n",
       "      <td>0.000000</td>\n",
       "      <td>0.000000</td>\n",
       "      <td>0.000000</td>\n",
       "      <td>0.00000</td>\n",
       "      <td>0.000000</td>\n",
       "    </tr>\n",
       "    <tr>\n",
       "      <th>1</th>\n",
       "      <td>Random Forest</td>\n",
       "      <td>0.959747</td>\n",
       "      <td>0.009203</td>\n",
       "      <td>0.200000</td>\n",
       "      <td>0.400000</td>\n",
       "      <td>0.066667</td>\n",
       "      <td>0.133333</td>\n",
       "      <td>0.10000</td>\n",
       "      <td>0.200000</td>\n",
       "    </tr>\n",
       "    <tr>\n",
       "      <th>2</th>\n",
       "      <td>GaussianNB</td>\n",
       "      <td>0.211266</td>\n",
       "      <td>0.053456</td>\n",
       "      <td>0.049126</td>\n",
       "      <td>0.008096</td>\n",
       "      <td>0.950000</td>\n",
       "      <td>0.100000</td>\n",
       "      <td>0.09324</td>\n",
       "      <td>0.014557</td>\n",
       "    </tr>\n",
       "  </tbody>\n",
       "</table>\n",
       "</div>"
      ],
      "text/plain": [
       "           Model  Accuracy Mean  Accuracy Std  ...  Recall Std  F1 Mean    F1 Std\n",
       "0            SVC       0.957215      0.005891  ...    0.000000  0.00000  0.000000\n",
       "1  Random Forest       0.959747      0.009203  ...    0.133333  0.10000  0.200000\n",
       "2     GaussianNB       0.211266      0.053456  ...    0.100000  0.09324  0.014557\n",
       "\n",
       "[3 rows x 9 columns]"
      ]
     },
     "execution_count": 31,
     "metadata": {},
     "output_type": "execute_result"
    }
   ],
   "source": [
    "cv_results = cv(X_train, y_train)\n",
    "cv_results"
   ]
  },
  {
   "cell_type": "code",
   "execution_count": 35,
   "id": "04a67a31",
   "metadata": {},
   "outputs": [],
   "source": [
    "# test\n",
    "\n",
    "def test_set(X,y):\n",
    "    model_svc.fit(X, y)\n",
    "    model_rf.fit(X, y)\n",
    "    model_gnb.fit(X, y)\n",
    "\n",
    "    y_pred_svc = model_svc.predict(X_test)\n",
    "    y_pred_rf = model_rf.predict(X_test)\n",
    "    y_pred_gnb = model_gnb.predict(X_test)\n",
    "\n",
    "    accuracy_svc = accuracy_score(y_test, y_pred_svc)\n",
    "    accuracy_rf = accuracy_score(y_test, y_pred_rf)\n",
    "    accuracy_gnb = accuracy_score(y_test, y_pred_gnb)\n",
    "\n",
    "    precision_svc = metrics.precision_score(y_test, y_pred_svc, zero_division=0)\n",
    "    precision_rf = metrics.precision_score(y_test, y_pred_rf, zero_division=0)\n",
    "    precision_gnb = metrics.precision_score(y_test, y_pred_gnb, zero_division=0)\n",
    "\n",
    "    recall_svc = metrics.recall_score(y_test, y_pred_svc)\n",
    "    recall_rf = metrics.recall_score(y_test, y_pred_rf)\n",
    "    recall_gnb = metrics.recall_score(y_test, y_pred_gnb)\n",
    "\n",
    "    f1_svc = metrics.f1_score(y_test, y_pred_svc)\n",
    "    f1_rf = metrics.f1_score(y_test, y_pred_rf)\n",
    "    f1_gnb = metrics.f1_score(y_test, y_pred_gnb)\n",
    "\n",
    "    results = pd.DataFrame({\n",
    "        'Model': ['SVC', 'Random Forest', 'GaussianNB'],\n",
    "        'Accuracy': [accuracy_svc, accuracy_rf, accuracy_gnb],\n",
    "        'Precision': [precision_svc, precision_rf, precision_gnb],\n",
    "        'Recall': [recall_svc, recall_rf, recall_gnb],\n",
    "        'F1 Score': [f1_svc, f1_rf, f1_gnb],\n",
    "    })\n",
    "\n",
    "    return results"
   ]
  },
  {
   "cell_type": "code",
   "execution_count": 29,
   "id": "61a16d3a",
   "metadata": {},
   "outputs": [
    {
     "data": {
      "application/vnd.microsoft.datawrangler.viewer.v0+json": {
       "columns": [
        {
         "name": "index",
         "rawType": "int64",
         "type": "integer"
        },
        {
         "name": "Model",
         "rawType": "object",
         "type": "string"
        },
        {
         "name": "Accuracy",
         "rawType": "float64",
         "type": "float"
        },
        {
         "name": "Precision",
         "rawType": "float64",
         "type": "float"
        },
        {
         "name": "Recall",
         "rawType": "float64",
         "type": "float"
        },
        {
         "name": "F1 Score",
         "rawType": "float64",
         "type": "float"
        }
       ],
       "ref": "b7d79978-c605-48cf-8cce-4f2e69cbfe27",
       "rows": [
        [
         "0",
         "SVC",
         "0.9590643274853801",
         "0.0",
         "0.0",
         "0.0"
        ],
        [
         "1",
         "Random Forest",
         "0.9590643274853801",
         "0.0",
         "0.0",
         "0.0"
        ],
        [
         "2",
         "GaussianNB",
         "0.1695906432748538",
         "0.04081632653061224",
         "0.8571428571428571",
         "0.07792207792207792"
        ]
       ],
       "shape": {
        "columns": 5,
        "rows": 3
       }
      },
      "text/html": [
       "<div>\n",
       "<style scoped>\n",
       "    .dataframe tbody tr th:only-of-type {\n",
       "        vertical-align: middle;\n",
       "    }\n",
       "\n",
       "    .dataframe tbody tr th {\n",
       "        vertical-align: top;\n",
       "    }\n",
       "\n",
       "    .dataframe thead th {\n",
       "        text-align: right;\n",
       "    }\n",
       "</style>\n",
       "<table border=\"1\" class=\"dataframe\">\n",
       "  <thead>\n",
       "    <tr style=\"text-align: right;\">\n",
       "      <th></th>\n",
       "      <th>Model</th>\n",
       "      <th>Accuracy</th>\n",
       "      <th>Precision</th>\n",
       "      <th>Recall</th>\n",
       "      <th>F1 Score</th>\n",
       "    </tr>\n",
       "  </thead>\n",
       "  <tbody>\n",
       "    <tr>\n",
       "      <th>0</th>\n",
       "      <td>SVC</td>\n",
       "      <td>0.959064</td>\n",
       "      <td>0.000000</td>\n",
       "      <td>0.000000</td>\n",
       "      <td>0.000000</td>\n",
       "    </tr>\n",
       "    <tr>\n",
       "      <th>1</th>\n",
       "      <td>Random Forest</td>\n",
       "      <td>0.959064</td>\n",
       "      <td>0.000000</td>\n",
       "      <td>0.000000</td>\n",
       "      <td>0.000000</td>\n",
       "    </tr>\n",
       "    <tr>\n",
       "      <th>2</th>\n",
       "      <td>GaussianNB</td>\n",
       "      <td>0.169591</td>\n",
       "      <td>0.040816</td>\n",
       "      <td>0.857143</td>\n",
       "      <td>0.077922</td>\n",
       "    </tr>\n",
       "  </tbody>\n",
       "</table>\n",
       "</div>"
      ],
      "text/plain": [
       "           Model  Accuracy  Precision    Recall  F1 Score\n",
       "0            SVC  0.959064   0.000000  0.000000  0.000000\n",
       "1  Random Forest  0.959064   0.000000  0.000000  0.000000\n",
       "2     GaussianNB  0.169591   0.040816  0.857143  0.077922"
      ]
     },
     "execution_count": 29,
     "metadata": {},
     "output_type": "execute_result"
    }
   ],
   "source": [
    "test_results = test_set(X_test, y_test)\n",
    "test_results"
   ]
  },
  {
   "cell_type": "code",
   "execution_count": 33,
   "id": "a70725c9",
   "metadata": {},
   "outputs": [
    {
     "data": {
      "text/plain": [
       "((397, 13), (397,))"
      ]
     },
     "execution_count": 33,
     "metadata": {},
     "output_type": "execute_result"
    }
   ],
   "source": [
    "X_train.shape, y_train.shape"
   ]
  },
  {
   "cell_type": "code",
   "execution_count": 32,
   "id": "ba109ddb",
   "metadata": {},
   "outputs": [
    {
     "data": {
      "text/plain": [
       "((760, 13), (760,))"
      ]
     },
     "execution_count": 32,
     "metadata": {},
     "output_type": "execute_result"
    }
   ],
   "source": [
    "# Oversampling\n",
    "oversample = RandomOverSampler(sampling_strategy='minority', random_state=123)\n",
    "\n",
    "X_train_ros, y_train_ros = oversample.fit_resample(X_train, y_train)\n",
    "X_train_ros.shape, y_train_ros.shape"
   ]
  },
  {
   "cell_type": "code",
   "execution_count": 36,
   "id": "1c5fd2bf",
   "metadata": {},
   "outputs": [
    {
     "data": {
      "application/vnd.microsoft.datawrangler.viewer.v0+json": {
       "columns": [
        {
         "name": "index",
         "rawType": "int64",
         "type": "integer"
        },
        {
         "name": "Model",
         "rawType": "object",
         "type": "string"
        },
        {
         "name": "Accuracy Mean",
         "rawType": "float64",
         "type": "float"
        },
        {
         "name": "Accuracy Std",
         "rawType": "float64",
         "type": "float"
        },
        {
         "name": "Precision Mean",
         "rawType": "float64",
         "type": "float"
        },
        {
         "name": "Precision Std",
         "rawType": "float64",
         "type": "float"
        },
        {
         "name": "Recall Mean",
         "rawType": "float64",
         "type": "float"
        },
        {
         "name": "Recall Std",
         "rawType": "float64",
         "type": "float"
        },
        {
         "name": "F1 Mean",
         "rawType": "float64",
         "type": "float"
        },
        {
         "name": "F1 Std",
         "rawType": "float64",
         "type": "float"
        }
       ],
       "ref": "df98b919-8ae5-4d25-9654-b1578205a779",
       "rows": [
        [
         "0",
         "SVC",
         "0.7881578947368421",
         "0.017356455208253824",
         "0.7028355344664242",
         "0.017742190368261662",
         "1.0",
         "0.0",
         "0.8253627713133931",
         "0.012062483104146322"
        ],
        [
         "1",
         "Random Forest",
         "0.9526315789473685",
         "0.013418472404191509",
         "0.9139978785653156",
         "0.021883158042951153",
         "1.0",
         "0.0",
         "0.9549286411311277",
         "0.012081292888363935"
        ],
        [
         "2",
         "GaussianNB",
         "0.5776315789473684",
         "0.024756431213456286",
         "0.5424868089656822",
         "0.015056567615095273",
         "1.0",
         "0.0",
         "0.7032703982559456",
         "0.01250672296748008"
        ]
       ],
       "shape": {
        "columns": 9,
        "rows": 3
       }
      },
      "text/html": [
       "<div>\n",
       "<style scoped>\n",
       "    .dataframe tbody tr th:only-of-type {\n",
       "        vertical-align: middle;\n",
       "    }\n",
       "\n",
       "    .dataframe tbody tr th {\n",
       "        vertical-align: top;\n",
       "    }\n",
       "\n",
       "    .dataframe thead th {\n",
       "        text-align: right;\n",
       "    }\n",
       "</style>\n",
       "<table border=\"1\" class=\"dataframe\">\n",
       "  <thead>\n",
       "    <tr style=\"text-align: right;\">\n",
       "      <th></th>\n",
       "      <th>Model</th>\n",
       "      <th>Accuracy Mean</th>\n",
       "      <th>Accuracy Std</th>\n",
       "      <th>Precision Mean</th>\n",
       "      <th>Precision Std</th>\n",
       "      <th>Recall Mean</th>\n",
       "      <th>Recall Std</th>\n",
       "      <th>F1 Mean</th>\n",
       "      <th>F1 Std</th>\n",
       "    </tr>\n",
       "  </thead>\n",
       "  <tbody>\n",
       "    <tr>\n",
       "      <th>0</th>\n",
       "      <td>SVC</td>\n",
       "      <td>0.788158</td>\n",
       "      <td>0.017356</td>\n",
       "      <td>0.702836</td>\n",
       "      <td>0.017742</td>\n",
       "      <td>1.0</td>\n",
       "      <td>0.0</td>\n",
       "      <td>0.825363</td>\n",
       "      <td>0.012062</td>\n",
       "    </tr>\n",
       "    <tr>\n",
       "      <th>1</th>\n",
       "      <td>Random Forest</td>\n",
       "      <td>0.952632</td>\n",
       "      <td>0.013418</td>\n",
       "      <td>0.913998</td>\n",
       "      <td>0.021883</td>\n",
       "      <td>1.0</td>\n",
       "      <td>0.0</td>\n",
       "      <td>0.954929</td>\n",
       "      <td>0.012081</td>\n",
       "    </tr>\n",
       "    <tr>\n",
       "      <th>2</th>\n",
       "      <td>GaussianNB</td>\n",
       "      <td>0.577632</td>\n",
       "      <td>0.024756</td>\n",
       "      <td>0.542487</td>\n",
       "      <td>0.015057</td>\n",
       "      <td>1.0</td>\n",
       "      <td>0.0</td>\n",
       "      <td>0.703270</td>\n",
       "      <td>0.012507</td>\n",
       "    </tr>\n",
       "  </tbody>\n",
       "</table>\n",
       "</div>"
      ],
      "text/plain": [
       "           Model  Accuracy Mean  Accuracy Std  ...  Recall Std   F1 Mean    F1 Std\n",
       "0            SVC       0.788158      0.017356  ...         0.0  0.825363  0.012062\n",
       "1  Random Forest       0.952632      0.013418  ...         0.0  0.954929  0.012081\n",
       "2     GaussianNB       0.577632      0.024756  ...         0.0  0.703270  0.012507\n",
       "\n",
       "[3 rows x 9 columns]"
      ]
     },
     "execution_count": 36,
     "metadata": {},
     "output_type": "execute_result"
    }
   ],
   "source": [
    "# cross validation with oversampling\n",
    "cv_results_ros = cv(X_train_ros, y_train_ros)\n",
    "cv_results_ros"
   ]
  },
  {
   "cell_type": "code",
   "execution_count": 37,
   "id": "808ec398",
   "metadata": {},
   "outputs": [
    {
     "data": {
      "application/vnd.microsoft.datawrangler.viewer.v0+json": {
       "columns": [
        {
         "name": "index",
         "rawType": "int64",
         "type": "integer"
        },
        {
         "name": "Model",
         "rawType": "object",
         "type": "string"
        },
        {
         "name": "Accuracy",
         "rawType": "float64",
         "type": "float"
        },
        {
         "name": "Precision",
         "rawType": "float64",
         "type": "float"
        },
        {
         "name": "Recall",
         "rawType": "float64",
         "type": "float"
        },
        {
         "name": "F1 Score",
         "rawType": "float64",
         "type": "float"
        }
       ],
       "ref": "bb6a5714-c105-447a-8a19-7dcfcd039f6a",
       "rows": [
        [
         "0",
         "SVC",
         "0.5087719298245614",
         "0.06741573033707865",
         "0.8571428571428571",
         "0.125"
        ],
        [
         "1",
         "Random Forest",
         "0.8654970760233918",
         "0.19230769230769232",
         "0.7142857142857143",
         "0.30303030303030304"
        ],
        [
         "2",
         "GaussianNB",
         "0.1695906432748538",
         "0.04081632653061224",
         "0.8571428571428571",
         "0.07792207792207792"
        ]
       ],
       "shape": {
        "columns": 5,
        "rows": 3
       }
      },
      "text/html": [
       "<div>\n",
       "<style scoped>\n",
       "    .dataframe tbody tr th:only-of-type {\n",
       "        vertical-align: middle;\n",
       "    }\n",
       "\n",
       "    .dataframe tbody tr th {\n",
       "        vertical-align: top;\n",
       "    }\n",
       "\n",
       "    .dataframe thead th {\n",
       "        text-align: right;\n",
       "    }\n",
       "</style>\n",
       "<table border=\"1\" class=\"dataframe\">\n",
       "  <thead>\n",
       "    <tr style=\"text-align: right;\">\n",
       "      <th></th>\n",
       "      <th>Model</th>\n",
       "      <th>Accuracy</th>\n",
       "      <th>Precision</th>\n",
       "      <th>Recall</th>\n",
       "      <th>F1 Score</th>\n",
       "    </tr>\n",
       "  </thead>\n",
       "  <tbody>\n",
       "    <tr>\n",
       "      <th>0</th>\n",
       "      <td>SVC</td>\n",
       "      <td>0.508772</td>\n",
       "      <td>0.067416</td>\n",
       "      <td>0.857143</td>\n",
       "      <td>0.125000</td>\n",
       "    </tr>\n",
       "    <tr>\n",
       "      <th>1</th>\n",
       "      <td>Random Forest</td>\n",
       "      <td>0.865497</td>\n",
       "      <td>0.192308</td>\n",
       "      <td>0.714286</td>\n",
       "      <td>0.303030</td>\n",
       "    </tr>\n",
       "    <tr>\n",
       "      <th>2</th>\n",
       "      <td>GaussianNB</td>\n",
       "      <td>0.169591</td>\n",
       "      <td>0.040816</td>\n",
       "      <td>0.857143</td>\n",
       "      <td>0.077922</td>\n",
       "    </tr>\n",
       "  </tbody>\n",
       "</table>\n",
       "</div>"
      ],
      "text/plain": [
       "           Model  Accuracy  Precision    Recall  F1 Score\n",
       "0            SVC  0.508772   0.067416  0.857143  0.125000\n",
       "1  Random Forest  0.865497   0.192308  0.714286  0.303030\n",
       "2     GaussianNB  0.169591   0.040816  0.857143  0.077922"
      ]
     },
     "execution_count": 37,
     "metadata": {},
     "output_type": "execute_result"
    }
   ],
   "source": [
    "test_results_ros = test_set(X_train_ros, y_train_ros)\n",
    "test_results_ros"
   ]
  },
  {
   "cell_type": "code",
   "execution_count": 38,
   "id": "246200f1",
   "metadata": {},
   "outputs": [
    {
     "data": {
      "text/plain": [
       "((34, 13), (34,))"
      ]
     },
     "execution_count": 38,
     "metadata": {},
     "output_type": "execute_result"
    }
   ],
   "source": [
    "# undersampling\n",
    "undersample = RandomUnderSampler(sampling_strategy='majority', random_state=123)\n",
    "\n",
    "X_train_rus, y_train_rus = undersample.fit_resample(X_train, y_train)\n",
    "X_train_rus.shape, y_train_rus.shape"
   ]
  },
  {
   "cell_type": "code",
   "execution_count": 39,
   "id": "8b33ecb7",
   "metadata": {},
   "outputs": [
    {
     "data": {
      "application/vnd.microsoft.datawrangler.viewer.v0+json": {
       "columns": [
        {
         "name": "index",
         "rawType": "int64",
         "type": "integer"
        },
        {
         "name": "Model",
         "rawType": "object",
         "type": "string"
        },
        {
         "name": "Accuracy Mean",
         "rawType": "float64",
         "type": "float"
        },
        {
         "name": "Accuracy Std",
         "rawType": "float64",
         "type": "float"
        },
        {
         "name": "Precision Mean",
         "rawType": "float64",
         "type": "float"
        },
        {
         "name": "Precision Std",
         "rawType": "float64",
         "type": "float"
        },
        {
         "name": "Recall Mean",
         "rawType": "float64",
         "type": "float"
        },
        {
         "name": "Recall Std",
         "rawType": "float64",
         "type": "float"
        },
        {
         "name": "F1 Mean",
         "rawType": "float64",
         "type": "float"
        },
        {
         "name": "F1 Std",
         "rawType": "float64",
         "type": "float"
        }
       ],
       "ref": "7f15711c-b927-400b-8686-66c61b4559ab",
       "rows": [
        [
         "0",
         "SVC",
         "0.40476190476190477",
         "0.15936381457791915",
         "0.43",
         "0.14391355429948602",
         "0.4833333333333333",
         "0.1699673171197595",
         "0.4428571428571429",
         "0.13093073414159542"
        ],
        [
         "1",
         "Random Forest",
         "0.5523809523809524",
         "0.17715309750226926",
         "0.45999999999999996",
         "0.25768197453450253",
         "0.5666666666666667",
         "0.3265986323710904",
         "0.5063492063492063",
         "0.2867881055509672"
        ],
        [
         "2",
         "GaussianNB",
         "0.4333333333333333",
         "0.14784928282152401",
         "0.36428571428571427",
         "0.22158980305132844",
         "0.55",
         "0.348010216963685",
         "0.43593073593073595",
         "0.2663924491027531"
        ]
       ],
       "shape": {
        "columns": 9,
        "rows": 3
       }
      },
      "text/html": [
       "<div>\n",
       "<style scoped>\n",
       "    .dataframe tbody tr th:only-of-type {\n",
       "        vertical-align: middle;\n",
       "    }\n",
       "\n",
       "    .dataframe tbody tr th {\n",
       "        vertical-align: top;\n",
       "    }\n",
       "\n",
       "    .dataframe thead th {\n",
       "        text-align: right;\n",
       "    }\n",
       "</style>\n",
       "<table border=\"1\" class=\"dataframe\">\n",
       "  <thead>\n",
       "    <tr style=\"text-align: right;\">\n",
       "      <th></th>\n",
       "      <th>Model</th>\n",
       "      <th>Accuracy Mean</th>\n",
       "      <th>Accuracy Std</th>\n",
       "      <th>Precision Mean</th>\n",
       "      <th>Precision Std</th>\n",
       "      <th>Recall Mean</th>\n",
       "      <th>Recall Std</th>\n",
       "      <th>F1 Mean</th>\n",
       "      <th>F1 Std</th>\n",
       "    </tr>\n",
       "  </thead>\n",
       "  <tbody>\n",
       "    <tr>\n",
       "      <th>0</th>\n",
       "      <td>SVC</td>\n",
       "      <td>0.404762</td>\n",
       "      <td>0.159364</td>\n",
       "      <td>0.430000</td>\n",
       "      <td>0.143914</td>\n",
       "      <td>0.483333</td>\n",
       "      <td>0.169967</td>\n",
       "      <td>0.442857</td>\n",
       "      <td>0.130931</td>\n",
       "    </tr>\n",
       "    <tr>\n",
       "      <th>1</th>\n",
       "      <td>Random Forest</td>\n",
       "      <td>0.552381</td>\n",
       "      <td>0.177153</td>\n",
       "      <td>0.460000</td>\n",
       "      <td>0.257682</td>\n",
       "      <td>0.566667</td>\n",
       "      <td>0.326599</td>\n",
       "      <td>0.506349</td>\n",
       "      <td>0.286788</td>\n",
       "    </tr>\n",
       "    <tr>\n",
       "      <th>2</th>\n",
       "      <td>GaussianNB</td>\n",
       "      <td>0.433333</td>\n",
       "      <td>0.147849</td>\n",
       "      <td>0.364286</td>\n",
       "      <td>0.221590</td>\n",
       "      <td>0.550000</td>\n",
       "      <td>0.348010</td>\n",
       "      <td>0.435931</td>\n",
       "      <td>0.266392</td>\n",
       "    </tr>\n",
       "  </tbody>\n",
       "</table>\n",
       "</div>"
      ],
      "text/plain": [
       "           Model  Accuracy Mean  Accuracy Std  ...  Recall Std   F1 Mean    F1 Std\n",
       "0            SVC       0.404762      0.159364  ...    0.169967  0.442857  0.130931\n",
       "1  Random Forest       0.552381      0.177153  ...    0.326599  0.506349  0.286788\n",
       "2     GaussianNB       0.433333      0.147849  ...    0.348010  0.435931  0.266392\n",
       "\n",
       "[3 rows x 9 columns]"
      ]
     },
     "execution_count": 39,
     "metadata": {},
     "output_type": "execute_result"
    }
   ],
   "source": [
    "# cross validation with undersampling\n",
    "cv_results_rus = cv(X_train_rus, y_train_rus)\n",
    "cv_results_rus"
   ]
  },
  {
   "cell_type": "code",
   "execution_count": 40,
   "id": "5a7351d6",
   "metadata": {},
   "outputs": [
    {
     "data": {
      "application/vnd.microsoft.datawrangler.viewer.v0+json": {
       "columns": [
        {
         "name": "index",
         "rawType": "int64",
         "type": "integer"
        },
        {
         "name": "Model",
         "rawType": "object",
         "type": "string"
        },
        {
         "name": "Accuracy",
         "rawType": "float64",
         "type": "float"
        },
        {
         "name": "Precision",
         "rawType": "float64",
         "type": "float"
        },
        {
         "name": "Recall",
         "rawType": "float64",
         "type": "float"
        },
        {
         "name": "F1 Score",
         "rawType": "float64",
         "type": "float"
        }
       ],
       "ref": "676991c7-c3a6-4946-9083-04a54879a15f",
       "rows": [
        [
         "0",
         "SVC",
         "0.4152046783625731",
         "0.06542056074766354",
         "1.0",
         "0.12280701754385964"
        ],
        [
         "1",
         "Random Forest",
         "0.695906432748538",
         "0.09090909090909091",
         "0.7142857142857143",
         "0.16129032258064516"
        ],
        [
         "2",
         "GaussianNB",
         "0.13450292397660818",
         "0.04516129032258064",
         "1.0",
         "0.08641975308641975"
        ]
       ],
       "shape": {
        "columns": 5,
        "rows": 3
       }
      },
      "text/html": [
       "<div>\n",
       "<style scoped>\n",
       "    .dataframe tbody tr th:only-of-type {\n",
       "        vertical-align: middle;\n",
       "    }\n",
       "\n",
       "    .dataframe tbody tr th {\n",
       "        vertical-align: top;\n",
       "    }\n",
       "\n",
       "    .dataframe thead th {\n",
       "        text-align: right;\n",
       "    }\n",
       "</style>\n",
       "<table border=\"1\" class=\"dataframe\">\n",
       "  <thead>\n",
       "    <tr style=\"text-align: right;\">\n",
       "      <th></th>\n",
       "      <th>Model</th>\n",
       "      <th>Accuracy</th>\n",
       "      <th>Precision</th>\n",
       "      <th>Recall</th>\n",
       "      <th>F1 Score</th>\n",
       "    </tr>\n",
       "  </thead>\n",
       "  <tbody>\n",
       "    <tr>\n",
       "      <th>0</th>\n",
       "      <td>SVC</td>\n",
       "      <td>0.415205</td>\n",
       "      <td>0.065421</td>\n",
       "      <td>1.000000</td>\n",
       "      <td>0.122807</td>\n",
       "    </tr>\n",
       "    <tr>\n",
       "      <th>1</th>\n",
       "      <td>Random Forest</td>\n",
       "      <td>0.695906</td>\n",
       "      <td>0.090909</td>\n",
       "      <td>0.714286</td>\n",
       "      <td>0.161290</td>\n",
       "    </tr>\n",
       "    <tr>\n",
       "      <th>2</th>\n",
       "      <td>GaussianNB</td>\n",
       "      <td>0.134503</td>\n",
       "      <td>0.045161</td>\n",
       "      <td>1.000000</td>\n",
       "      <td>0.086420</td>\n",
       "    </tr>\n",
       "  </tbody>\n",
       "</table>\n",
       "</div>"
      ],
      "text/plain": [
       "           Model  Accuracy  Precision    Recall  F1 Score\n",
       "0            SVC  0.415205   0.065421  1.000000  0.122807\n",
       "1  Random Forest  0.695906   0.090909  0.714286  0.161290\n",
       "2     GaussianNB  0.134503   0.045161  1.000000  0.086420"
      ]
     },
     "execution_count": 40,
     "metadata": {},
     "output_type": "execute_result"
    }
   ],
   "source": [
    "test_results_rus = test_set(X_train_rus, y_train_rus)\n",
    "test_results_rus "
   ]
  },
  {
   "cell_type": "code",
   "execution_count": 41,
   "id": "526dcad7",
   "metadata": {},
   "outputs": [
    {
     "name": "stdout",
     "output_type": "stream",
     "text": [
      "(570, 13) (570,)\n",
      "(51, 13) (51,)\n"
     ]
    }
   ],
   "source": [
    "# combination of over and under sampling\n",
    "\n",
    "oversample = RandomOverSampler(sampling_strategy=0.5, random_state=123)\n",
    "X_train_ros, y_train_ros = oversample.fit_resample(X_train, y_train)\n",
    "print(X_train_ros.shape, y_train_ros.shape)\n",
    "\n",
    "undersample = RandomUnderSampler(sampling_strategy=0.5, random_state=123)\n",
    "X_train_rus, y_train_rus = undersample.fit_resample(X_train, y_train)\n",
    "print(X_train_rus.shape, y_train_rus.shape)"
   ]
  },
  {
   "cell_type": "code",
   "execution_count": 42,
   "id": "e9454c62",
   "metadata": {},
   "outputs": [
    {
     "data": {
      "text/plain": [
       "(           Model  Accuracy Mean  Accuracy Std  ...  Recall Std   F1 Mean    F1 Std\n",
       " 0            SVC       0.607273      0.064897  ...    0.145297  0.133333  0.163299\n",
       " 1  Random Forest       0.667273      0.133187  ...    0.293447  0.476190  0.215078\n",
       " 2     GaussianNB       0.332727      0.041699  ...    0.100000  0.483590  0.028991\n",
       " \n",
       " [3 rows x 9 columns],\n",
       "            Model  Accuracy Mean  Accuracy Std  ...  Recall Std   F1 Mean    F1 Std\n",
       " 0            SVC       0.721053      0.044866  ...    0.085840  0.476506  0.094244\n",
       " 1  Random Forest       0.940351      0.025664  ...    0.071393  0.904773  0.042579\n",
       " 2     GaussianNB       0.436842      0.033009  ...    0.000000  0.542487  0.015057\n",
       " \n",
       " [3 rows x 9 columns])"
      ]
     },
     "execution_count": 42,
     "metadata": {},
     "output_type": "execute_result"
    }
   ],
   "source": [
    "# cross validation combination\n",
    "cv_results_rus = cv(X_train_rus, y_train_rus)\n",
    "cv_results_ros = cv(X_train_ros, y_train_ros)\n",
    "cv_results_rus, cv_results_ros\n"
   ]
  },
  {
   "cell_type": "code",
   "execution_count": 49,
   "id": "0921521a",
   "metadata": {},
   "outputs": [
    {
     "name": "stdout",
     "output_type": "stream",
     "text": [
      "           Model  Accuracy  Precision    Recall  F1 Score\n",
      "0            SVC  0.842105   0.083333  0.285714  0.129032\n",
      "1  Random Forest  0.964912   0.666667  0.285714  0.400000\n",
      "2     GaussianNB  0.169591   0.040816  0.857143  0.077922\n",
      "==========================================================\n",
      "           Model  Accuracy  Precision    Recall  F1 Score\n",
      "0            SVC  0.847953   0.086957  0.285714  0.133333\n",
      "1  Random Forest  0.888889   0.125000  0.285714  0.173913\n",
      "2     GaussianNB  0.163743   0.046667  1.000000  0.089172\n"
     ]
    }
   ],
   "source": [
    "test_results_ros = test_set(X_train_ros, y_train_ros)\n",
    "print(test_results_ros)\n",
    "print('='*58)\n",
    "test_results_rus = test_set(X_train_rus, y_train_rus)\n",
    "print(test_results_rus)\n"
   ]
  },
  {
   "cell_type": "code",
   "execution_count": null,
   "id": "ece06d12",
   "metadata": {},
   "outputs": [],
   "source": []
  }
 ],
 "metadata": {
  "kernelspec": {
   "display_name": "ml-py3.12",
   "language": "python",
   "name": "python3"
  },
  "language_info": {
   "codemirror_mode": {
    "name": "ipython",
    "version": 3
   },
   "file_extension": ".py",
   "mimetype": "text/x-python",
   "name": "python",
   "nbconvert_exporter": "python",
   "pygments_lexer": "ipython3",
   "version": "3.12.9"
  }
 },
 "nbformat": 4,
 "nbformat_minor": 5
}

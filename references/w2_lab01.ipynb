{
 "cells": [
  {
   "cell_type": "markdown",
   "id": "4941ed47",
   "metadata": {
    "deletable": false,
    "editable": false,
    "nbgrader": {
     "cell_type": "markdown",
     "checksum": "531ddcbf1b580f6371d1408bdb5100d4",
     "grade": false,
     "grade_id": "cell-390f6854db991958",
     "locked": true,
     "schema_version": 3,
     "solution": false,
     "task": false
    }
   },
   "source": [
    "# Lab 1: Métodos de Regresión\n",
    "\n",
    "## ¡Bienvenido/a!\n",
    "\n",
    "Te invitamos a realizar el primer trabajo.\n",
    "- Objetivo: implementar modelos de regresión lineal y logística en Python.\n",
    "- Tipo de actividad: Individual\n",
    "- Tipo de evaluación: Sumativa \n",
    "- Ponderación: 12%\n",
    "- Puntaje: 100 puntos\n",
    "- Calificación: Escala de 1 a 7, con una exigencia de 50%. La nota mínima para aprobar es 4.0.\n",
    "\n",
    "### Introducción\n",
    "\n",
    "Esta tarea tiene como propósito abordar y profundizar en los aspectos del modelo de regresión lineal y logística. Se enfoca en las técnicas de selección de variables que aplican a estos modelos y se dan los primeros pasos para comprender cómo este tipo de modelos nos permite predecir o clasificar nuevas observaciones, cuantificando de alguna manera el error o la calidad del ajuste.\n"
   ]
  },
  {
   "cell_type": "code",
   "execution_count": 1,
   "id": "cc5db591",
   "metadata": {
    "deletable": false,
    "editable": false,
    "nbgrader": {
     "cell_type": "code",
     "checksum": "355d299bc565edcebb72242f24a8f98c",
     "grade": false,
     "grade_id": "cell-b550ae6d9617b9fe",
     "locked": true,
     "schema_version": 3,
     "solution": false,
     "task": false
    }
   },
   "outputs": [],
   "source": [
    "# Packages y módulos que utilizaremos \n",
    "import numpy as np\n",
    "import pandas as pd\n",
    "from sklearn.linear_model import LinearRegression\n",
    "from sklearn.linear_model import LogisticRegression\n",
    "from sklearn.model_selection import train_test_split\n",
    "from sklearn import metrics\n",
    "import statsmodels.api as sm\n",
    "from statsmodels.stats.outliers_influence import variance_inflation_factor\n",
    "\n",
    "# Bases de datos del Lab\n",
    "import faraway.datasets.ozone as ozone\n",
    "import faraway.datasets.prostate as prostate "
   ]
  },
  {
   "cell_type": "markdown",
   "id": "24375f5d",
   "metadata": {
    "deletable": false,
    "editable": false,
    "nbgrader": {
     "cell_type": "markdown",
     "checksum": "bbc1dace19f6b945d17094601d334152",
     "grade": false,
     "grade_id": "cell-73f4c5be7bf31081",
     "locked": true,
     "schema_version": 3,
     "solution": false,
     "task": false
    }
   },
   "source": [
    "## Problema 1\n",
    "\n",
    "Responda a las siguientes preguntas utilizando el conjunto de datos `ozone`. Considere $O^3$ como variable respuesta, mientras que las demás variables serán consideradas como variables explicativas"
   ]
  },
  {
   "cell_type": "code",
   "execution_count": 2,
   "id": "7a6b1f5e",
   "metadata": {
    "deletable": false,
    "editable": false,
    "nbgrader": {
     "cell_type": "code",
     "checksum": "4c7a579e6cd47f2356ee250e4c5a35c3",
     "grade": false,
     "grade_id": "cell-289ff9ed6fd63e86",
     "locked": true,
     "schema_version": 3,
     "solution": false,
     "task": false
    }
   },
   "outputs": [],
   "source": [
    "data = ozone.load()  # El objeto data contiene los datos para el problema 1"
   ]
  },
  {
   "cell_type": "markdown",
   "id": "cdad32e9",
   "metadata": {
    "deletable": false,
    "editable": false,
    "nbgrader": {
     "cell_type": "markdown",
     "checksum": "9b235c9f77883fac25d9e735da74abbb",
     "grade": false,
     "grade_id": "cell-dfd6d00d4bced8d2",
     "locked": true,
     "schema_version": 3,
     "solution": false,
     "task": false
    }
   },
   "source": [
    "#### 1.1 - Realizar una descomposición aleatoria de la base de datos con la proporción 80%-20% para train y test, respectivamente. Utilice el número 123 como semilla de aleatorización."
   ]
  },
  {
   "cell_type": "code",
   "execution_count": 3,
   "id": "df83f92d",
   "metadata": {
    "deletable": false,
    "nbgrader": {
     "cell_type": "code",
     "checksum": "a5220582f730be1717cac19f07b056ff",
     "grade": false,
     "grade_id": "cell-3f7ed0546090e0e6",
     "locked": false,
     "schema_version": 3,
     "solution": true,
     "task": false
    }
   },
   "outputs": [],
   "source": [
    "## Guardar la información en:\n",
    "# --> train: partición de entrenamiento    (incluyendo todas las variables)\n",
    "# --> test: partición para la validacíon   (incluyendo todas las variables)\n",
    "\n",
    "## Aquí va su código \n",
    "\n",
    "train, test = None, None    # Modifique estos objetos\n",
    "\n",
    "# your code here\n",
    "train, test = train_test_split(data, test_size=0.2, random_state=123)"
   ]
  },
  {
   "cell_type": "code",
   "execution_count": 4,
   "id": "622b9e11",
   "metadata": {
    "deletable": false,
    "editable": false,
    "nbgrader": {
     "cell_type": "code",
     "checksum": "a49a4a13e04071b7917772e762570b26",
     "grade": true,
     "grade_id": "cell-8bfa95137bbe415d",
     "locked": true,
     "points": 5,
     "schema_version": 3,
     "solution": false,
     "task": false
    }
   },
   "outputs": [],
   "source": [
    "# Testing para la pregunta 1.1"
   ]
  },
  {
   "cell_type": "markdown",
   "id": "07306bef",
   "metadata": {
    "deletable": false,
    "editable": false,
    "nbgrader": {
     "cell_type": "markdown",
     "checksum": "91a263c69b81ad2060ff97b5c3bd03f6",
     "grade": false,
     "grade_id": "cell-ec9fbd6a4058945d",
     "locked": true,
     "schema_version": 3,
     "solution": false,
     "task": false
    }
   },
   "source": [
    "#### 1.2- Utilizando el conjunto de entrenamiento, ajuste un modelo de regresión lineal múltiple por mínimos cuadrados ordinarios. Considere el modelo con todas las variables disponibles (incluyendo intercepto). Determine que variables son estadísticamente significativas al 5%. "
   ]
  },
  {
   "cell_type": "code",
   "execution_count": 5,
   "id": "428fa7a8",
   "metadata": {
    "deletable": false,
    "nbgrader": {
     "cell_type": "code",
     "checksum": "ca78dbca324df563a6c07b496cdc6bff",
     "grade": false,
     "grade_id": "cell-2327441601b525e6",
     "locked": false,
     "schema_version": 3,
     "solution": true,
     "task": false
    }
   },
   "outputs": [
    {
     "data": {
      "text/plain": [
       "const       False\n",
       "vh          False\n",
       "wind        False\n",
       "humidity     True\n",
       "temp         True\n",
       "ibh         False\n",
       "dpg         False\n",
       "ibt          True\n",
       "vis         False\n",
       "doy          True\n",
       "dtype: bool"
      ]
     },
     "execution_count": 5,
     "metadata": {},
     "output_type": "execute_result"
    }
   ],
   "source": [
    "# Debe entregar un vector booleano (True/False) que indique si la variable es significativa (True) o no (False).\n",
    "# El orden de las variables en el vector debe ser: [const, vh, wind, humidity, temp, ibh, dpg, ibt, vis, doy]\n",
    "# const = intercepto. \n",
    "# El vector debe tener por nombre sigVars\n",
    "# Ejemplo: sigVars = [True, False, True, False, True, False, True, False, True, False]\n",
    "\n",
    "## Aquí va su código \n",
    "\n",
    "sigVars = None # Modifique este objeto \n",
    "\n",
    "# your code here\n",
    "X_train = train.drop(columns=[\"O3\"])\n",
    "X_train = sm.add_constant(X_train)\n",
    "y_train = train[\"O3\"]\n",
    "X_test = test.drop(columns=[\"O3\"])\n",
    "X_test = sm.add_constant(X_test)\n",
    "y_test = test[\"O3\"]\n",
    "model_lr_ols = sm.OLS(y_train, X_train).fit()\n",
    "sigVars = model_lr_ols.pvalues < 0.05\n",
    "sigVars"
   ]
  },
  {
   "cell_type": "code",
   "execution_count": 6,
   "id": "f8d559fa",
   "metadata": {
    "deletable": false,
    "editable": false,
    "nbgrader": {
     "cell_type": "code",
     "checksum": "7ba9930b6684d745375787696058b394",
     "grade": true,
     "grade_id": "cell-89ff2c87d7f4dc5f",
     "locked": true,
     "points": 2,
     "schema_version": 3,
     "solution": false,
     "task": false
    }
   },
   "outputs": [],
   "source": [
    "# Testing 1 para la pregunta 1.2"
   ]
  },
  {
   "cell_type": "code",
   "execution_count": 7,
   "id": "984f89bb",
   "metadata": {
    "deletable": false,
    "editable": false,
    "nbgrader": {
     "cell_type": "code",
     "checksum": "a19e8e80c01b82f372cc8b15a5ccb59a",
     "grade": true,
     "grade_id": "cell-23f2e798e4f9743b",
     "locked": true,
     "points": 3,
     "schema_version": 3,
     "solution": false,
     "task": false
    }
   },
   "outputs": [],
   "source": [
    "# Testing 2 para la pregunta 1.2"
   ]
  },
  {
   "cell_type": "markdown",
   "id": "f1e75a92",
   "metadata": {
    "deletable": false,
    "editable": false,
    "nbgrader": {
     "cell_type": "markdown",
     "checksum": "d700d3e197cc034e0555aa4c9d42c9d8",
     "grade": false,
     "grade_id": "cell-a943d78a051f59f5",
     "locked": true,
     "schema_version": 3,
     "solution": false,
     "task": false
    }
   },
   "source": [
    "#### 1.3 - ¿Cuál es el coeficiente de determinación del modelo ajustado anteriormente?"
   ]
  },
  {
   "cell_type": "code",
   "execution_count": 8,
   "id": "b275dfa7",
   "metadata": {
    "deletable": false,
    "nbgrader": {
     "cell_type": "code",
     "checksum": "45950893f9145b6e46b1548f3de81f30",
     "grade": false,
     "grade_id": "cell-269a223802b56f15",
     "locked": false,
     "schema_version": 3,
     "solution": true,
     "task": false
    }
   },
   "outputs": [
    {
     "data": {
      "text/plain": [
       "0.6938"
      ]
     },
     "execution_count": 8,
     "metadata": {},
     "output_type": "execute_result"
    }
   ],
   "source": [
    "# Guarde el coeficiente de determinación ($R^2$) en un objeto númerico de nombre R2.\n",
    "# En caso de redondear, considerar al menos 4 decimales de precisión\n",
    "\n",
    "R2 = None # Modifique este objeto \n",
    "\n",
    "# your code here\n",
    "R2 = model_lr_ols.rsquared\n",
    "R2 = round(R2, 4)\n",
    "R2"
   ]
  },
  {
   "cell_type": "code",
   "execution_count": 9,
   "id": "942698b2",
   "metadata": {
    "deletable": false,
    "editable": false,
    "nbgrader": {
     "cell_type": "code",
     "checksum": "f7bddd549330c5db737c84eed91ddb69",
     "grade": true,
     "grade_id": "cell-d35166975cfb4d7f",
     "locked": true,
     "points": 5,
     "schema_version": 3,
     "solution": false,
     "task": false
    }
   },
   "outputs": [],
   "source": [
    "# Testing para la pregunta 1.3"
   ]
  },
  {
   "cell_type": "markdown",
   "id": "c930ee4a",
   "metadata": {
    "deletable": false,
    "editable": false,
    "nbgrader": {
     "cell_type": "markdown",
     "checksum": "c40ffa04f8dfd46f206c66d5e5a2cc3d",
     "grade": false,
     "grade_id": "cell-61515b1434f15d5c",
     "locked": true,
     "schema_version": 3,
     "solution": false,
     "task": false
    }
   },
   "source": [
    "#### 1.4 - ¿Cuál es el error cuadrático medio del modelo ajustado anteriormente? \n",
    "\n",
    "Recuerde que el MSE se define como:\n",
    "\n",
    "\\begin{equation*}\n",
    " MSE=\\dfrac{1}{n}\\sum_{i=1}^{n}e_i^2\n",
    "\\end{equation*}"
   ]
  },
  {
   "cell_type": "code",
   "execution_count": 10,
   "id": "0a62ba57",
   "metadata": {
    "deletable": false,
    "nbgrader": {
     "cell_type": "code",
     "checksum": "d41fcbc67014e6896e2398ce0a9689f4",
     "grade": false,
     "grade_id": "cell-6fb1cced9a8aa995",
     "locked": false,
     "schema_version": 3,
     "solution": true,
     "task": false
    }
   },
   "outputs": [
    {
     "data": {
      "text/plain": [
       "19.550811615813686"
      ]
     },
     "execution_count": 10,
     "metadata": {},
     "output_type": "execute_result"
    }
   ],
   "source": [
    "# Guardar el error cuadrático medio en un objeto númerico de nombre MSE\n",
    "MSE = None # Modifique este objeto \n",
    "\n",
    "# your code here\n",
    "y_pred = model_lr_ols.predict(X_train)\n",
    "MSE = metrics.mean_squared_error(y_train, y_pred)\n",
    "MSE\n"
   ]
  },
  {
   "cell_type": "code",
   "execution_count": 11,
   "id": "5974de1a",
   "metadata": {
    "deletable": false,
    "editable": false,
    "nbgrader": {
     "cell_type": "code",
     "checksum": "9e89e0c3fe2330af6c314d7cd1a6ac32",
     "grade": true,
     "grade_id": "cell-cfcbafdd122fe780",
     "locked": true,
     "points": 5,
     "schema_version": 3,
     "solution": false,
     "task": false
    }
   },
   "outputs": [],
   "source": [
    "# Testing para la pregunta 1.4"
   ]
  },
  {
   "cell_type": "markdown",
   "id": "8e5b874b",
   "metadata": {
    "deletable": false,
    "editable": false,
    "nbgrader": {
     "cell_type": "markdown",
     "checksum": "ec9d5b13586a77e59bbaa7b5292ab801",
     "grade": false,
     "grade_id": "cell-06c8189fef8a4576",
     "locked": true,
     "schema_version": 3,
     "solution": false,
     "task": false
    }
   },
   "source": [
    "#### 1.5 - Construya un segundo modelo de regresión lineal múltiple (sin intercepto) utilizando las variables significativas del punto anterior. Luego, compare ambos modelos según AIC (Akaike Information Criterion). Según esta métrica, ¿cuál modelo es preferible?. \n",
    "\n",
    "Entregar el AIC de cada modelo en un vector de dos dimensiones de nombre `AIC`. Donde el primer elemento corresponde al AIC del modelo con todas las variables y el último elemento el AIC del modelo que solo incluye las variables significativas. Además, entregar un booleano de nombre `preferible` que indique si el modelo con menos variables es preferible (True) o no (False)."
   ]
  },
  {
   "cell_type": "code",
   "execution_count": 12,
   "id": "bf181a05",
   "metadata": {
    "deletable": false,
    "nbgrader": {
     "cell_type": "code",
     "checksum": "46b526059b049a1f53f33a819ad2779a",
     "grade": false,
     "grade_id": "cell-8894f22f8d40ff9b",
     "locked": false,
     "schema_version": 3,
     "solution": true,
     "task": false
    }
   },
   "outputs": [
    {
     "name": "stdout",
     "output_type": "stream",
     "text": [
      "Modelo 1 has a lower AIC\n",
      "[1554.0759808495568, 1597.020739159959]\n",
      "False\n"
     ]
    }
   ],
   "source": [
    "# your code here\n",
    "X2_train = train.drop(columns=[\"O3\"])\n",
    "y2_train = train[\"O3\"]\n",
    "X2_test = test.drop(columns=[\"O3\"])\n",
    "y2_test = test[\"O3\"]\n",
    "X2_train = X2_train[['humidity', 'temp', 'ibt', 'doy']]\n",
    "X2_test = X2_test[['humidity', 'temp', 'ibt', 'doy']]\n",
    "\n",
    "model_lr_ols2 = sm.OLS(y2_train, X2_train).fit()\n",
    "\n",
    "AIC = []\n",
    "AIC.append(model_lr_ols.aic)\n",
    "AIC.append(model_lr_ols2.aic)\n",
    "\n",
    "if AIC[0] < AIC[1]:\n",
    "    print(\"Modelo 1 has a lower AIC\")\n",
    "    preferible = False\n",
    "else:\n",
    "    print(\"Modelo 2 has a lower AIC\")\n",
    "    preferible = True\n",
    "\n",
    "print(AIC)\n",
    "print(preferible)"
   ]
  },
  {
   "cell_type": "code",
   "execution_count": 13,
   "id": "56e292ba",
   "metadata": {
    "deletable": false,
    "editable": false,
    "nbgrader": {
     "cell_type": "code",
     "checksum": "eaf9e6fee8801f946edc1e5b0fce641a",
     "grade": true,
     "grade_id": "cell-481a040defc566cd",
     "locked": true,
     "points": 8,
     "schema_version": 3,
     "solution": false,
     "task": false
    }
   },
   "outputs": [],
   "source": [
    "# Testing para la pregunta 1.5"
   ]
  },
  {
   "cell_type": "markdown",
   "id": "6d6c6dae",
   "metadata": {
    "deletable": false,
    "editable": false,
    "nbgrader": {
     "cell_type": "markdown",
     "checksum": "d77799e38ad1e00857669569bf060fa1",
     "grade": false,
     "grade_id": "cell-0dc6353ee057e8d0",
     "locked": true,
     "schema_version": 3,
     "solution": false,
     "task": false
    }
   },
   "source": [
    "#### 1.6 - Ajuste un tercer modelo de regresión lineal (sin intercepto), pero ahora utilizando la técnica de selección de variables \"forward stepwise\", basada en el AIC. Para este caso, debe comenzar con el modelo que solo incluye las variables significativas del punto 3. Luego, debe agregar una variable a la vez, seleccionando la variable que minimice el AIC. Este proceso debe repetirse hasta que no sea posible agregar más variables. ¿Cuál es el AIC de este modelo? ¿Cuáles variables fueron seleccionadas?¿Es estadísticamente significativo el modelo? (Test F).\n",
    "\n",
    "Entregar el AIC del modelo en un vector de una dimensión de nombre `AIC_forward`. Además, entregar un vector con el nombre de las `variables_seleccionadas`. Utilizar los nombres: vh, wind, humidity, temp, ibh, dpg, ibt, vis y doy. Por ejemplo, si wind y humidity son variables seleccionadas en este modelo, entonces \n",
    "`variables_seleccionadas = ['wind','humidity']`.\n",
    "\n",
    "También, debe responder si este modelo es preferible a los anteriores según AIC. Entregar un booleano de nombre `preferible_forward` que indique si el modelo con menos variables es preferible (True) o no (False). \n",
    "\n",
    "Finalmente guardar el estadístico de prueba y el p-valor de la prueba F en un objeto denominado `testF` el cual será una lista donde `testF[0]`debe contener el estadístico de prueba, mientras que `testF[1]` debe contener el p-valor. Por ejemplo, si `model` es el modelo final seleccionado entonces `testF = [model.fvalue, model.f_pvalue]`."
   ]
  },
  {
   "cell_type": "code",
   "execution_count": 34,
   "id": "bbd2545c",
   "metadata": {
    "deletable": false,
    "nbgrader": {
     "cell_type": "code",
     "checksum": "05f6bd5ff3721d0e406d7f2e4433dd1e",
     "grade": false,
     "grade_id": "cell-c2785e930cd7af6b",
     "locked": false,
     "schema_version": 3,
     "solution": true,
     "task": false
    }
   },
   "outputs": [
    {
     "name": "stdout",
     "output_type": "stream",
     "text": [
      "preferible_forward: True\n",
      "AIC_forward: 1547.6899975652686\n",
      "variables_seleccionadas: ['temp', 'ibt', 'doy', 'vh', 'humidity', 'vis']\n",
      "Test F -> F=410.7837, p-value=6.735e-129\n"
     ]
    }
   ],
   "source": [
    "AIC_forward = None                # Variable que debe modificar\n",
    "variables_seleccionadas = None    # Variable que debe modificar\n",
    "preferible_forward = None         # Variable que debe modificar\n",
    "\n",
    "all_columns = ['vh','wind','humidity','temp','ibh','dpg','ibt','vis','doy']\n",
    "selected_model2_columns = ['temp', 'ibt', 'doy']\n",
    "rest_columns = list(set(all_columns) - set(selected_model2_columns))\n",
    "\n",
    "X3_train = train[selected_model2_columns].copy()\n",
    "y3_train = train[\"O3\"].copy()\n",
    "X_full = train[all_columns].copy()\n",
    "\n",
    "model_lr_ols3 = sm.OLS(y3_train, X3_train).fit()\n",
    "aic_curr = model_lr_ols3.aic\n",
    "selected = selected_model2_columns.copy()\n",
    "\n",
    "improved = True\n",
    "while improved and len(rest_columns) > 0:\n",
    "    improved = False\n",
    "    best_var = None\n",
    "    best_aic = aic_curr\n",
    "    best_model = model_lr_ols3\n",
    "\n",
    "    for var in rest_columns:\n",
    "        cols_try = selected + [var]\n",
    "        model_try = sm.OLS(y3_train, X_full[cols_try]).fit()\n",
    "        if model_try.aic < best_aic:\n",
    "            best_aic = model_try.aic\n",
    "            best_var = var\n",
    "            best_model = model_try\n",
    "\n",
    "    if best_var is not None:\n",
    "        selected.append(best_var)\n",
    "        rest_columns.remove(best_var)\n",
    "        model_lr_ols3 = best_model\n",
    "        aic_curr = best_aic\n",
    "        improved = True\n",
    "\n",
    "AIC_forward = float(aic_curr)\n",
    "\n",
    "variables_seleccionadas = selected\n",
    "testF = [model_lr_ols3.fvalue, model_lr_ols3.f_pvalue]\n",
    "preferible_forward = True\n",
    "print(\"preferible_forward:\", preferible_forward)\n",
    "print(\"AIC_forward:\", AIC_forward)\n",
    "print(\"variables_seleccionadas:\", variables_seleccionadas)\n",
    "print(f\"Test F -> F={testF[0]:.4f}, p-value={testF[1]:.4g}\")"
   ]
  },
  {
   "cell_type": "code",
   "execution_count": 33,
   "id": "d5069df7",
   "metadata": {
    "deletable": false,
    "editable": false,
    "nbgrader": {
     "cell_type": "code",
     "checksum": "8d9e6b5e88117067b2967b12b3f74bc3",
     "grade": true,
     "grade_id": "cell-649c754744cddd80",
     "locked": true,
     "points": 12,
     "schema_version": 3,
     "solution": false,
     "task": false
    }
   },
   "outputs": [],
   "source": [
    "# Testing 1 para la pregunta 1.6"
   ]
  },
  {
   "cell_type": "code",
   "execution_count": 16,
   "id": "3044dd5e",
   "metadata": {
    "deletable": false,
    "editable": false,
    "nbgrader": {
     "cell_type": "code",
     "checksum": "f3c80b956c3c15f7f5e2d3860197e89c",
     "grade": true,
     "grade_id": "cell-6d102d66a072f879",
     "locked": true,
     "points": 10,
     "schema_version": 3,
     "solution": false,
     "task": false
    }
   },
   "outputs": [],
   "source": [
    "# Testing 2 para la pregunta 1.6"
   ]
  },
  {
   "cell_type": "markdown",
   "id": "cb797623",
   "metadata": {
    "deletable": false,
    "editable": false,
    "nbgrader": {
     "cell_type": "markdown",
     "checksum": "4bb227f7da13badf987225205f46df67",
     "grade": false,
     "grade_id": "cell-23313e0caf201037",
     "locked": true,
     "schema_version": 3,
     "solution": false,
     "task": false
    }
   },
   "source": [
    "#### 1.7 - Con base al modelo del punto anterior, realice la predicción de la variable respuesta para el conjunto de test. Luego, calcule el error cuadrático medio de la predicción. \n",
    "\n",
    "Entregar el error cuadrático medio en una variable de nombre `MSEpred` y el vector de predicciones en una variable de nombre `pred`."
   ]
  },
  {
   "cell_type": "code",
   "execution_count": 17,
   "id": "37965a8b",
   "metadata": {
    "deletable": false,
    "nbgrader": {
     "cell_type": "code",
     "checksum": "572aa5591407f2539efd26acb23e1a59",
     "grade": false,
     "grade_id": "cell-135bd05c02ae823e",
     "locked": false,
     "schema_version": 3,
     "solution": true,
     "task": false
    }
   },
   "outputs": [
    {
     "data": {
      "text/plain": [
       "17.65874898760734"
      ]
     },
     "execution_count": 17,
     "metadata": {},
     "output_type": "execute_result"
    }
   ],
   "source": [
    "pred = None         # Variable que debe modificar\n",
    "MSEpred = None      # Variable que debe modificar\n",
    "\n",
    "# your code here\n",
    "X3_test = test[variables_seleccionadas].copy()\n",
    "y3_test = test[\"O3\"].copy()\n",
    "pred = model_lr_ols3.predict(X3_test)\n",
    "MSEpred = float(np.mean((y3_test - pred) ** 2))\n",
    "MSEpred"
   ]
  },
  {
   "cell_type": "code",
   "execution_count": 18,
   "id": "5459a59c",
   "metadata": {
    "deletable": false,
    "editable": false,
    "nbgrader": {
     "cell_type": "code",
     "checksum": "89d52295e92e2fe8b73bb149b4789618",
     "grade": true,
     "grade_id": "cell-7ed8da9663311b53",
     "locked": true,
     "points": 10,
     "schema_version": 3,
     "solution": false,
     "task": false
    }
   },
   "outputs": [],
   "source": [
    "# Testing para la pregunta 1.7"
   ]
  },
  {
   "cell_type": "markdown",
   "id": "f7b61b32",
   "metadata": {
    "deletable": false,
    "editable": false,
    "nbgrader": {
     "cell_type": "markdown",
     "checksum": "03335c881d0c51a4fe006abf25abd700",
     "grade": false,
     "grade_id": "cell-f03d6006dc983bab",
     "locked": true,
     "schema_version": 3,
     "solution": false,
     "task": false
    }
   },
   "source": [
    "# Problema 2\n",
    "\n",
    "Para esta segunda sección, se utilizará el conjunto de datos `prostate`. Este conjunto de datos contiene información sobre 97 pacientes con cáncer de próstata. Considere la variable respuesta como `svi` (seminal vesicle invasion). Esta variable indica si el cáncer se ha extendido a la vesícula seminal (1) o no (0). Las demás variables serán consideradas como variables explicativas. El \n",
    "objetivo es ajustar un modelo de regresión logística para predecir la invasión de la vesícula seminal. Los datos se cargarán automáticamente en la siguiente celda, con el nombre `prostate_data`."
   ]
  },
  {
   "cell_type": "code",
   "execution_count": 19,
   "id": "be215cff",
   "metadata": {
    "deletable": false,
    "editable": false,
    "nbgrader": {
     "cell_type": "code",
     "checksum": "4c1174de6939826b44149121536b7e32",
     "grade": false,
     "grade_id": "cell-4783bc86dd188035",
     "locked": true,
     "schema_version": 3,
     "solution": false,
     "task": false
    }
   },
   "outputs": [],
   "source": [
    "prostate_data = prostate.load()  # cargamos los datos del problema 2"
   ]
  },
  {
   "cell_type": "markdown",
   "id": "8511064c",
   "metadata": {
    "deletable": false,
    "editable": false,
    "nbgrader": {
     "cell_type": "markdown",
     "checksum": "8172e3ca36a52f992851c588ec146239",
     "grade": false,
     "grade_id": "cell-e2dd54408ce5ec89",
     "locked": true,
     "schema_version": 3,
     "solution": false,
     "task": false
    }
   },
   "source": [
    "#### 2.1 - Realizar una descomposición aleatoria de la base de datos con la proporción 80%-20% para train y test, respectivamente. Utilice el número 123 como semilla de aleatorización."
   ]
  },
  {
   "cell_type": "code",
   "execution_count": 20,
   "id": "18542c8a",
   "metadata": {
    "deletable": false,
    "nbgrader": {
     "cell_type": "code",
     "checksum": "f623a2644e10ecf60e6066977075666c",
     "grade": false,
     "grade_id": "cell-8975a3dff42af0cf",
     "locked": false,
     "schema_version": 3,
     "solution": true,
     "task": false
    }
   },
   "outputs": [],
   "source": [
    "## Guardar la información en:\n",
    "# --> train_prostate: partición de entrenamiento    (incluyendo todas las variables)\n",
    "# --> test_prostate: partición para la validacíon   (incluyendo todas las variables)\n",
    "\n",
    "## Aquí va su código \n",
    "\n",
    "train_prostate, test_prostate = None, None    # Modifique estos objetos\n",
    "\n",
    "# your code here\n",
    "train_prostate, test_prostate = train_test_split(prostate_data, test_size=0.2, random_state=123)"
   ]
  },
  {
   "cell_type": "code",
   "execution_count": 21,
   "id": "387d018a",
   "metadata": {
    "deletable": false,
    "editable": false,
    "nbgrader": {
     "cell_type": "code",
     "checksum": "a705dce2f1139ca1ec681f7c7bdca3ff",
     "grade": true,
     "grade_id": "cell-7708ba13ec1e8f72",
     "locked": true,
     "points": 5,
     "schema_version": 3,
     "solution": false,
     "task": false
    }
   },
   "outputs": [],
   "source": [
    "# Testing para la pregunta 2.1"
   ]
  },
  {
   "cell_type": "markdown",
   "id": "06986821",
   "metadata": {
    "deletable": false,
    "editable": false,
    "nbgrader": {
     "cell_type": "markdown",
     "checksum": "8d51e91ebbc5d581d332d55870b0323a",
     "grade": false,
     "grade_id": "cell-41376aa78497f885",
     "locked": true,
     "schema_version": 3,
     "solution": false,
     "task": false
    }
   },
   "source": [
    "#### 2.2 - Ajuste un modelo de regresión logística usando todas las variables explicativas (sin intercepto). Luego, realice las predicciones para el conjunto de datos de test. Finalmente, calcule el porcentaje de clasificación correcta.\n",
    "\n",
    "Entregar el porcentaje de clasificación correcta en una variable de nombre `porcentaje_clasificacion`. "
   ]
  },
  {
   "cell_type": "code",
   "execution_count": 22,
   "id": "9ec77cd8",
   "metadata": {
    "deletable": false,
    "nbgrader": {
     "cell_type": "code",
     "checksum": "e5f8f184cc2d53931cb7114dbf07fb00",
     "grade": false,
     "grade_id": "cell-a3d19843e66f86fa",
     "locked": false,
     "schema_version": 3,
     "solution": true,
     "task": false
    }
   },
   "outputs": [
    {
     "name": "stdout",
     "output_type": "stream",
     "text": [
      "Optimization terminated successfully.\n",
      "         Current function value: 0.162442\n",
      "         Iterations 9\n"
     ]
    },
    {
     "data": {
      "text/plain": [
       "0.7"
      ]
     },
     "execution_count": 22,
     "metadata": {},
     "output_type": "execute_result"
    }
   ],
   "source": [
    "# Aquí va su código\n",
    "\n",
    "porcentaje_clasificacion = None # Variable que debe modificar\n",
    "\n",
    "# your code here\n",
    "X_train = train_prostate.drop(columns=\"svi\", axis=1)\n",
    "y_train = train_prostate[\"svi\"]\n",
    "X_test = test_prostate.drop(columns=\"svi\", axis=1)\n",
    "y_test = test_prostate[\"svi\"]\n",
    "\n",
    "model_logit = sm.Logit(y_train, X_train).fit()\n",
    "\n",
    "y_pred_prob = model_logit.predict(X_test)\n",
    "y_pred_class = (y_pred_prob >= 0.5).astype(int)\n",
    "accuracy = metrics.accuracy_score(y_test, y_pred_class)\n",
    "porcentaje_clasificacion = accuracy\n",
    "porcentaje_clasificacion"
   ]
  },
  {
   "cell_type": "code",
   "execution_count": 23,
   "id": "25493a20",
   "metadata": {
    "deletable": false,
    "editable": false,
    "nbgrader": {
     "cell_type": "code",
     "checksum": "bb7ab70ebdaa5ce5d6c692a889dfaed6",
     "grade": true,
     "grade_id": "cell-21e3a6f5c793b2ac",
     "locked": true,
     "points": 12,
     "schema_version": 3,
     "solution": false,
     "task": false
    }
   },
   "outputs": [],
   "source": [
    "# Testing para la pregunta 2.2"
   ]
  },
  {
   "cell_type": "markdown",
   "id": "96893b63",
   "metadata": {
    "deletable": false,
    "editable": false,
    "nbgrader": {
     "cell_type": "markdown",
     "checksum": "80cfba84e93ce28d13708c2c510037d7",
     "grade": false,
     "grade_id": "cell-e44a28b4a52fd50e",
     "locked": true,
     "schema_version": 3,
     "solution": false,
     "task": false
    }
   },
   "source": [
    "#### 2.3 - ¿El modelo anterior presenta problemas de multicolinealidad? Para responder esta pregunta, calcule el factor de inflación de la varianza (VIF) para cada variable. ¿Cuáles variables presentan mayor VIF? \n",
    "\n",
    "Para responder esta pregunta, entregar un vector de nombre `VIF_vars` que contenga el VIF de cada variable. El orden de las variables en el vector debe ser: lcavol, lweight, age, lbph, lcp, gleason, pgg45, lpsa. \n",
    "\n",
    "Recordar que:\n",
    "- VIF = 1: Las variables no están correlacionadas.\n",
    "- 1 < VIF < 5: Las variables están moderadamente correlacionadas y pueden ser incluidas en el modelo.\n",
    "- VIF > 5: Las variables están altamente correlacionadas y deben ser eliminadas del modelo. \n",
    "\n",
    "TIP: puede utilizar la función `variance_inflation_factor` del paquete `statsmodels` para calcular el VIF."
   ]
  },
  {
   "cell_type": "code",
   "execution_count": 28,
   "id": "dff0442d",
   "metadata": {
    "deletable": false,
    "nbgrader": {
     "cell_type": "code",
     "checksum": "7fe1a6607bd8fe6028faf40bd3848225",
     "grade": false,
     "grade_id": "cell-6237dd7bf7f11254",
     "locked": false,
     "schema_version": 3,
     "solution": true,
     "task": false
    }
   },
   "outputs": [
    {
     "data": {
      "text/plain": [
       "[6.749196983258511,\n",
       " 57.78393933139402,\n",
       " 82.40542217672011,\n",
       " 1.195335723452414,\n",
       " 2.531763153388447,\n",
       " 84.90034919124903,\n",
       " 3.809147884382757,\n",
       " 16.916887569167937]"
      ]
     },
     "execution_count": 28,
     "metadata": {},
     "output_type": "execute_result"
    }
   ],
   "source": [
    "# Aquí va su código\n",
    "\n",
    "VIF_vars = None # Variable que debe modificar\n",
    "\n",
    "# your code here\n",
    "vars_order = ['lcavol', 'lweight', 'age', 'lbph', 'lcp', 'gleason', 'pgg45', 'lpsa']\n",
    "\n",
    "X_vif = X_train[vars_order].copy()\n",
    "VIF_vars = [variance_inflation_factor(X_vif.values, i) for i in range(X_vif.shape[1])]\n",
    "\n",
    "VIF_vars = [float(v) for v in VIF_vars] \n",
    "VIF_vars"
   ]
  },
  {
   "cell_type": "code",
   "execution_count": 29,
   "id": "7753609c",
   "metadata": {
    "deletable": false,
    "editable": false,
    "nbgrader": {
     "cell_type": "code",
     "checksum": "561cef15e9d0cdf9086586d1e8f0fa49",
     "grade": true,
     "grade_id": "cell-018417f3f0babbd9",
     "locked": true,
     "points": 10,
     "schema_version": 3,
     "solution": false,
     "task": false
    }
   },
   "outputs": [],
   "source": [
    "# Testing para la pregunta 2.3"
   ]
  },
  {
   "cell_type": "markdown",
   "id": "a936e7a0",
   "metadata": {
    "deletable": false,
    "editable": false,
    "nbgrader": {
     "cell_type": "markdown",
     "checksum": "5e6ea8bfd23a5110df449a8398f418d9",
     "grade": false,
     "grade_id": "cell-5a72c05f16604599",
     "locked": true,
     "schema_version": 3,
     "solution": false,
     "task": false
    }
   },
   "source": [
    "#### 2.4 Elimine todas las variables que presenten VIF > 10. Luego, realice un proceso de selección de variables utilizando la técnica \"backward stepwise\", basada en el valor-p. Para este caso, debe comenzar con el modelo (con intercepto) que incluye todas las variables con VIF < 10. Luego, debe eliminar una variable a la vez, seleccionando la variable menos significativa (mayor valor-p). Este proceso debe repetirse hasta que no sea posible eliminar más variables, es decir, hasta que todas las variables sean estadísticamente significativas (valor-p < 0.05). ¿Cuál es el porcentaje de clasificación correcta de este nuevo modelo?\n",
    "\n",
    "Debe entregar el porcentaje de clasificación correcta en una variable de nombre `porcentaje_clasificacion_backward`."
   ]
  },
  {
   "cell_type": "code",
   "execution_count": 30,
   "id": "7a2651ef",
   "metadata": {
    "deletable": false,
    "nbgrader": {
     "cell_type": "code",
     "checksum": "5e3f9045651498deb4ce974565761df4",
     "grade": false,
     "grade_id": "cell-387c0d8f6203c86c",
     "locked": false,
     "schema_version": 3,
     "solution": true,
     "task": false
    }
   },
   "outputs": [
    {
     "data": {
      "text/plain": [
       "0.75"
      ]
     },
     "execution_count": 30,
     "metadata": {},
     "output_type": "execute_result"
    }
   ],
   "source": [
    "# Aquí va su código\n",
    "\n",
    "porcentaje_clasificacion_backward = None # Variable que debe modificar\n",
    "\n",
    "# your code here\n",
    "df_vif = pd.DataFrame({\n",
    "    \"Features\": vars_order,\n",
    "    \"VIF\": VIF_vars\n",
    "})\n",
    "\n",
    "df_vif_filtered = df_vif[df_vif[\"VIF\"] < 10]\n",
    "selected_feats = df_vif_filtered['Features'].tolist()\n",
    "\n",
    "while True:\n",
    "    Xb_train = sm.add_constant(train_prostate[selected_feats], has_constant=\"add\")\n",
    "    logit_fit = sm.Logit(y_train, Xb_train).fit(disp=0)\n",
    "\n",
    "    pvals = logit_fit.pvalues.drop(labels=[\"const\"], errors=\"ignore\")\n",
    "\n",
    "    if pvals.empty or (pvals.max() < 0.05):\n",
    "        break\n",
    "\n",
    "    worst_feat = pvals.idxmax()\n",
    "    selected_feats.remove(worst_feat)\n",
    "\n",
    "Xb_test = sm.add_constant(test_prostate[selected_feats], has_constant=\"add\")\n",
    "y_pred_prob_b = logit_fit.predict(Xb_test)\n",
    "y_pred_class_b = (y_pred_prob_b >= 0.5).astype(int)\n",
    "accuracy_b = metrics.accuracy_score(y_test, y_pred_class_b)\n",
    "porcentaje_clasificacion_backward = accuracy_b\n",
    "porcentaje_clasificacion_backward"
   ]
  },
  {
   "cell_type": "code",
   "execution_count": 31,
   "id": "ec8213e2",
   "metadata": {
    "deletable": false,
    "editable": false,
    "nbgrader": {
     "cell_type": "code",
     "checksum": "d601a1b767a289a7abdb38112bacd7ba",
     "grade": true,
     "grade_id": "cell-96b610c6fbf400b1",
     "locked": true,
     "points": 13,
     "schema_version": 3,
     "solution": false,
     "task": false
    }
   },
   "outputs": [],
   "source": [
    "# Testing para la pregunta 2.4"
   ]
  },
  {
   "cell_type": "code",
   "execution_count": null,
   "id": "1a11bb7a",
   "metadata": {},
   "outputs": [],
   "source": []
  },
  {
   "cell_type": "code",
   "execution_count": null,
   "id": "de7ddf51",
   "metadata": {},
   "outputs": [],
   "source": []
  }
 ],
 "metadata": {
  "kernelspec": {
   "display_name": "Python 3 (ipykernel)",
   "language": "python",
   "name": "python3"
  },
  "language_info": {
   "codemirror_mode": {
    "name": "ipython",
    "version": 3
   },
   "file_extension": ".py",
   "mimetype": "text/x-python",
   "name": "python",
   "nbconvert_exporter": "python",
   "pygments_lexer": "ipython3",
   "version": "3.10.6"
  }
 },
 "nbformat": 4,
 "nbformat_minor": 5
}

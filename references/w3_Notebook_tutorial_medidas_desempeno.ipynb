{
 "cells": [
  {
   "cell_type": "code",
   "execution_count": 1,
   "id": "56e881e3-c42a-4f1c-8a8c-662243a9fcb2",
   "metadata": {},
   "outputs": [
    {
     "name": "stdout",
     "output_type": "stream",
     "text": [
      "Verdadero negativo es igual a 2\n",
      "Falso positivo es igual a 0\n",
      "Falso negativo es igual a 1\n",
      "Verdadero positivo es igual a 3\n"
     ]
    }
   ],
   "source": [
    "from sklearn.metrics import precision_score, confusion_matrix\n",
    "\n",
    "y_true = [1, 0, 1, 1, 0, 1]\n",
    "y_pred = [1, 0, 1, 0, 0, 1]\n",
    "\n",
    "# Matriz de confusión\n",
    "\n",
    "confusion_matrix = confusion_matrix(y_true, y_pred)\n",
    "\n",
    "tn, fp, fn, tp = confusion_matrix.ravel()\n",
    "\n",
    "print(f\"Verdadero negativo es igual a {tn}\")\n",
    "print(f\"Falso positivo es igual a {fp}\")\n",
    "print (f\"Falso negativo es igual a {fn}\")\n",
    "print(f\"Verdadero positivo es igual a {tp}\")"
   ]
  },
  {
   "cell_type": "code",
   "execution_count": 2,
   "id": "e4bdb362-6eae-413d-a80d-5680af34b493",
   "metadata": {},
   "outputs": [
    {
     "name": "stdout",
     "output_type": "stream",
     "text": [
      "La precisión es igual a 0.8333333333333333\n"
     ]
    }
   ],
   "source": [
    "# Precisión\n",
    "precision = precision_score(y_true, y_pred, average= 'macro')\n",
    "print(f\"La precisión es igual a {precision}\")"
   ]
  },
  {
   "cell_type": "code",
   "execution_count": 5,
   "id": "cb95b107-4697-453a-b05b-82f9a4c0d967",
   "metadata": {},
   "outputs": [
    {
     "name": "stdout",
     "output_type": "stream",
     "text": [
      "El MSE es igual a 0.375 y el MAE es igual a 0.5\n"
     ]
    }
   ],
   "source": [
    "#Calculo MSE y MAE\n",
    "from sklearn.metrics import mean_squared_error, mean_absolute_error\n",
    "\n",
    "y_true = [3, -0.5, 2, 7]\n",
    "y_pred = [2.5, 0.0, 2, 8]\n",
    "\n",
    "# MSE\n",
    "mse = mean_squared_error (y_true, y_pred)\n",
    "\n",
    "# MAE\n",
    "mae = mean_absolute_error (y_true, y_pred)\n",
    "\n",
    "print(f\"El MSE es igual a {mse} y el MAE es igual a {mae}\")"
   ]
  }
 ],
 "metadata": {
  "kernelspec": {
   "display_name": "Python 3 (ipykernel)",
   "language": "python",
   "name": "python3"
  },
  "language_info": {
   "codemirror_mode": {
    "name": "ipython",
    "version": 3
   },
   "file_extension": ".py",
   "mimetype": "text/x-python",
   "name": "python",
   "nbconvert_exporter": "python",
   "pygments_lexer": "ipython3",
   "version": "3.11.3"
  }
 },
 "nbformat": 4,
 "nbformat_minor": 5
}

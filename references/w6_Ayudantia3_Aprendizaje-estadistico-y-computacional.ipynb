{
  "cells": [
    {
      "cell_type": "code",
      "execution_count": null,
      "metadata": {
        "id": "nIHuv2dupfNi"
      },
      "outputs": [],
      "source": [
        "# Módulos básicos para análisis y manipulación de datos\n",
        "import numpy as np\n",
        "import pandas as pd\n",
        "\n",
        "# Modelos de clasificación\n",
        "from sklearn.svm import SVC\n",
        "from sklearn.ensemble import RandomForestClassifier\n",
        "from sklearn.naive_bayes import GaussianNB\n",
        "\n",
        "# Módulos para evaluación de modelos\n",
        "from sklearn.model_selection import train_test_split, cross_val_score\n",
        "from sklearn.model_selection import StratifiedKFold\n",
        "from sklearn import metrics\n",
        "\n",
        "# Módulos para el balanceo de datos\n",
        "from imblearn.under_sampling import RandomUnderSampler, NearMiss\n",
        "from imblearn.over_sampling import RandomOverSampler, ADASYN"
      ]
    },
    {
      "cell_type": "code",
      "execution_count": 35,
      "metadata": {
        "colab": {
          "base_uri": "https://localhost:8080/"
        },
        "id": "Gol-OyXcptMc",
        "outputId": "be742390-14be-4db7-e4ee-d4bcf80255fe"
      },
      "outputs": [
        {
          "name": "stdout",
          "output_type": "stream",
          "text": [
            "     EDAD  DIABETES  HOSPITALIZACIÓN ULTIMO MES   PSA  BIOPSIAS PREVIAS  \\\n",
            "0      53         0                           0   4.0                 0   \n",
            "1      56         0                           0   7.7                 0   \n",
            "2      53         0                           0   7.0                 0   \n",
            "3      65         0                           0   4.3                 0   \n",
            "4      62         0                           0   7.0                 0   \n",
            "..    ...       ...                         ...   ...               ...   \n",
            "563    57         0                           0   4.8                 0   \n",
            "564    75         0                           0  75.0                 0   \n",
            "565    78         0                           0   9.3                 0   \n",
            "566    67         0                           0   6.0                 0   \n",
            "567    64         0                           0   4.8                 0   \n",
            "\n",
            "     VOLUMEN PROSTATICO ANTIBIOTICO UTILIAZADO EN LA PROFILAXIS  \\\n",
            "0                     1          FLUOROQUINOLONA_AMINOGLICOSIDO   \n",
            "1                     1          FLUOROQUINOLONA_AMINOGLICOSIDO   \n",
            "2                     1          FLUOROQUINOLONA_AMINOGLICOSIDO   \n",
            "3                     0          FLUOROQUINOLONA_AMINOGLICOSIDO   \n",
            "4                     1          FLUOROQUINOLONA_AMINOGLICOSIDO   \n",
            "..                  ...                                     ...   \n",
            "563                   0                                   OTROS   \n",
            "564                   1          FLUOROQUINOLONA_AMINOGLICOSIDO   \n",
            "565                   1            CEFALOSPORINA_AMINOGLUCOCIDO   \n",
            "566                   1          FLUOROQUINOLONA_AMINOGLICOSIDO   \n",
            "567                   1                                   OTROS   \n",
            "\n",
            "     NUMERO DE MUESTRAS TOMADAS  CUP  ENF. CRONICA PULMONAR OBSTRUCTIVA  \\\n",
            "0                            12    0                                  0   \n",
            "1                            12    0                                  0   \n",
            "2                            12    0                                  0   \n",
            "3                            12    0                                  0   \n",
            "4                            12    0                                  0   \n",
            "..                          ...  ...                                ...   \n",
            "563                          12    0                                  0   \n",
            "564                          12    0                                  0   \n",
            "565                          12    0                                  0   \n",
            "566                          12    0                                  0   \n",
            "567                          12    0                                  0   \n",
            "\n",
            "     BIOPSIA  \n",
            "0          0  \n",
            "1          0  \n",
            "2          0  \n",
            "3          0  \n",
            "4          0  \n",
            "..       ...  \n",
            "563        0  \n",
            "564        1  \n",
            "565        0  \n",
            "566        1  \n",
            "567        1  \n",
            "\n",
            "[568 rows x 11 columns]\n"
          ]
        }
      ],
      "source": [
        "datos = pd.read_excel('post_pabellon.xlsx', sheet_name='Datos')\n",
        "\n",
        "# Separar las características de la variable objetivo\n",
        "y = datos['HOSPITALIZACION']\n",
        "X = datos.drop(['HOSPITALIZACION'], axis=1)\n",
        "print(X)\n"
      ]
    },
    {
      "cell_type": "code",
      "execution_count": 36,
      "metadata": {
        "colab": {
          "base_uri": "https://localhost:8080/"
        },
        "id": "PMOqzmLlq1TW",
        "outputId": "b423c5d8-8d69-4187-f640-9a29aed5d7fd"
      },
      "outputs": [
        {
          "name": "stdout",
          "output_type": "stream",
          "text": [
            "     EDAD  DIABETES  HOSPITALIZACIÓN ULTIMO MES   PSA  BIOPSIAS PREVIAS  \\\n",
            "0      53         0                           0   4.0                 0   \n",
            "1      56         0                           0   7.7                 0   \n",
            "2      53         0                           0   7.0                 0   \n",
            "3      65         0                           0   4.3                 0   \n",
            "4      62         0                           0   7.0                 0   \n",
            "..    ...       ...                         ...   ...               ...   \n",
            "563    57         0                           0   4.8                 0   \n",
            "564    75         0                           0  75.0                 0   \n",
            "565    78         0                           0   9.3                 0   \n",
            "566    67         0                           0   6.0                 0   \n",
            "567    64         0                           0   4.8                 0   \n",
            "\n",
            "     VOLUMEN PROSTATICO  NUMERO DE MUESTRAS TOMADAS  CUP  \\\n",
            "0                     1                          12    0   \n",
            "1                     1                          12    0   \n",
            "2                     1                          12    0   \n",
            "3                     0                          12    0   \n",
            "4                     1                          12    0   \n",
            "..                  ...                         ...  ...   \n",
            "563                   0                          12    0   \n",
            "564                   1                          12    0   \n",
            "565                   1                          12    0   \n",
            "566                   1                          12    0   \n",
            "567                   1                          12    0   \n",
            "\n",
            "     ENF. CRONICA PULMONAR OBSTRUCTIVA  BIOPSIA  \\\n",
            "0                                    0        0   \n",
            "1                                    0        0   \n",
            "2                                    0        0   \n",
            "3                                    0        0   \n",
            "4                                    0        0   \n",
            "..                                 ...      ...   \n",
            "563                                  0        0   \n",
            "564                                  0        1   \n",
            "565                                  0        0   \n",
            "566                                  0        1   \n",
            "567                                  0        1   \n",
            "\n",
            "     ANTIBIOTICO UTILIAZADO EN LA PROFILAXIS_FLUOROQUINOLONA_AMINOGLICOSIDO  \\\n",
            "0                                                 True                        \n",
            "1                                                 True                        \n",
            "2                                                 True                        \n",
            "3                                                 True                        \n",
            "4                                                 True                        \n",
            "..                                                 ...                        \n",
            "563                                              False                        \n",
            "564                                               True                        \n",
            "565                                              False                        \n",
            "566                                               True                        \n",
            "567                                              False                        \n",
            "\n",
            "     ANTIBIOTICO UTILIAZADO EN LA PROFILAXIS_OROQUINOLONAS  \\\n",
            "0                                                False       \n",
            "1                                                False       \n",
            "2                                                False       \n",
            "3                                                False       \n",
            "4                                                False       \n",
            "..                                                 ...       \n",
            "563                                              False       \n",
            "564                                              False       \n",
            "565                                              False       \n",
            "566                                              False       \n",
            "567                                              False       \n",
            "\n",
            "     ANTIBIOTICO UTILIAZADO EN LA PROFILAXIS_OTROS  \n",
            "0                                            False  \n",
            "1                                            False  \n",
            "2                                            False  \n",
            "3                                            False  \n",
            "4                                            False  \n",
            "..                                             ...  \n",
            "563                                           True  \n",
            "564                                          False  \n",
            "565                                          False  \n",
            "566                                          False  \n",
            "567                                           True  \n",
            "\n",
            "[568 rows x 13 columns]\n"
          ]
        }
      ],
      "source": [
        "# Dummy variables para las variables categóricas\n",
        "X = pd.get_dummies(X, drop_first=True)\n",
        "print(X)"
      ]
    },
    {
      "cell_type": "code",
      "execution_count": 17,
      "metadata": {
        "id": "K61an0fWtd_4"
      },
      "outputs": [],
      "source": [
        "X_train, X_test, y_train, y_test = train_test_split(X, y, test_size=0.3, stratify=y, random_state=123)"
      ]
    },
    {
      "cell_type": "code",
      "execution_count": 37,
      "metadata": {
        "id": "Sf81OV-dtqKP"
      },
      "outputs": [],
      "source": [
        "strat_kfold = StratifiedKFold(n_splits=5, shuffle=True, random_state=123)"
      ]
    },
    {
      "cell_type": "code",
      "execution_count": 38,
      "metadata": {
        "id": "pxIWt-dFt0CZ"
      },
      "outputs": [],
      "source": [
        "SVC_model = SVC(kernel='linear')\n",
        "RF_model = RandomForestClassifier(n_estimators=30, max_depth=5, random_state=123)\n",
        "NB_model = GaussianNB()"
      ]
    },
    {
      "cell_type": "code",
      "execution_count": 20,
      "metadata": {
        "id": "JtPse-r6uFjl"
      },
      "outputs": [],
      "source": [
        "def cv(X, y):\n",
        "    SVC_recall = cross_val_score(SVC_model, X, y, cv=strat_kfold , scoring= 'recall')\n",
        "    RF_recall = cross_val_score(RF_model, X, y, cv=strat_kfold , scoring= 'recall')\n",
        "    NB_recall = cross_val_score(NB_model, X, y, cv=strat_kfold , scoring= 'recall')\n",
        "\n",
        "    SVC_precision = cross_val_score(SVC_model, X, y, cv=strat_kfold , scoring= metrics.make_scorer(metrics.precision_score, zero_division=0))\n",
        "    RF_precision = cross_val_score(RF_model, X, y, cv=strat_kfold , scoring= metrics.make_scorer(metrics.precision_score, zero_division=0))\n",
        "    NB_precision = cross_val_score(NB_model, X, y, cv=strat_kfold , scoring= metrics.make_scorer(metrics.precision_score, zero_division=0))\n",
        "\n",
        "    SVC_accuracy = cross_val_score(SVC_model, X, y, cv=strat_kfold , scoring= 'accuracy')\n",
        "    RF_accuracy = cross_val_score(RF_model, X, y, cv=strat_kfold , scoring= 'accuracy')\n",
        "    NB_accuracy = cross_val_score(NB_model, X, y, cv=strat_kfold , scoring= 'accuracy')\n",
        "\n",
        "    results = pd.DataFrame(\n",
        "        {\n",
        "            'Accuracy': [SVC_accuracy.mean(), RF_accuracy.mean(), NB_accuracy.mean()],\n",
        "            'Precision': [SVC_precision.mean(), RF_precision.mean(), NB_precision.mean()],\n",
        "            'Recall': [SVC_recall.mean(), RF_recall.mean(), NB_recall.mean()]\n",
        "        },\n",
        "        index=['SV', 'RF', 'NB'])\n",
        "    return results"
      ]
    },
    {
      "cell_type": "code",
      "execution_count": 21,
      "metadata": {
        "colab": {
          "base_uri": "https://localhost:8080/"
        },
        "id": "nD6Nq_blvA2t",
        "outputId": "f7ff722b-026e-49cb-895f-202c8346ac6f"
      },
      "outputs": [
        {
          "name": "stdout",
          "output_type": "stream",
          "text": [
            "    Accuracy  Precision    Recall\n",
            "SV  0.957215   0.000000  0.000000\n",
            "RF  0.959747   0.200000  0.066667\n",
            "NB  0.211266   0.049126  0.950000\n"
          ]
        }
      ],
      "source": [
        "cv_results = cv(X_train, y_train)\n",
        "print(cv_results)"
      ]
    },
    {
      "cell_type": "code",
      "execution_count": 22,
      "metadata": {
        "id": "nD2oApT7vGli"
      },
      "outputs": [],
      "source": [
        "def test_set(X,y):\n",
        "    SVC_model.fit(X, y)\n",
        "    RF_model.fit(X, y)\n",
        "    NB_model.fit(X, y)\n",
        "\n",
        "    SVC_pred = SVC_model.predict(X_test)\n",
        "    RF_pred = RF_model.predict(X_test)\n",
        "    NB_pred = NB_model.predict(X_test)\n",
        "\n",
        "\n",
        "    SVC_recall = metrics.recall_score(y_test, SVC_pred)\n",
        "    RF_recall = metrics.recall_score(y_test, RF_pred)\n",
        "    NB_recall = metrics.recall_score(y_test, NB_pred)\n",
        "\n",
        "    SVC_precision = metrics.precision_score(y_test, SVC_pred, zero_division=0)\n",
        "    RF_precision = metrics.precision_score(y_test, RF_pred, zero_division=0)\n",
        "    NB_precision = metrics.precision_score(y_test, NB_pred, zero_division=0)\n",
        "\n",
        "    SVC_accuracy = metrics.accuracy_score(y_test, SVC_pred)\n",
        "    RF_accuracy = metrics.accuracy_score(y_test, RF_pred)\n",
        "    NB_accuracy = metrics.accuracy_score(y_test, NB_pred)\n",
        "\n",
        "    results = pd.DataFrame(\n",
        "        {\n",
        "            'Accuracy': [SVC_accuracy, RF_accuracy, NB_accuracy],\n",
        "            'Precision': [SVC_precision, RF_precision, NB_precision],\n",
        "            'Recall': [SVC_recall, RF_recall, NB_recall]\n",
        "        },\n",
        "        index=['SV', 'RF', 'NB'])\n",
        "\n",
        "    return results"
      ]
    },
    {
      "cell_type": "code",
      "execution_count": 39,
      "metadata": {
        "colab": {
          "base_uri": "https://localhost:8080/"
        },
        "id": "a6Uns3K1wPkr",
        "outputId": "2e6b1924-b07c-453b-bbae-ca0adc7d4a9b"
      },
      "outputs": [
        {
          "name": "stdout",
          "output_type": "stream",
          "text": [
            "    Accuracy  Precision    Recall\n",
            "SV  0.959064   0.000000  0.000000\n",
            "RF  0.959064   0.000000  0.000000\n",
            "NB  0.169591   0.040816  0.857143\n"
          ]
        }
      ],
      "source": [
        "test_results = test_set(X_train, y_train)\n",
        "print(test_results)"
      ]
    },
    {
      "cell_type": "code",
      "execution_count": 24,
      "metadata": {
        "id": "h03f6fd8wU3y"
      },
      "outputs": [
        {
          "name": "stderr",
          "output_type": "stream",
          "text": [
            "c:\\Users\\ACER\\miniconda3\\envs\\default\\lib\\site-packages\\sklearn\\base.py:474: FutureWarning: `BaseEstimator._validate_data` is deprecated in 1.6 and will be removed in 1.7. Use `sklearn.utils.validation.validate_data` instead. This function becomes public and is part of the scikit-learn developer API.\n",
            "  warnings.warn(\n",
            "c:\\Users\\ACER\\miniconda3\\envs\\default\\lib\\site-packages\\sklearn\\utils\\deprecation.py:151: FutureWarning: 'force_all_finite' was renamed to 'ensure_all_finite' in 1.6 and will be removed in 1.8.\n",
            "  warnings.warn(\n"
          ]
        }
      ],
      "source": [
        "oversample = RandomOverSampler(sampling_strategy='minority', random_state=123)\n",
        "X_train_os, y_train_os = oversample.fit_resample(X_train, y_train)\n",
        "cv_results_balanced = cv(X_train_os, y_train_os)"
      ]
    },
    {
      "cell_type": "code",
      "execution_count": 25,
      "metadata": {
        "colab": {
          "base_uri": "https://localhost:8080/"
        },
        "id": "sz-gI5brxFim",
        "outputId": "7b427bdc-a96c-4f82-8791-a41885f365c5"
      },
      "outputs": [
        {
          "name": "stdout",
          "output_type": "stream",
          "text": [
            "    Accuracy  Precision  Recall\n",
            "SV  0.788158   0.702836     1.0\n",
            "RF  0.952632   0.913998     1.0\n",
            "NB  0.577632   0.542487     1.0\n"
          ]
        }
      ],
      "source": [
        "print(cv_results_balanced)"
      ]
    },
    {
      "cell_type": "code",
      "execution_count": 26,
      "metadata": {
        "colab": {
          "base_uri": "https://localhost:8080/"
        },
        "id": "hEtVM5YAyGGR",
        "outputId": "29324f02-2f75-40f5-e151-abeb17876652"
      },
      "outputs": [
        {
          "name": "stdout",
          "output_type": "stream",
          "text": [
            "    Accuracy  Precision    Recall\n",
            "SV  0.508772   0.067416  0.857143\n",
            "RF  0.865497   0.192308  0.714286\n",
            "NB  0.169591   0.040816  0.857143\n"
          ]
        }
      ],
      "source": [
        "test_results_balanced = test_set(X_train_os, y_train_os)\n",
        "print(test_results_balanced)"
      ]
    },
    {
      "cell_type": "code",
      "execution_count": 27,
      "metadata": {
        "colab": {
          "base_uri": "https://localhost:8080/"
        },
        "id": "L0hTn1wJyM6Z",
        "outputId": "74294da7-22f3-44b8-e7b3-87c2d6fd04d1"
      },
      "outputs": [
        {
          "name": "stderr",
          "output_type": "stream",
          "text": [
            "c:\\Users\\ACER\\miniconda3\\envs\\default\\lib\\site-packages\\sklearn\\base.py:474: FutureWarning: `BaseEstimator._validate_data` is deprecated in 1.6 and will be removed in 1.7. Use `sklearn.utils.validation.validate_data` instead. This function becomes public and is part of the scikit-learn developer API.\n",
            "  warnings.warn(\n",
            "c:\\Users\\ACER\\miniconda3\\envs\\default\\lib\\site-packages\\sklearn\\utils\\deprecation.py:151: FutureWarning: 'force_all_finite' was renamed to 'ensure_all_finite' in 1.6 and will be removed in 1.8.\n",
            "  warnings.warn(\n"
          ]
        },
        {
          "name": "stdout",
          "output_type": "stream",
          "text": [
            "    Accuracy  Precision    Recall\n",
            "SV  0.404762   0.430000  0.483333\n",
            "RF  0.552381   0.460000  0.566667\n",
            "NB  0.433333   0.364286  0.550000\n"
          ]
        }
      ],
      "source": [
        "undersample = RandomUnderSampler(sampling_strategy='majority', random_state=123)\n",
        "X_train_us, y_train_us = undersample.fit_resample(X_train, y_train)\n",
        "cv_results_balanced2 = cv(X_train_us, y_train_us)\n",
        "print(cv_results_balanced2)"
      ]
    },
    {
      "cell_type": "code",
      "execution_count": 28,
      "metadata": {
        "colab": {
          "base_uri": "https://localhost:8080/"
        },
        "id": "dlM4bJppypf2",
        "outputId": "f78e0f02-85f7-4740-fcff-777972864258"
      },
      "outputs": [
        {
          "name": "stdout",
          "output_type": "stream",
          "text": [
            "    Accuracy  Precision    Recall\n",
            "SV  0.415205   0.065421  1.000000\n",
            "RF  0.695906   0.090909  0.714286\n",
            "NB  0.134503   0.045161  1.000000\n"
          ]
        }
      ],
      "source": [
        "test_results_balanced = test_set(X_train_us, y_train_us)\n",
        "print(test_results_balanced)"
      ]
    },
    {
      "cell_type": "code",
      "execution_count": 29,
      "metadata": {
        "id": "Vx26Evx5zOOd"
      },
      "outputs": [
        {
          "name": "stderr",
          "output_type": "stream",
          "text": [
            "c:\\Users\\ACER\\miniconda3\\envs\\default\\lib\\site-packages\\sklearn\\base.py:474: FutureWarning: `BaseEstimator._validate_data` is deprecated in 1.6 and will be removed in 1.7. Use `sklearn.utils.validation.validate_data` instead. This function becomes public and is part of the scikit-learn developer API.\n",
            "  warnings.warn(\n",
            "c:\\Users\\ACER\\miniconda3\\envs\\default\\lib\\site-packages\\sklearn\\utils\\deprecation.py:151: FutureWarning: 'force_all_finite' was renamed to 'ensure_all_finite' in 1.6 and will be removed in 1.8.\n",
            "  warnings.warn(\n",
            "c:\\Users\\ACER\\miniconda3\\envs\\default\\lib\\site-packages\\sklearn\\base.py:474: FutureWarning: `BaseEstimator._validate_data` is deprecated in 1.6 and will be removed in 1.7. Use `sklearn.utils.validation.validate_data` instead. This function becomes public and is part of the scikit-learn developer API.\n",
            "  warnings.warn(\n",
            "c:\\Users\\ACER\\miniconda3\\envs\\default\\lib\\site-packages\\sklearn\\utils\\deprecation.py:151: FutureWarning: 'force_all_finite' was renamed to 'ensure_all_finite' in 1.6 and will be removed in 1.8.\n",
            "  warnings.warn(\n"
          ]
        }
      ],
      "source": [
        "oversample = RandomOverSampler(sampling_strategy=0.5, random_state=123)\n",
        "X_train_os, y_train_os = oversample.fit_resample(X_train, y_train)\n",
        "\n",
        "undersample = RandomUnderSampler(sampling_strategy=0.5, random_state=123)\n",
        "X_train_us, y_train_us = undersample.fit_resample(X_train_os, y_train_os)"
      ]
    },
    {
      "cell_type": "code",
      "execution_count": 30,
      "metadata": {
        "id": "U5pMrPz_z0j9"
      },
      "outputs": [],
      "source": [
        "cv_results_balanced_comb = cv(X_train_us, y_train_us)\n",
        "test_results_balanced_comb = test_set(X_train_us, y_train_us)"
      ]
    },
    {
      "cell_type": "code",
      "execution_count": 31,
      "metadata": {
        "colab": {
          "base_uri": "https://localhost:8080/"
        },
        "id": "nnxWkEvSz41x",
        "outputId": "938d687f-446f-4977-f91f-7e75cfc5664b"
      },
      "outputs": [
        {
          "name": "stdout",
          "output_type": "stream",
          "text": [
            "    Accuracy  Precision    Recall\n",
            "SV  0.710526   0.635226  0.342105\n",
            "RF  0.950877   0.972581  0.878947\n",
            "NB  0.436842   0.372012  1.000000\n"
          ]
        }
      ],
      "source": [
        "print(cv_results_balanced_comb)"
      ]
    },
    {
      "cell_type": "code",
      "execution_count": 32,
      "metadata": {
        "colab": {
          "base_uri": "https://localhost:8080/"
        },
        "id": "uzR-IRZNz6dv",
        "outputId": "fa875cfe-2401-4ad7-abd8-e27d7a168bdf"
      },
      "outputs": [
        {
          "name": "stdout",
          "output_type": "stream",
          "text": [
            "    Accuracy  Precision    Recall\n",
            "SV  0.842105   0.083333  0.285714\n",
            "RF  0.964912   0.600000  0.428571\n",
            "NB  0.169591   0.040816  0.857143\n"
          ]
        }
      ],
      "source": [
        "print(test_results_balanced_comb)"
      ]
    }
  ],
  "metadata": {
    "colab": {
      "provenance": []
    },
    "kernelspec": {
      "display_name": "default",
      "language": "python",
      "name": "python3"
    },
    "language_info": {
      "codemirror_mode": {
        "name": "ipython",
        "version": 3
      },
      "file_extension": ".py",
      "mimetype": "text/x-python",
      "name": "python",
      "nbconvert_exporter": "python",
      "pygments_lexer": "ipython3",
      "version": "3.9.12"
    }
  },
  "nbformat": 4,
  "nbformat_minor": 0
}
